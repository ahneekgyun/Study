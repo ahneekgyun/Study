{
  "cells": [
    {
      "cell_type": "markdown",
      "metadata": {
        "id": "view-in-github",
        "colab_type": "text"
      },
      "source": [
        "<a href=\"https://colab.research.google.com/github/ahneekgyun/Study/blob/main/Python_study.ipynb\" target=\"_parent\"><img src=\"https://colab.research.google.com/assets/colab-badge.svg\" alt=\"Open In Colab\"/></a>"
      ]
    },
    {
      "cell_type": "markdown",
      "metadata": {
        "id": "5ziCzkyRcJA_"
      },
      "source": [
        "파이썬 기초 공부 \"파이썬의 정석 _BohYoh Shibata 지음 최하영 옮김_\""
      ]
    },
    {
      "cell_type": "code",
      "execution_count": null,
      "metadata": {
        "id": "-lkHi_q8cPm5"
      },
      "outputs": [],
      "source": [
        "# 2진수/8진수/16진수"
      ]
    },
    {
      "cell_type": "code",
      "execution_count": null,
      "metadata": {
        "colab": {
          "base_uri": "https://localhost:8080/"
        },
        "id": "0qPpus6DcbhI",
        "outputId": "b9b0defa-c672-4287-8228-9c5fbfa9055b"
      },
      "outputs": [
        {
          "data": {
            "text/plain": [
              "2"
            ]
          },
          "execution_count": 12,
          "metadata": {},
          "output_type": "execute_result"
        }
      ],
      "source": [
        "0b10"
      ]
    },
    {
      "cell_type": "code",
      "execution_count": null,
      "metadata": {
        "colab": {
          "base_uri": "https://localhost:8080/"
        },
        "id": "sVm7VVW1cd67",
        "outputId": "1baa3757-9449-4cfc-c27b-f57e0eb7ddc0"
      },
      "outputs": [
        {
          "data": {
            "text/plain": [
              "9"
            ]
          },
          "execution_count": 13,
          "metadata": {},
          "output_type": "execute_result"
        }
      ],
      "source": [
        "0o11"
      ]
    },
    {
      "cell_type": "code",
      "execution_count": null,
      "metadata": {
        "colab": {
          "base_uri": "https://localhost:8080/"
        },
        "id": "cKEbetCecf6Q",
        "outputId": "706b01a8-4baa-47d7-f172-f4a50a968929"
      },
      "outputs": [
        {
          "data": {
            "text/plain": [
              "273"
            ]
          },
          "execution_count": 14,
          "metadata": {},
          "output_type": "execute_result"
        }
      ],
      "source": [
        "0x111"
      ]
    },
    {
      "cell_type": "code",
      "execution_count": null,
      "metadata": {
        "colab": {
          "base_uri": "https://localhost:8080/"
        },
        "id": "3rDfrdCWciaB",
        "outputId": "a68aa399-30e5-453b-fe5e-d03539464c9d"
      },
      "outputs": [
        {
          "data": {
            "text/plain": [
              "273"
            ]
          },
          "execution_count": 15,
          "metadata": {},
          "output_type": "execute_result"
        }
      ],
      "source": [
        "16*16 + 16 + 1"
      ]
    },
    {
      "cell_type": "code",
      "execution_count": null,
      "metadata": {
        "colab": {
          "base_uri": "https://localhost:8080/"
        },
        "id": "2jQ6WMBGcoPs",
        "outputId": "d69169b7-dad8-40ca-fe88-fbbabfbd3a8c"
      },
      "outputs": [
        {
          "name": "stdout",
          "output_type": "stream",
          "text": [
            "12300\n",
            "100000.0\n"
          ]
        }
      ],
      "source": [
        "#정수값에 밑줄 문자 넣기 가능\n",
        "print(1_2300)\n",
        "# e5 는 10의 5제곱을 나타내고 e-7은 10의 마이너스7제곱을 나타냄\n",
        "print(1e5)"
      ]
    },
    {
      "cell_type": "code",
      "execution_count": null,
      "metadata": {
        "colab": {
          "base_uri": "https://localhost:8080/",
          "height": 92
        },
        "id": "ROjc42cUdA0B",
        "outputId": "99756df8-4a47-4ad9-ec1f-fbc720547c2a"
      },
      "outputs": [
        {
          "output_type": "stream",
          "name": "stdout",
          "text": [
            "hi my name is\n",
            "ahn\n",
            "ahn\n"
          ]
        },
        {
          "output_type": "execute_result",
          "data": {
            "text/plain": [
              "\"'string'\""
            ],
            "application/vnd.google.colaboratory.intrinsic+json": {
              "type": "string"
            }
          },
          "metadata": {},
          "execution_count": 1
        }
      ],
      "source": [
        "#이스케이프 스퀀스 ㅇㅇ\n",
        "\"\"\"\n",
        "/a : 벨 소리, 청각적 시각적 경보를 생성\n",
        "/b : 백스페이스, 커서를 한 칸 앞으로 이동\n",
        "/f : 폼피드(form feed), 커서 위치를 페이지의 처음으로 이동\n",
        "/n : 줄 바꿈, 문자열 안에서 행을 바꿈\n",
        "/r : 캐리지 리턴, 현재 커서를 행의 가장 앞으로 이동\n",
        "/t : 탭 문자, 행 내에 다음 탭 위치로 이동\n",
        "/v : 수직 탭, 다음의 수직 탭 위치로 이동\n",
        "//\n",
        "/?\n",
        "/'\n",
        "/\"\n",
        "/newline : 역슬래쉬와 개행 문자를 무시\n",
        "/ooo : 1~3 자리수인 8진수 ooo\n",
        "/xhh : 2자리수인 16진수 hh\n",
        "\"\"\"\n",
        "print(\"hi my name is\\nahn\")\n",
        "print(\"\"\"ahn\"\"\")\n",
        "'''string'''\n",
        "\"'string'\""
      ]
    },
    {
      "cell_type": "code",
      "execution_count": null,
      "metadata": {
        "colab": {
          "base_uri": "https://localhost:8080/"
        },
        "id": "joVuMrhRfowW",
        "outputId": "c957f587-6d7e-4594-fe11-7587a938ba85"
      },
      "outputs": [
        {
          "name": "stdout",
          "output_type": "stream",
          "text": [
            "abcdef\n",
            "공백이 자동으로 없어짐 이는 연산이 된 것이 아님\n"
          ]
        }
      ],
      "source": [
        "# 나란히 있는 문자의 결합\n",
        "print('abc'   'def')\n",
        "print('공백이 자동으로 없어짐 이는 연산이 된 것이 아님')"
      ]
    },
    {
      "cell_type": "code",
      "execution_count": null,
      "metadata": {
        "colab": {
          "base_uri": "https://localhost:8080/"
        },
        "id": "ugI2fNfJhGDX",
        "outputId": "04235d78-3c12-4438-c21d-f62145f78d91"
      },
      "outputs": [
        {
          "name": "stdout",
          "output_type": "stream",
          "text": [
            "역슬래쉬가 여러 번 사용되는 경로를 입력하는 경우에 자주 사용\n"
          ]
        }
      ],
      "source": [
        "#raw 문자열 리터럴, 이스케이프 시퀀스를 입력한 값 그대로 처리함\n",
        "print(r'\\\\')\n",
        "print('C\\\\:\\\\rubypaper\\\\test')\n",
        "print(r'C\\:\\rubypaper\\test')\n",
        "print(\"역슬래쉬가 여러 번 사용되는 경로를 입력하는 경우에 자주 사용\")"
      ]
    },
    {
      "cell_type": "code",
      "execution_count": null,
      "metadata": {
        "colab": {
          "base_uri": "https://localhost:8080/"
        },
        "id": "6da8i1mXhnbT",
        "outputId": "42e3e0c0-0063-4864-87b8-9d4202201965"
      },
      "outputs": [
        {
          "name": "stdout",
          "output_type": "stream",
          "text": [
            "1 1 한번에 두 변수에 같은 값을 넣기\n",
            "1 2 3 여러 개의 변수에 다른 값을 한 번에 대입하기\n",
            "2 6 여러 개의 변수에 일괄적으로 한 번에 대입하기\n"
          ]
        }
      ],
      "source": [
        "# 편리한 변수 대입 법\n",
        "x = y = 1\n",
        "print(x,y, \"한번에 두 변수에 같은 값을 넣기\")\n",
        "x,y,z = 1,2,3\n",
        "print(x,y,z, \"여러 개의 변수에 다른 값을 한 번에 대입하기\")\n",
        "x = 6\n",
        "y = 2\n",
        "x,y = y, x\n",
        "print(x,y, '여러 개의 변수에 일괄적으로 한 번에 대입하기')"
      ]
    },
    {
      "cell_type": "code",
      "execution_count": null,
      "metadata": {
        "colab": {
          "base_uri": "https://localhost:8080/"
        },
        "id": "dBwYd2u9jp-8",
        "outputId": "37f033cc-8f37-411a-b2b6-7a0236433041"
      },
      "outputs": [
        {
          "data": {
            "text/plain": [
              "5"
            ]
          },
          "execution_count": 38,
          "metadata": {},
          "output_type": "execute_result"
        }
      ],
      "source": [
        "# 행 에에 \\ 를 사용한 행의 연속 (단 \\뒤에 공백이 없어야함)\n",
        "x \\\n",
        "= 5\n",
        "x"
      ]
    },
    {
      "cell_type": "code",
      "execution_count": null,
      "metadata": {
        "colab": {
          "base_uri": "https://localhost:8080/"
        },
        "id": "X89RmVHRlhmL",
        "outputId": "e58469b3-4660-4f6f-dd2b-25e3accd70a8"
      },
      "outputs": [
        {
          "data": {
            "text/plain": [
              "8"
            ]
          },
          "execution_count": 40,
          "metadata": {},
          "output_type": "execute_result"
        }
      ],
      "source": [
        "# 인터랙티브 셸에서 가장 최근에 표시한 값은 문자\"_\"라는 변수에 저장됨\n",
        "5 + 3"
      ]
    },
    {
      "cell_type": "code",
      "execution_count": null,
      "metadata": {
        "colab": {
          "base_uri": "https://localhost:8080/"
        },
        "id": "AO5OaHXDl4VC",
        "outputId": "05b75ffe-4936-4679-9fb0-db56c494a701"
      },
      "outputs": [
        {
          "data": {
            "text/plain": [
              "32"
            ]
          },
          "execution_count": 41,
          "metadata": {},
          "output_type": "execute_result"
        }
      ],
      "source": [
        "_ * 4"
      ]
    },
    {
      "cell_type": "code",
      "execution_count": null,
      "metadata": {
        "colab": {
          "base_uri": "https://localhost:8080/"
        },
        "id": "UDVe4nOQmCWf",
        "outputId": "09184c2b-bc8f-4053-9090-44549152cb84"
      },
      "outputs": [
        {
          "name": "stdout",
          "output_type": "stream",
          "text": [
            "The Zen of Python, by Tim Peters\n",
            "\n",
            "Beautiful is better than ugly.\n",
            "Explicit is better than implicit.\n",
            "Simple is better than complex.\n",
            "Complex is better than complicated.\n",
            "Flat is better than nested.\n",
            "Sparse is better than dense.\n",
            "Readability counts.\n",
            "Special cases aren't special enough to break the rules.\n",
            "Although practicality beats purity.\n",
            "Errors should never pass silently.\n",
            "Unless explicitly silenced.\n",
            "In the face of ambiguity, refuse the temptation to guess.\n",
            "There should be one-- and preferably only one --obvious way to do it.\n",
            "Although that way may not be obvious at first unless you're Dutch.\n",
            "Now is better than never.\n",
            "Although never is often better than *right* now.\n",
            "If the implementation is hard to explain, it's a bad idea.\n",
            "If the implementation is easy to explain, it may be a good idea.\n",
            "Namespaces are one honking great idea -- let's do more of those!\n"
          ]
        }
      ],
      "source": [
        "import this"
      ]
    },
    {
      "cell_type": "code",
      "execution_count": null,
      "metadata": {
        "colab": {
          "base_uri": "https://localhost:8080/"
        },
        "id": "ms25qeE-mGEH",
        "outputId": "4029d64b-0787-4b03-dca0-37f745392532"
      },
      "outputs": [
        {
          "name": "stdout",
          "output_type": "stream",
          "text": [
            "hello\n",
            "nice to meet you!\n",
            "hi.nice to meet you\n",
            "hi\n",
            "nice to meet you\n"
          ]
        }
      ],
      "source": [
        "# print와 개행 활용법\n",
        "print('hello')\n",
        "print('nice to meet you!')\n",
        "\n",
        "print('hi.',end='')\n",
        "print('nice to meet you')\n",
        "\n",
        "print('hi\\nnice to meet you')"
      ]
    },
    {
      "cell_type": "code",
      "execution_count": null,
      "metadata": {
        "colab": {
          "base_uri": "https://localhost:8080/"
        },
        "id": "OuZ87AZi-Cin",
        "outputId": "e43064f9-a8ea-491a-99fb-7a3d5c4213df"
      },
      "outputs": [
        {
          "name": "stdout",
          "output_type": "stream",
          "text": [
            "whats your name?:ek\n",
            "whats your name?:ek\n",
            "hi ek !\n"
          ]
        }
      ],
      "source": [
        "#input 함수\n",
        "print('whats your name?:',end='')\n",
        "name = input()\n",
        "\n",
        "#input 함수의 인수\n",
        "name = input('whats your name?:')\n",
        "print('hi',name,'!')"
      ]
    },
    {
      "cell_type": "code",
      "execution_count": null,
      "metadata": {
        "colab": {
          "base_uri": "https://localhost:8080/"
        },
        "id": "BkVbb15qDAk4",
        "outputId": "90da869e-ef81-4ff9-b581-b60b4419fe91"
      },
      "outputs": [
        {
          "name": "stdout",
          "output_type": "stream",
          "text": [
            "what is your name?:ek\n",
            "hi ek !!\n"
          ]
        }
      ],
      "source": [
        "#여러 문자열 출력하기\n",
        "\n",
        "# 이름을 입력받아 출력하기\n",
        "name = input('what is your name?:')\n",
        "print('hi',name,'!!')"
      ]
    },
    {
      "cell_type": "markdown",
      "metadata": {
        "id": "3O7d9QVGEjfx"
      },
      "source": [
        "출력 결과를 보면 print에서 , 로 구분된 문자열 사이사이에 공백이 생김을 알 수 있다.\n",
        "이와 관련한 내용을 알아보자"
      ]
    },
    {
      "cell_type": "code",
      "execution_count": null,
      "metadata": {
        "colab": {
          "base_uri": "https://localhost:8080/"
        },
        "id": "22DqwxNsEyjS",
        "outputId": "e3b98ed1-29b3-4a60-b4b0-fe8448569237"
      },
      "outputs": [
        {
          "name": "stdout",
          "output_type": "stream",
          "text": [
            "what is your name?:익균\n",
            "hi익균!!\n",
            "hi\n",
            "익균\n",
            "!!\n",
            "hi---익균---!!\n",
            "hi익균!!\n",
            "hi 익균!!\n"
          ]
        }
      ],
      "source": [
        "# 인수 sep 에 관하여\n",
        "name = input('what is your name?:')\n",
        "print('hi',name,'!!',sep='')\n",
        "print('hi',name,'!!',sep='\\n')\n",
        "print('hi',name,'!!',sep='---')\n",
        "\n",
        "# + 로 문자열을 연결하는 방법\n",
        "print('hi' + name + '!!')\n",
        "print('hi', name + '!!')"
      ]
    },
    {
      "cell_type": "code",
      "execution_count": null,
      "metadata": {
        "colab": {
          "base_uri": "https://localhost:8080/"
        },
        "id": "pSbEPWNmFA6y",
        "outputId": "c21acd87-084b-4b7d-f06d-2586c76dc7ba"
      },
      "outputs": [
        {
          "name": "stdout",
          "output_type": "stream",
          "text": [
            "integer a:4\n",
            "16\n"
          ]
        }
      ],
      "source": [
        "# input, 문자와 수에 관하여\n",
        "s = int(input('integer a:'))  #input은 문자열을 받아옴으로 연산을 위해서는 변환이 꼭 필요함\n",
        "print(s*s)"
      ]
    },
    {
      "cell_type": "code",
      "execution_count": null,
      "metadata": {
        "colab": {
          "base_uri": "https://localhost:8080/"
        },
        "id": "zYBJJ_ZmGNYI",
        "outputId": "b243656e-25fe-40bb-9233-e80da7fddcd7"
      },
      "outputs": [
        {
          "name": "stdout",
          "output_type": "stream",
          "text": [
            "0b111110\n",
            "0o75\n",
            "0x3f\n"
          ]
        }
      ],
      "source": [
        "# 10진법 이외의 문자열을 표현하는 방법\n",
        "int('0b110',2)\n",
        "int('13',10)\n",
        "int('0x3F',16)\n",
        "\n",
        "# n진수 문자열로 변환하는 법\n",
        "print(bin(62))   #2진수\n",
        "print(oct(61))   #8진수\n",
        "print(hex(63))   #16진수"
      ]
    },
    {
      "cell_type": "code",
      "execution_count": null,
      "metadata": {
        "colab": {
          "base_uri": "https://localhost:8080/"
        },
        "id": "GJfDfw_oG02h",
        "outputId": "fb29a1d9-cd73-4577-acac-2ee484fced01"
      },
      "outputs": [
        {
          "name": "stdout",
          "output_type": "stream",
          "text": [
            "integer. a:1\n",
            "integer. b:2\n",
            "sum of a and b is 3!\n",
            "sum of 1 and 2 is 3\n"
          ]
        }
      ],
      "source": [
        "# format 메소드를 이용한 문자열 서식화\n",
        "\n",
        "a = int(input('integer. a:'))\n",
        "b = int(input('integer. b:'))\n",
        "\n",
        "print('sum of a and b is {}!'.format(a+b))\n",
        "print('sum of {} and {} is {}'.format(a,b,a+b))\n"
      ]
    },
    {
      "cell_type": "code",
      "execution_count": null,
      "metadata": {
        "colab": {
          "base_uri": "https://localhost:8080/"
        },
        "id": "zwani3DIIQKT",
        "outputId": "4a9a59c1-a349-4504-ea2a-9cbf67fda262"
      },
      "outputs": [
        {
          "name": "stdout",
          "output_type": "stream",
          "text": [
            "원의 둘레,넓이 구하기 원주는 3.14\n",
            "반지름:7.2\n",
            "원의 둘레는 45.216\n",
            "원의 넓이는 162.7776\n",
            "\n",
            "원의 둘레,넓이 구하기 원주는 3.141592\n",
            "반지름:7.2\n",
            "원의 둘레는 45.23892480000001\n",
            "원의 넓이는 162.86012928000002\n"
          ]
        }
      ],
      "source": [
        "# 원의 둘레와 넓이 구하기 (원주 3.14로 계산)\n",
        "\n",
        "print('원의 둘레,넓이 구하기 원주는 3.14')\n",
        "r = float(input('반지름:'))\n",
        "\n",
        "print('원의 둘레는 {}'.format(2*3.14*r))\n",
        "print('원의 넓이는 {}'.format(3.14*r*r))\n",
        "\n",
        "#이 코드의 문제는 무엇일까?\n",
        "#바로 3.14가 매직넘버라는 점이다. 작성자 이외에는 파악이 어렵다는 뜻이다\n",
        "#해결을 위해 적절한 변수를 만들어 코드를 작성하는 것이 바람직하다.\n",
        "\n",
        "print('\\n원의 둘레,넓이 구하기 원주는 3.141592')\n",
        "\n",
        "PI = 3.141592\n",
        "r = float(input('반지름:'))\n",
        "\n",
        "print('원의 둘레는 {}'.format(2*PI*r))\n",
        "print('원의 넓이는 {}'.format(PI*r*r))\n",
        "\n",
        "# 이렇게 변수를 사용하면 코드 수정시 PI변수 하나만 수정하면 전체코드가 수정됨 코드의 보존성 향상됨\n",
        "# 읽기 쉬운 코드가 된다. = 가독성이 향상됨"
      ]
    },
    {
      "cell_type": "code",
      "execution_count": null,
      "metadata": {
        "colab": {
          "base_uri": "https://localhost:8080/"
        },
        "id": "1vJz_n8XI80a",
        "outputId": "14190b1f-af77-4b1a-e760-01c7bd68b1ef"
      },
      "outputs": [
        {
          "name": "stdout",
          "output_type": "stream",
          "text": [
            "정수를 입력하세요 :-2\n",
            "0 또는 음의 정수입니다.\n"
          ]
        }
      ],
      "source": [
        "# if문\n",
        "\n",
        "#입력받은 수가 양의 정수인지 확인하기\n",
        "\n",
        "n = int(input('정수를 입력하세요 :'))\n",
        "\n",
        "if n > 0 :\n",
        "  print('양의 정수입니다')\n",
        "\n",
        "#양의 정수가 아니면 0또는 음의 정수라고 출력하기\n",
        "\n",
        "else :\n",
        "  print('0 또는 음의 정수입니다.')"
      ]
    },
    {
      "cell_type": "code",
      "execution_count": null,
      "metadata": {
        "colab": {
          "base_uri": "https://localhost:8080/"
        },
        "id": "1Wth9wb-NZy0",
        "outputId": "0d02590f-e533-421f-b395-e1ba735bdafe"
      },
      "outputs": [
        {
          "name": "stdout",
          "output_type": "stream",
          "text": [
            "첫 번째 정수를 입력하세요:1\n",
            "두 번째 정수를 입력하세요:2\n",
            "두 정수는 같지 않습니다\n"
          ]
        }
      ],
      "source": [
        "# 입력 받은 두 정수의 값이 같은지 확인하기\n",
        "\n",
        "a = int(input('첫 번째 정수를 입력하세요:'))\n",
        "b = int(input('두 번째 정수를 입력하세요:'))\n",
        "\n",
        "if a==b :\n",
        "  print('두 정수는 같습니다')\n",
        "else :\n",
        "  print('두 정수는 같지 않습니다')"
      ]
    },
    {
      "cell_type": "code",
      "execution_count": null,
      "metadata": {
        "colab": {
          "base_uri": "https://localhost:8080/"
        },
        "id": "r7xfSh3pOOhC",
        "outputId": "4c269585-b5c8-454f-d38f-271cd61cf21c"
      },
      "outputs": [
        {
          "name": "stdout",
          "output_type": "stream",
          "text": [
            "정수를 입력하세요:0\n",
            "0입니다\n"
          ]
        }
      ],
      "source": [
        "# 입력받은 정수를 구분하기\n",
        "\n",
        "n = int(input('정수를 입력하세요:'))\n",
        "\n",
        "if n>0 :\n",
        "  print('양의 정수입니다')\n",
        "elif n==0 :\n",
        "  print('0입니다')\n",
        "else :\n",
        "  print('음의 정수입니다')"
      ]
    },
    {
      "cell_type": "code",
      "execution_count": null,
      "metadata": {
        "colab": {
          "base_uri": "https://localhost:8080/"
        },
        "id": "jLM5msQeOt02",
        "outputId": "a32feffa-e949-46cb-e7aa-44f559b987ca"
      },
      "outputs": [
        {
          "name": "stdout",
          "output_type": "stream",
          "text": [
            "정수 값:-3\n",
            "음수입니다\n"
          ]
        }
      ],
      "source": [
        "# if 문의 나열\n",
        "\n",
        "# 숫자를 입력받아 양수인지, 그리고 홀수인지 확인하기\n",
        "\n",
        "n = int(input('정수 값:'))\n",
        "\n",
        "if n>0 :\n",
        "  print('양수입니다')\n",
        "  if n%2 == 1 :\n",
        "    print('홀수입니다')\n",
        "  else :\n",
        "    print('짝수입니다')\n",
        "else :\n",
        "  print('음수입니다')"
      ]
    },
    {
      "cell_type": "code",
      "execution_count": null,
      "metadata": {
        "colab": {
          "base_uri": "https://localhost:8080/"
        },
        "id": "AMKCIy5qPUPF",
        "outputId": "c2ac43e8-a916-4dce-f6ed-b48ecf210db4"
      },
      "outputs": [
        {
          "name": "stdout",
          "output_type": "stream",
          "text": [
            "숫자를 입력하세요:4\n",
            "양수입니다\n"
          ]
        }
      ],
      "source": [
        "# pass 문\n",
        "\n",
        "# 입력받은 숫자의 부호를 표시하기 (0인경우 패스하기)\n",
        "\n",
        "n = int(input('숫자를 입력하세요:'))\n",
        "\n",
        "if n>0 :\n",
        "  print('양수입니다')\n",
        "elif n==0 :\n",
        "  pass\n",
        "else :\n",
        "  print('음수입니다')"
      ]
    },
    {
      "cell_type": "code",
      "execution_count": null,
      "metadata": {
        "colab": {
          "base_uri": "https://localhost:8080/"
        },
        "id": "kDBJDmWSQH86",
        "outputId": "ed370924-28f4-4546-ad32-b6c7ecbf4706"
      },
      "outputs": [
        {
          "name": "stdout",
          "output_type": "stream",
          "text": [
            "6\n"
          ]
        }
      ],
      "source": [
        "# bool tpye 논리형 타입!\n",
        "print(True + 5)\n",
        "\n",
        "#True 는 숫자1, False 는 숫자 0 이다. 이를 활용하여 코딩하는 경우가 있다."
      ]
    },
    {
      "cell_type": "markdown",
      "metadata": {
        "id": "rfJ_MVNpQ36W"
      },
      "source": [
        "## 식과 평가\n",
        "\n",
        "### 식 (expression) 은 아래 세 가지의 총칭이다.\n",
        "변수.\n",
        "리터럴.\n",
        "변수와 리터럴을 연산자로 결합한 것\n",
        "\n",
        "### 평가 (evaluation)\n",
        "식에는 '타입'과 '값' 있고 프로그램을 실행할 때도식의 '값'을 확인하는 것을 '평가'라고 합니다.\n",
        "\n",
        "ex) 덧셈식의 평가\n",
        "int(타입) 52(값) + int(타입) 135(값) 를 실행하면 식이 평가된다.\n",
        "식을 평가하면 타입과 값을 알 수 있다. 밑에 int 187을 알다된 것이다\n",
        "int 187"
      ]
    },
    {
      "cell_type": "code",
      "execution_count": null,
      "metadata": {
        "colab": {
          "base_uri": "https://localhost:8080/"
        },
        "id": "5NdzDQVDRSjQ",
        "outputId": "7e18e6b7-4eb4-49ca-8146-1f4277482deb"
      },
      "outputs": [
        {
          "name": "stdout",
          "output_type": "stream",
          "text": [
            "정수를 입력하세요:2\n",
            "한 자리 입니다\n"
          ]
        }
      ],
      "source": [
        "# 논리 연산자\n",
        "\n",
        "# 입력받은 수의 자릿수 알아보기(0, 한 자리, 두 자리 이상)\n",
        "\n",
        "n = int(input('정수를 입력하세요:'))\n",
        "\n",
        "if n==0 :\n",
        "  print('0입니다')\n",
        "elif n > -10 and n < 10 :\n",
        "  print('한 자리 입니다')\n",
        "else :\n",
        "  print('두 자리  이상 입니다')"
      ]
    },
    {
      "cell_type": "markdown",
      "metadata": {
        "id": "f34LDw9gECVg"
      },
      "source": [
        "### 논리 연산자의 중요한 특징\n",
        "x and y : x를 평가해서 거짓이면 그 값을 생성한다. 그렇지 않으면 y를 평가하여 그 값을 생성한다\n",
        "x or y : x를 평가해서 참이면 그 값을 생성한다. 그렇지 않으면 y를 평여하여 그 값을 생성한다.\n",
        "not : x 가 참이면 False, 그렇지 않으면 True를 생성합니다.\n",
        "\n",
        "즉 and나 or은 그 결과가 꼭 bool type 이지 않다는 것이다.\n",
        "예를들어 1 != 0 and 2 * 2 를 실행하면 4라는 값을 생성한다."
      ]
    },
    {
      "cell_type": "code",
      "execution_count": null,
      "metadata": {
        "colab": {
          "base_uri": "https://localhost:8080/"
        },
        "id": "GV6OkAIMEFvn",
        "outputId": "16e71868-a389-4a12-d084-31eb93a43501"
      },
      "outputs": [
        {
          "name": "stdout",
          "output_type": "stream",
          "text": [
            "정수 a : 2\n",
            "정수 b : 2\n",
            "0...b는 0이거나, a는 b로 나누어 떨어집니다\n"
          ]
        }
      ],
      "source": [
        "# a가 b로 나누어 떨어지는지 알아보기\n",
        "\n",
        "a = int(input('정수 a : '))\n",
        "b = int(input('정수 b : '))\n",
        "\n",
        "c = b!= 0 and a % b\n",
        "print(c,end='...')\n",
        "\n",
        "if c :\n",
        "  print('나누어 떨어지지 않습니다')\n",
        "else :\n",
        "  print('b는 0이거나, a는 b로 나누어 떨어집니다')\n",
        "\n"
      ]
    },
    {
      "cell_type": "code",
      "execution_count": null,
      "metadata": {
        "colab": {
          "base_uri": "https://localhost:8080/"
        },
        "id": "-lG001C1E0xo",
        "outputId": "8d60c827-f802-430a-dbe6-fc66e43cd7b3"
      },
      "outputs": [
        {
          "name": "stdout",
          "output_type": "stream",
          "text": [
            "False\n"
          ]
        }
      ],
      "source": [
        "# and 연산의 매커니즘\n",
        "\n",
        "print(1 == 0 and 2 / 0)\n",
        "\n",
        "# print(2 / 0 and 1 == 0)\n",
        "\n",
        "# 첫 번째 프린트문은 1 == 0이 거짓인 순간 False 를 생성하고 끝낸다. 뒤에 2/0을 계산하지 않는다 그렇기에 오류도 없다\n",
        "# 주석처리한 프린트문은 오류가 생긴다. 2 / 0 이 불가능하기 때문이다."
      ]
    },
    {
      "cell_type": "code",
      "execution_count": null,
      "metadata": {
        "colab": {
          "base_uri": "https://localhost:8080/"
        },
        "id": "e4DwhPmzG2o1",
        "outputId": "ed7cf255-72b3-460e-9ae4-f2128c44f1fb"
      },
      "outputs": [
        {
          "name": "stdout",
          "output_type": "stream",
          "text": [
            "정수 a :14\n",
            "정수 b :3\n",
            "a // b = 4\n"
          ]
        }
      ],
      "source": [
        "# b가 0이 아닌 경우에만 a를 b로 나눈 몫 출력하기\n",
        "\n",
        "a = int(input('정수 a :'))\n",
        "b = int(input('정수 b :'))\n",
        "\n",
        "b == 0 or print('a // b =', a//b)"
      ]
    },
    {
      "cell_type": "code",
      "execution_count": null,
      "metadata": {
        "colab": {
          "base_uri": "https://localhost:8080/"
        },
        "id": "AeKWOj0OICXG",
        "outputId": "8eb5f26e-f6ed-4bfc-968f-ee9cc305c29b"
      },
      "outputs": [
        {
          "name": "stdout",
          "output_type": "stream",
          "text": [
            "계절을 알아봅시다\n",
            "몇 월 입니까?12\n",
            "Winter\n"
          ]
        }
      ],
      "source": [
        "# 입력받은 달의 계절을 알아보기\n",
        "\n",
        "month = int(input('계절을 알아봅시다\\n몇 월 입니까?'))\n",
        "\n",
        "if month >= 3 and month <= 5 :\n",
        "  print('Spring')\n",
        "elif month >= 6 and month <= 8 :\n",
        "  print('Summer')\n",
        "elif month >= 9 and month <= 11 :\n",
        "  print('Fall')\n",
        "elif (month == 1 or\n",
        "      month == 2 or\n",
        "      month == 12\n",
        "      ):\n",
        "  print('Winter')"
      ]
    },
    {
      "cell_type": "code",
      "execution_count": null,
      "metadata": {
        "colab": {
          "base_uri": "https://localhost:8080/"
        },
        "id": "WElS1RxcKITo",
        "outputId": "497b3105-c5dd-4572-f813-5bfb7250c98a"
      },
      "outputs": [
        {
          "name": "stdout",
          "output_type": "stream",
          "text": [
            "계절을 알아봅시다\n",
            "몇 월 입니까?7\n",
            "Summer\n"
          ]
        }
      ],
      "source": [
        "# 입력받은 달의 계절을 알아보기 (연속한 비교연산자 활용)\n",
        "\n",
        "month = int(input('계절을 알아봅시다\\n몇 월 입니까?'))\n",
        "\n",
        "if 3 <= month <= 5 :\n",
        "  print('Spring')\n",
        "elif 6 <= month <= 8 :\n",
        "  print('Summer')\n",
        "elif 9 <= month <= 11 :\n",
        "  print('Fall')\n",
        "elif (month == 1 or\n",
        "      month == 2 or\n",
        "      month == 12\n",
        "      ):\n",
        "  print('Winter')"
      ]
    },
    {
      "cell_type": "code",
      "execution_count": null,
      "metadata": {
        "colab": {
          "base_uri": "https://localhost:8080/"
        },
        "id": "xxCMhRzSKkzs",
        "outputId": "fca4edc8-3692-4602-8752-9b5a45d1b9f4"
      },
      "outputs": [
        {
          "name": "stdout",
          "output_type": "stream",
          "text": [
            "계절을 알아봅시다.\n",
            "몇 월입니까?3\n",
            "Spring\n"
          ]
        }
      ],
      "source": [
        "# 집합을 이용한 판정\n",
        "\n",
        "month = int(input('계절을 알아봅시다.\\n몇 월입니까?'))\n",
        "\n",
        "if month in {3,4,5} :\n",
        "  print('Spring')\n",
        "elif month in {6,7,8} :\n",
        "  print('Summer')\n",
        "elif month in {9,10,11} :\n",
        "  print('Fall')\n",
        "elif month in {12,1,2} :\n",
        "  print('Winter')"
      ]
    },
    {
      "cell_type": "code",
      "execution_count": null,
      "metadata": {
        "colab": {
          "base_uri": "https://localhost:8080/"
        },
        "id": "zJUkpiyaMU8s",
        "outputId": "47a670d6-58d7-4a4d-de30-616c33985446"
      },
      "outputs": [
        {
          "name": "stdout",
          "output_type": "stream",
          "text": [
            "정수를 입력하세요 :2\n",
            "정수를 입력하세요 :4\n",
            "작은 값은 2 입니다.\n"
          ]
        }
      ],
      "source": [
        "# 두 정수 중 작은 값 출력하기\n",
        "\n",
        "a = int(input('정수를 입력하세요 :'))\n",
        "b = int(input('정수를 입력하세요 :'))\n",
        "\n",
        "if a < b :\n",
        "  min2 = a\n",
        "else :\n",
        "  min2 = b\n",
        "print('작은 값은',min2,'입니다.')"
      ]
    },
    {
      "cell_type": "code",
      "execution_count": null,
      "metadata": {
        "colab": {
          "base_uri": "https://localhost:8080/"
        },
        "id": "MeAGMaEuc5JO",
        "outputId": "2141c453-9362-40f9-8e5e-8e13278b1f84"
      },
      "outputs": [
        {
          "name": "stdout",
          "output_type": "stream",
          "text": [
            "정수를 입력하세요 :1\n",
            "정수를 입력하세요 :3\n",
            "작은값은 1\n"
          ]
        }
      ],
      "source": [
        "# 두 정수 중 작은 값 출력하기 if사용 하지 않는 방법\n",
        "\n",
        "a = int(input('정수를 입력하세요 :'))\n",
        "b = int(input('정수를 입력하세요 :'))\n",
        "\n",
        "min2 = a if a<b else b\n",
        "\n",
        "print('작은값은',min2)"
      ]
    },
    {
      "cell_type": "code",
      "execution_count": null,
      "metadata": {
        "colab": {
          "base_uri": "https://localhost:8080/"
        },
        "id": "FNFfhAymdjzh",
        "outputId": "4c274613-4f23-4a91-853b-3d841517f1cc"
      },
      "outputs": [
        {
          "name": "stdout",
          "output_type": "stream",
          "text": [
            "정수 a:2\n",
            "정수 b:4\n",
            "두 수의 차는 2\n"
          ]
        }
      ],
      "source": [
        "# 차 구하기\n",
        "\n",
        "a = int(input('정수 a:'))\n",
        "b = int(input('정수 b:'))\n",
        "\n",
        "print('두 수의 차는', a - b if a>b else b-a)"
      ]
    },
    {
      "cell_type": "code",
      "execution_count": null,
      "metadata": {
        "colab": {
          "base_uri": "https://localhost:8080/"
        },
        "id": "nUK73sA5g7vE",
        "outputId": "dbbb5ddd-d0df-4392-c973-6ee7cad21860"
      },
      "outputs": [
        {
          "name": "stdout",
          "output_type": "stream",
          "text": [
            "수를 입력해주세요 :-3\n",
            "이 값은 음수\n"
          ]
        }
      ],
      "source": [
        "# 조건 연산자 중복사용하기\n",
        "\n",
        "n = int(input('수를 입력해주세요 :'))\n",
        "\n",
        "print('이 값은', ('양수' if n > 0 else '0' if n == 0 else '음수'))"
      ]
    },
    {
      "cell_type": "markdown",
      "metadata": {
        "id": "snkqyglIlvJP"
      },
      "source": [
        "### 중첩된 if 문과 스위트"
      ]
    },
    {
      "cell_type": "code",
      "execution_count": null,
      "metadata": {
        "colab": {
          "base_uri": "https://localhost:8080/"
        },
        "id": "J6vMHd3xnJz2",
        "outputId": "2c55c9ac-6571-4a95-8d6e-33683b661c91"
      },
      "outputs": [
        {
          "name": "stdout",
          "output_type": "stream",
          "text": [
            "수를 입력하세요:4\n",
            " 짝수입니다\n"
          ]
        }
      ],
      "source": [
        "# 입력받은 정수 값이 양수이면, 짝수인지 홀수인지 출력하기\n",
        "\n",
        "n = int(input('수를 입력하세요:'))\n",
        "\n",
        "if n > 0 :\n",
        "  if n % 2 == 0 :\n",
        "    print(' 짝수입니다')\n",
        "  else :\n",
        "    print('홀수입니다')\n",
        "else :\n",
        "  print('양수값이 아닙니다')"
      ]
    },
    {
      "cell_type": "code",
      "execution_count": null,
      "metadata": {
        "colab": {
          "base_uri": "https://localhost:8080/"
        },
        "id": "Cit2z7YDnk4g",
        "outputId": "75a38fc5-61b4-43e4-9ff4-35c0a04dd073"
      },
      "outputs": [
        {
          "name": "stdout",
          "output_type": "stream",
          "text": [
            "수를 입력하세요:3\n",
            "홀수입니대\n"
          ]
        }
      ],
      "source": [
        "# 단순문의 경우 콜론뒤에 바로 작성하는 것이 좋다\n",
        "\n",
        "n = int(input('수를 입력하세요:'))\n",
        "\n",
        "if n > 0 :\n",
        "  if n % 2 == 0 : print(' 짝수입니다')\n",
        "  else : print('홀수입니다')\n",
        "else : print('양수값이 아닙니다')"
      ]
    },
    {
      "cell_type": "code",
      "execution_count": null,
      "metadata": {
        "colab": {
          "base_uri": "https://localhost:8080/"
        },
        "id": "P--CTV7wn9Kk",
        "outputId": "037a532e-5e7b-4288-ba9f-eb0be8958e05"
      },
      "outputs": [
        {
          "name": "stdout",
          "output_type": "stream",
          "text": [
            "수를 입력하세요:3\n",
            "이 수는 양수이면서 홀수입니다\n"
          ]
        }
      ],
      "source": [
        "# 조건 연산자를 활용하여 식 만들기\n",
        "\n",
        "n = int(input('수를 입력하세요:'))\n",
        "\n",
        "if n > 0 :\n",
        "  print('이 수는 양수이면서 {}입니다'.format('홀수' if n%2 else '짝수'))\n",
        "else :\n",
        "  print('양수가 아닌 수 입니다')\n",
        "\n",
        "# 참고\n",
        "# format 안에서 if n%2 라고 쓴 이유는 값이 1이 아니면 false취급 당하기 때문이다\n",
        "# True는 항상 1값으로 표현되는 것을 잊지말자"
      ]
    },
    {
      "cell_type": "code",
      "execution_count": null,
      "metadata": {
        "colab": {
          "base_uri": "https://localhost:8080/"
        },
        "id": "1Iaiey-VpF7R",
        "outputId": "cab4b276-89b2-4276-d0b0-94e9a2713c85"
      },
      "outputs": [
        {
          "name": "stdout",
          "output_type": "stream",
          "text": [
            "수를 입력해주세요 : 2\n",
            "수를 입력해주세요 : 2\n",
            "작은 값은 2 큰 값은 2\n"
          ]
        }
      ],
      "source": [
        "# 작은 값과 큰 값 구하기 (조건연산자를 활용하여)\n",
        "\n",
        "a = int(input('수를 입력해주세요 : '))\n",
        "b = int(input('수를 입력해주세요 : '))\n",
        "\n",
        "(min2,max2) = (a,b) if a < b else (b,a)\n",
        "print('작은 값은',min2,'큰 값은', max2)"
      ]
    },
    {
      "cell_type": "code",
      "execution_count": null,
      "metadata": {
        "colab": {
          "base_uri": "https://localhost:8080/"
        },
        "id": "9XrAD1HZ7XIV",
        "outputId": "7cf6bee2-a71f-4a7f-d74c-c57020bcb057"
      },
      "outputs": [
        {
          "name": "stdout",
          "output_type": "stream",
          "text": [
            "수를 입력해주세요 : 2\n",
            "수를 입력해주세요 : 5\n",
            "수를 입력해주세요 : 3\n",
            "수를 입력해주세요 : 2\n",
            "수를 입력해주세요 : 2\n"
          ]
        }
      ],
      "source": [
        "# 두 값의 오름차순 정렬\n",
        "\n",
        "a = int(input('수를 입력해주세요 : '))\n",
        "b = int(input('수를 입력해주세요 : '))\n",
        "\n",
        "if a>b :\n",
        "  a,b = (b,a)\n",
        "  print(a,b)\n"
      ]
    },
    {
      "cell_type": "code",
      "execution_count": null,
      "metadata": {
        "colab": {
          "base_uri": "https://localhost:8080/"
        },
        "id": "SWvMKdVG9mSJ",
        "outputId": "28ded2fc-e18c-49fe-e404-d5b7ef87f444"
      },
      "outputs": [
        {
          "name": "stdout",
          "output_type": "stream",
          "text": [
            "수를 입력해주세요 : 2\n",
            "수를 입력해주세요 : 4\n",
            "수를 입력해주세요 : 7\n",
            "2 4 7\n"
          ]
        }
      ],
      "source": [
        "# 세 값의 오름차순 정렬\n",
        "\n",
        "a = int(input('수를 입력해주세요 : '))\n",
        "b = int(input('수를 입력해주세요 : '))\n",
        "c = int(input('수를 입력해주세요 : '))\n",
        "\n",
        "if a>b :\n",
        "  a,b = (b,a)\n",
        "  a,b,c = (a,b,c) if c>b else (c,a,b) if c<a else (a,c,b)\n",
        "\n",
        "print(a,b,c)"
      ]
    },
    {
      "cell_type": "code",
      "execution_count": null,
      "metadata": {
        "colab": {
          "base_uri": "https://localhost:8080/"
        },
        "id": "4hV8rf3w_eFD",
        "outputId": "f501cd92-49de-4dac-aee7-65f86d09b499"
      },
      "outputs": [
        {
          "data": {
            "text/plain": [
              "[7, 6, 4, 3, 3]"
            ]
          },
          "execution_count": 24,
          "metadata": {},
          "output_type": "execute_result"
        }
      ],
      "source": [
        "# if 를 활용한 정렬은 정렬할 수가 많아지면 매우 복잡해짐으로 기본제공함수를 이용해보자\n",
        "# sorted 함수 활용\n",
        "\n",
        "sorted([2,5,3,7,8,5])\n",
        "\n",
        "sorted([3,6,3,7,4],reverse = True) #sorted 함수에 reverse = True 사용하면 내림차순"
      ]
    },
    {
      "cell_type": "markdown",
      "metadata": {
        "id": "EdGIycqf_xHn"
      },
      "source": [
        "### While 문"
      ]
    },
    {
      "cell_type": "code",
      "execution_count": null,
      "metadata": {
        "colab": {
          "base_uri": "https://localhost:8080/"
        },
        "id": "x7ZDBQw2XZBN",
        "outputId": "a106e3d6-1c0b-4155-afa1-549e46be3222"
      },
      "outputs": [
        {
          "name": "stdout",
          "output_type": "stream",
          "text": [
            "정수 a :2\n",
            "정수 b :16\n",
            "2 4 6 8 10 12 14 16 \n"
          ]
        }
      ],
      "source": [
        "# 정수의 카운트업 (정렬 후 a 부터 b 까지)\n",
        "\n",
        "a = int(input('정수 a :'))\n",
        "b = int(input('정수 b :'))\n",
        "\n",
        "a,b = sorted([a,b])\n",
        "\n",
        "counter = a\n",
        "while counter <= b:\n",
        "  print(counter,end=' ')\n",
        "  counter += 2\n",
        "print()"
      ]
    },
    {
      "cell_type": "code",
      "execution_count": null,
      "metadata": {
        "colab": {
          "base_uri": "https://localhost:8080/"
        },
        "id": "CGHnYkROYDwU",
        "outputId": "c627476d-9e25-4908-851c-cbe81e2f994c"
      },
      "outputs": [
        {
          "name": "stdout",
          "output_type": "stream",
          "text": [
            "int a :6\n",
            "6 5 4 3 2 1 0 "
          ]
        }
      ],
      "source": [
        "# 양의 정수를 0 까지 카운트 다운\n",
        "\n",
        "a = int(input('int a :'))\n",
        "\n",
        "while a >= 0:\n",
        "  print(a,end=' ')\n",
        "  a += -1\n"
      ]
    },
    {
      "cell_type": "code",
      "execution_count": null,
      "metadata": {
        "colab": {
          "base_uri": "https://localhost:8080/"
        },
        "id": "DKwKeC9LZiru",
        "outputId": "148797ea-c50f-4ec0-e139-244caa998208"
      },
      "outputs": [
        {
          "name": "stdout",
          "output_type": "stream",
          "text": [
            "sum of 1 to n\n",
            "int n:15\n",
            "n까지의 총 합은 120 입니다\n"
          ]
        }
      ],
      "source": [
        "# 1 부터 n 까지의 합 구하기\n",
        "\n",
        "print(\"sum of 1 to n\")\n",
        "n = int(input('int n:'))\n",
        "\n",
        "counter = 1\n",
        "sum_to_n = 0\n",
        "while counter <= n:\n",
        "  sum_to_n += counter\n",
        "  counter += 1\n",
        "print('n까지의 총 합은',sum_to_n,'입니다')\n",
        "\n"
      ]
    },
    {
      "cell_type": "code",
      "execution_count": null,
      "metadata": {
        "colab": {
          "base_uri": "https://localhost:8080/"
        },
        "id": "48Qp4ePBc4zk",
        "outputId": "5213a031-3124-4672-eb58-b3f6b44dc52f"
      },
      "outputs": [
        {
          "name": "stdout",
          "output_type": "stream",
          "text": [
            "카운트 다운 하겠습니다\n",
            "양의 정수 입력 :5\n",
            "543210\n"
          ]
        }
      ],
      "source": [
        "# 양의 정수를 0까지 1초마다 카운트다운\n",
        "\n",
        "import time\n",
        "print('카운트 다운 하겠습니다')\n",
        "n = int(input('양의 정수 입력 :'))\n",
        "\n",
        "while n >= 0:\n",
        "  print(n, end='')\n",
        "  n -= 1\n",
        "  time.sleep(1)\n",
        "print()"
      ]
    },
    {
      "cell_type": "code",
      "execution_count": null,
      "metadata": {
        "colab": {
          "base_uri": "https://localhost:8080/"
        },
        "id": "YxMC2BQIdjUD",
        "outputId": "e0906919-854e-4e1b-d51b-c74c1929b8fb"
      },
      "outputs": [
        {
          "name": "stdout",
          "output_type": "stream",
          "text": [
            "양수 n 입력해주세요: 4\n"
          ]
        }
      ],
      "source": [
        "# break 를 이용하여 반복문 짜기\n",
        "while True :\n",
        "  n = int(input('양수 n 입력해주세요: '))\n",
        "  if n > 0:\n",
        "    break"
      ]
    },
    {
      "cell_type": "code",
      "execution_count": null,
      "metadata": {
        "colab": {
          "base_uri": "https://localhost:8080/"
        },
        "id": "XGdDdT32eQhw",
        "outputId": "02efb474-5f8d-4a3c-aab5-edf881ab0384"
      },
      "outputs": [
        {
          "name": "stdout",
          "output_type": "stream",
          "text": [
            "양의 정수 값을 더해 보겠씁니다.(종료하려면 -99를 입력하세요.)\n",
            "정수를 입력해주세요.: 2\n",
            "정수를 입력해주세요.: 4\n",
            "정수를 입력해주세요.: 15\n",
            "정수를 입력해주세요.: 283900\n",
            "정수를 입력해주세요.: 2938102\n",
            "정수를 입력해주세요.: 53322\n",
            "정수를 입력해주세요.: 223\n",
            "정수를 입력해주세요.: 5\n",
            "정수를 입력해주세요.: -99\n",
            "총 합은 3275573\n"
          ]
        }
      ],
      "source": [
        "# continue문으로 반복처리 건너뛰기\n",
        "\n",
        "# 양의 정수의 값을 차례대로 입력받아 더하기\n",
        "\n",
        "print('양의 정수 값을 더해 보겠씁니다.(종료하려면 -99를 입력하세요.)')\n",
        "\n",
        "sum = 0\n",
        "while True:\n",
        "  n = int(input('정수를 입력해주세요.: '))\n",
        "  if n == -99:\n",
        "    break\n",
        "  if n < 0:\n",
        "    continue\n",
        "  sum += n\n",
        "print('총 합은',sum)"
      ]
    },
    {
      "cell_type": "code",
      "execution_count": null,
      "metadata": {
        "colab": {
          "background_save": true,
          "base_uri": "https://localhost:8080/"
        },
        "id": "YEA1aPfzhVs-",
        "outputId": "13a5883d-8f8b-49fd-a78d-d18f651f3497"
      },
      "outputs": [
        {
          "name": "stdout",
          "output_type": "stream",
          "text": [
            "1부터 1000까지의 숫자 중 맞혀 보세요. 기회는 10번 입니다.\n",
            "1 번 시도중, 숫자를 맞춰보세요: \n",
            "더 큰 수 입니다\n",
            "2 번 시도중, 숫자를 맞춰보세요: \n",
            "더 큰 수 입니다\n",
            "3 번 시도중, 숫자를 맞춰보세요: \n",
            "더 큰 수 입니다\n",
            "4 번 시도중, 숫자를 맞춰보세요: \n"
          ]
        }
      ],
      "source": [
        "# 숫자 맞추기 게임\n",
        "\n",
        "import random\n",
        "\n",
        "Max = 1000\n",
        "max_stage = 10\n",
        "print('1부터 {}까지의 숫자 중 맞혀 보세요. 기회는 {}번 입니다.'.format(Max,max_stage))\n",
        "\n",
        "stage = 1\n",
        "answer = random.randint(1,Max)\n",
        "\n",
        "while stage <= max_stage :\n",
        "  print(stage,'번 시도중, 숫자를 맞춰보세요: ')\n",
        "  n = int(input('수를 입력하세요: '))\n",
        "\n",
        "  if n < 1 or n > Max:\n",
        "    continue\n",
        "  if n == answer:\n",
        "    print('축하합니다',stage,'번째 시도에서 정답!')\n",
        "    break\n",
        "  elif n > answer :\n",
        "    print('더 작은 수 입니다')\n",
        "  else :\n",
        "    print('더 큰 수 입니다')\n",
        "  stage += 1\n",
        "else :\n",
        "  print('아쉽네요 정답은',answer,'입니다')\n"
      ]
    },
    {
      "cell_type": "code",
      "execution_count": null,
      "metadata": {
        "id": "8sA641AFlZR4",
        "colab": {
          "base_uri": "https://localhost:8080/"
        },
        "outputId": "107d23b5-72db-4022-e027-30f6e6c0d39e"
      },
      "outputs": [
        {
          "output_type": "stream",
          "name": "stdout",
          "text": [
            "가위바위보\n",
            "가위바위보(0 : 바위 // 1 : 가위 // 2 : 보): 2\n",
            "나는 주먹입니다\n",
            "당신이 이겼습니다\n",
            "한 번 더 해볼까요?(0 : 네 // 1 : 아니오) :0\n",
            "가위바위보(0 : 바위 // 1 : 가위 // 2 : 보): 1\n",
            "나는 보입니다\n",
            "당신이 이겼습니다\n",
            "한 번 더 해볼까요?(0 : 네 // 1 : 아니오) :0\n",
            "가위바위보(0 : 바위 // 1 : 가위 // 2 : 보): 5\n",
            "가위바위보(0 : 바위 // 1 : 가위 // 2 : 보): 5\n",
            "가위바위보(0 : 바위 // 1 : 가위 // 2 : 보): 36\n",
            "가위바위보(0 : 바위 // 1 : 가위 // 2 : 보): 2\n",
            "나는 보입니다\n",
            "비겼습니다!!\n",
            "한 번 더 해볼까요?(0 : 네 // 1 : 아니오) :1\n",
            "결과 : 2 승 1 무 0 패 입니다.\n"
          ]
        }
      ],
      "source": [
        "# 가위바위보\n",
        "\n",
        "import random\n",
        "\n",
        "print('가위바위보')\n",
        "\n",
        "# 이긴 횟수, 진 횟수, 비긴 횟수\n",
        "win_no = lose_no = draw_no = 0\n",
        "\n",
        "while True:\n",
        "  comp = random.randint(0,2)\n",
        "  while True:\n",
        "    human = int(input('가위바위보(0 : 바위 // 1 : 가위 // 2 : 보): '))\n",
        "    if 0 <= human <= 2:\n",
        "      break\n",
        "  print('나는 ', end='')\n",
        "  if comp == 0 :\n",
        "    print('주먹',end='')\n",
        "  elif comp == 1 :\n",
        "    print('가위',end='')\n",
        "  else :\n",
        "    print('보',end='')\n",
        "  print('입니다')\n",
        "\n",
        "  # 승패 판정\n",
        "  judge = (human - comp+3) % 3\n",
        "  if judge == 0:\n",
        "    print('비겼습니다!!')\n",
        "    draw_no += 1\n",
        "  elif judge == 1:\n",
        "    print('당신이 졌습니다')\n",
        "    lose_no += 1\n",
        "  else :\n",
        "    print('당신이 이겼습니다')\n",
        "    win_no += 1\n",
        "  retry = int(input('한 번 더 해볼까요?(0 : 네 // 1 : 아니오) :'))\n",
        "  if retry ==1 :\n",
        "    break\n",
        "print('결과 :', win_no,'승',draw_no,'무',lose_no,'패 입니다.')\n"
      ]
    },
    {
      "cell_type": "markdown",
      "source": [
        "### for 문"
      ],
      "metadata": {
        "id": "00yoUdmxpnAF"
      }
    },
    {
      "cell_type": "code",
      "source": [
        "# 입력받은 횟수만큼 인사하기(카운트는 0부터 시작)\n",
        "\n",
        "n = int(input('몇 번 인사할까요 :'))\n",
        "\n",
        "for i in range(n):\n",
        "  print('No.',i,': 안녕하세요')"
      ],
      "metadata": {
        "colab": {
          "base_uri": "https://localhost:8080/"
        },
        "id": "A6SlF_ojtFXj",
        "outputId": "b301ba0e-8c45-4543-a5aa-84e6b8307848"
      },
      "execution_count": null,
      "outputs": [
        {
          "output_type": "stream",
          "name": "stdout",
          "text": [
            "몇 번 인사할까요 :3\n",
            "No. 0 : 안녕하세요\n",
            "No. 1 : 안녕하세요\n",
            "No. 2 : 안녕하세요\n"
          ]
        }
      ]
    },
    {
      "cell_type": "code",
      "source": [
        "# 입력받은 횟수만큼 인사하기 (카운트는 1부터 시작)\n",
        "\n",
        "n = int(input('몇 번 인사할까요 :'))\n",
        "\n",
        "for i in range(n):\n",
        "  print('No.',i+1,': 안녕하세요')"
      ],
      "metadata": {
        "colab": {
          "base_uri": "https://localhost:8080/"
        },
        "id": "0nNLWEV8tX-B",
        "outputId": "65843e38-ee01-47a3-ad96-360484e4cf63"
      },
      "execution_count": null,
      "outputs": [
        {
          "output_type": "stream",
          "name": "stdout",
          "text": [
            "몇 번 인사할까요 :2\n",
            "No. 1 : 안녕하세요\n",
            "No. 2 : 안녕하세요\n"
          ]
        }
      ]
    },
    {
      "cell_type": "code",
      "source": [
        "# 입력받은 횟수만큼 인사하기 (카운트는 1부터 시작,구간활용)\n",
        "\n",
        "n = int(input('몇 번 인사할까요 :'))\n",
        "\n",
        "for i in range(1, n+1):\n",
        "  print('No.',i,': 안녕하세요')"
      ],
      "metadata": {
        "colab": {
          "base_uri": "https://localhost:8080/"
        },
        "id": "8HsQE48hwz2q",
        "outputId": "4156e269-17bf-4013-92b6-5dcd93141403"
      },
      "execution_count": null,
      "outputs": [
        {
          "output_type": "stream",
          "name": "stdout",
          "text": [
            "몇 번 인사할까요 :2\n",
            "No. 1 : 안녕하세요\n",
            "No. 2 : 안녕하세요\n"
          ]
        }
      ]
    },
    {
      "cell_type": "code",
      "source": [
        "# for 문으로 정수 세기 (오름차순으로 정렬된 a 부터 b 까지)\n",
        "\n",
        "a = int(input('정수 a:'))\n",
        "b = int(input('정수 b:'))\n",
        "\n",
        "a, b = sorted([a,b])  # 오름차순 정렬\n",
        "\n",
        "for i in range(a,b+1):\n",
        "  print(i,end=' ')\n",
        "print()"
      ],
      "metadata": {
        "colab": {
          "base_uri": "https://localhost:8080/"
        },
        "id": "Hz1eRnM0xBVe",
        "outputId": "32eaa9ae-0677-4ec3-d227-2ca3dc89a312"
      },
      "execution_count": null,
      "outputs": [
        {
          "output_type": "stream",
          "name": "stdout",
          "text": [
            "정수 a:3\n",
            "정수 b:12\n",
            "3 4 5 6 7 8 9 10 11 12 \n"
          ]
        }
      ]
    },
    {
      "cell_type": "markdown",
      "source": [
        "### range 함수"
      ],
      "metadata": {
        "id": "wz6KFRxKxkLL"
      }
    },
    {
      "cell_type": "code",
      "source": [
        "# List 4-12\n",
        "\n",
        "# 정수의 카운트업\n",
        "\n",
        "start = int(input('start number :'))\n",
        "end = int(input('end number'))\n",
        "step = int(input('interval:'))\n",
        "\n",
        "for count in range(start,end,step):\n",
        "  print(count, end=' ')\n",
        "print()"
      ],
      "metadata": {
        "colab": {
          "base_uri": "https://localhost:8080/"
        },
        "id": "lmis9yuLyCOR",
        "outputId": "0037ef5d-bb30-4598-be2c-52c13a7b1b12"
      },
      "execution_count": null,
      "outputs": [
        {
          "output_type": "stream",
          "name": "stdout",
          "text": [
            "start number :2\n",
            "end number34\n",
            "interval:4\n",
            "2 6 10 14 18 22 26 30 \n"
          ]
        }
      ]
    },
    {
      "cell_type": "code",
      "source": [
        "# List 4-13\n",
        "\n",
        "# 입력받은 수보다 작은 홀수를 오름차순으로 나열하기\n",
        "\n",
        "n = int(input('수를 입력하세요 : '))\n",
        "\n",
        "for i in range(1,n+1,2):\n",
        "  print(i,end=' ')\n",
        "print()"
      ],
      "metadata": {
        "colab": {
          "base_uri": "https://localhost:8080/"
        },
        "id": "gJ5ZWON4yYzW",
        "outputId": "665d6e64-2de8-4cf2-c3d1-00a73f8328ad"
      },
      "execution_count": null,
      "outputs": [
        {
          "output_type": "stream",
          "name": "stdout",
          "text": [
            "수를 입력하세요 : 17\n",
            "1 3 5 7 9 11 13 15 17 \n"
          ]
        }
      ]
    },
    {
      "cell_type": "code",
      "source": [
        "# List 4-14\n",
        "\n",
        "# 입력받은 수의 약수를 오름차순으로 나열하기\n",
        "\n",
        "n = int(input('수를 입력하세요 : '))\n",
        "\n",
        "for i in range(1,n+1,1):\n",
        "  if n % i == 0:\n",
        "    print(i,end=' ')\n",
        "print()"
      ],
      "metadata": {
        "colab": {
          "base_uri": "https://localhost:8080/"
        },
        "id": "oLLsgfvK1Y2Q",
        "outputId": "d2dddb03-2fc8-4b8a-ee14-4471e1a9acbb"
      },
      "execution_count": null,
      "outputs": [
        {
          "output_type": "stream",
          "name": "stdout",
          "text": [
            "수를 입력하세요 : 16\n",
            "1 2 4 8 16 \n"
          ]
        }
      ]
    },
    {
      "cell_type": "code",
      "source": [
        "# List 4-15\n",
        "\n",
        "# 입력받은 수 만큼 * 출력하기\n",
        "\n",
        "n = int(input('수를 입력하세요 : '))\n",
        "\n",
        "for _ in range(n):\n",
        "  print('*',end='')\n",
        "\n",
        "# 반복용 카운터 변수명이 _ 이다. _로만 이루어진 변수는 루프 본체에서 변수를 사용하지 않는다를 의미"
      ],
      "metadata": {
        "colab": {
          "base_uri": "https://localhost:8080/"
        },
        "id": "R84X5zVj15ZO",
        "outputId": "13602cac-bcc1-4ecc-9d0c-725b9ee94956"
      },
      "execution_count": null,
      "outputs": [
        {
          "output_type": "stream",
          "name": "stdout",
          "text": [
            "수를 입력하세요 : 5\n",
            "*****"
          ]
        }
      ]
    },
    {
      "cell_type": "markdown",
      "source": [
        "### else 절"
      ],
      "metadata": {
        "id": "zcrpgu_m2M7J"
      }
    },
    {
      "cell_type": "markdown",
      "source": [
        "while문 끝에서 else 절을 쓸 수 있는 것과 마찬가지로, for 문의 끝에서도 사용 가능하다.\n",
        "else 절이 있는 for, while 문은 break문으로 강제 종료되지 않고 반복이 끝나야만 else절에 있는 스위트가 실행됨"
      ],
      "metadata": {
        "id": "2H72cFxX2ilO"
      }
    },
    {
      "cell_type": "code",
      "source": [
        "# List 4-16\n",
        "\n",
        "# 10~99 사이의 난수 n개 생성하기\n",
        "\n",
        "import random\n",
        "\n",
        "n = int(input('몇 개의 난수를 만들까요? : '))\n",
        "\n",
        "for _ in range(n):\n",
        "  r = random.randint(10,99)\n",
        "  if (r==13):\n",
        "    print('\\n갑작스러운 이유로 중지되었습니다')\n",
        "    break\n",
        "  print(r,end=' ')\n",
        "else :\n",
        "  print('\\n난수 생성을 종료합니다')"
      ],
      "metadata": {
        "colab": {
          "base_uri": "https://localhost:8080/"
        },
        "id": "xwSYDkf23DCy",
        "outputId": "5b37de7c-8fcc-4b91-dd9a-45cbc9a49005"
      },
      "execution_count": null,
      "outputs": [
        {
          "output_type": "stream",
          "name": "stdout",
          "text": [
            "몇 개의 난수를 만들까요? : 20\n",
            "31 54 88 35 32 51 36 70 32 76 \n",
            "갑작스러운 이유로 중지되었습니다\n"
          ]
        }
      ]
    },
    {
      "cell_type": "markdown",
      "source": [
        "### 반복문의 전치 판정"
      ],
      "metadata": {
        "id": "5akqXbl_4IO2"
      }
    },
    {
      "cell_type": "code",
      "source": [
        "# List 4C-2\n",
        "\n",
        "# 1~12 중에서 8을 생략하고 반복하기 1\n",
        "\n",
        "for i in range(1,13):\n",
        "  if i ==8:\n",
        "    continue\n",
        "  print(i,end=' ')\n",
        "print()"
      ],
      "metadata": {
        "colab": {
          "base_uri": "https://localhost:8080/"
        },
        "id": "DUO5F_G_4zZD",
        "outputId": "e7973df8-0819-4649-f08c-dfcde964bc68"
      },
      "execution_count": null,
      "outputs": [
        {
          "output_type": "stream",
          "name": "stdout",
          "text": [
            "1 2 3 4 5 6 7 9 10 11 12 \n"
          ]
        }
      ]
    },
    {
      "cell_type": "markdown",
      "source": [
        "이런 프로그램은 바람직 하지 않음.\n",
        "10만번 반복 중 단 한번의 건너뛰기를 위해 10만번 판정하는 과정이 이루어지기 때문임.\n",
        "하지만 키보드로 건너뛸 값을 입력받거나, 난수로 값을 설정하는 경우는 피할 수 없음"
      ],
      "metadata": {
        "id": "NCJQCaem5MNY"
      }
    },
    {
      "cell_type": "code",
      "source": [
        "# List 4C-3\n",
        "\n",
        "# 1~12 중에서 8을 생략하고 반복하기 2\n",
        "\n",
        "for i in list(range(1,8)) + list(range(9,13)):\n",
        "  print(i,end=' ')\n",
        "print()"
      ],
      "metadata": {
        "colab": {
          "base_uri": "https://localhost:8080/"
        },
        "id": "Sj7nIvNN5f5g",
        "outputId": "43ea1a70-f675-41cd-fd29-321285922dfa"
      },
      "execution_count": null,
      "outputs": [
        {
          "output_type": "stream",
          "name": "stdout",
          "text": [
            "1 2 3 4 5 6 7 9 10 11 12 \n"
          ]
        }
      ]
    },
    {
      "cell_type": "markdown",
      "source": [
        "### 다중루프"
      ],
      "metadata": {
        "id": "pitXZdxC5vqy"
      }
    },
    {
      "cell_type": "code",
      "source": [
        "# List 4-17\n",
        "\n",
        "# 구구단표 만들기\n",
        "\n",
        "print('-'* 27)\n",
        "for i in range(1,10):\n",
        "  for j in range(1,10):\n",
        "    print('{:3d}'.format(i*j),end='')\n",
        "  print()\n",
        "print('-' * 27)\n",
        "\n",
        "# 문자열의 {:3d}는 10진수를 세 자릿수 표시하는 형식임. 나중에 보충학습 예정"
      ],
      "metadata": {
        "colab": {
          "base_uri": "https://localhost:8080/"
        },
        "id": "iLTIDHt-FhB0",
        "outputId": "e71c0626-e0df-4daa-8fbf-0844235859a4"
      },
      "execution_count": null,
      "outputs": [
        {
          "output_type": "stream",
          "name": "stdout",
          "text": [
            "---------------------------\n",
            "  1  2  3  4  5  6  7  8  9\n",
            "  2  4  6  8 10 12 14 16 18\n",
            "  3  6  9 12 15 18 21 24 27\n",
            "  4  8 12 16 20 24 28 32 36\n",
            "  5 10 15 20 25 30 35 40 45\n",
            "  6 12 18 24 30 36 42 48 54\n",
            "  7 14 21 28 35 42 49 56 63\n",
            "  8 16 24 32 40 48 56 64 72\n",
            "  9 18 27 36 45 54 63 72 81\n",
            "---------------------------\n"
          ]
        }
      ]
    },
    {
      "cell_type": "code",
      "source": [
        "# List 4-18\n",
        "\n",
        "# 사각형 그리기\n",
        "\n",
        "print('사각형')\n",
        "h = int(input('높이: '))\n",
        "w = int(input('너비: '))\n",
        "\n",
        "for i in range(h):\n",
        "  for j in range(w):\n",
        "    print('*',end='')\n",
        "  print()"
      ],
      "metadata": {
        "colab": {
          "base_uri": "https://localhost:8080/"
        },
        "id": "K9Au0_BHGHde",
        "outputId": "5da108c4-8eeb-4cfb-ffdb-d4beefd24faa"
      },
      "execution_count": null,
      "outputs": [
        {
          "output_type": "stream",
          "name": "stdout",
          "text": [
            "사각형\n",
            "높이: 3\n",
            "너비: 4\n",
            "****\n",
            "****\n",
            "****\n"
          ]
        }
      ]
    },
    {
      "cell_type": "code",
      "source": [
        "# List 4-19\n",
        "\n",
        "# 왼쪽 하단이 직각인 이등변 삼각형 그리기\n",
        "\n",
        "print('왼쪽 하단이 직각인 이등변 삼각형')\n",
        "n = int(input('짧은 변의 길이: '))\n",
        "\n",
        "for i in range(n+1):\n",
        "  print('*' * i)"
      ],
      "metadata": {
        "colab": {
          "base_uri": "https://localhost:8080/"
        },
        "id": "TyUPv-SDG7o-",
        "outputId": "748282b5-f0d5-42ba-c9ab-c690bd28303a"
      },
      "execution_count": null,
      "outputs": [
        {
          "output_type": "stream",
          "name": "stdout",
          "text": [
            "왼쪽 하단이 직각인 이등변 삼각형\n",
            "짧은 변의 길이: 4\n",
            "\n",
            "*\n",
            "**\n",
            "***\n",
            "****\n"
          ]
        }
      ]
    },
    {
      "cell_type": "code",
      "source": [
        "# 다른 문제 풀이법\n",
        "\n",
        "n = int(input('짧은 변의 길이'))\n",
        "\n",
        "for i in range(n):\n",
        "  for j in range(i+1):\n",
        "    print('*', end='')\n",
        "  print()"
      ],
      "metadata": {
        "colab": {
          "base_uri": "https://localhost:8080/"
        },
        "id": "bdhCSJ0FIYSg",
        "outputId": "823defcc-76b0-4979-f18b-1dd8c30ab984"
      },
      "execution_count": null,
      "outputs": [
        {
          "output_type": "stream",
          "name": "stdout",
          "text": [
            "짧은 변의 길이4\n",
            "*\n",
            "**\n",
            "***\n",
            "****\n"
          ]
        }
      ]
    },
    {
      "cell_type": "code",
      "source": [
        "# List 4-20\n",
        "\n",
        "# 오른쪽 하단이 직각인 이등변 삼각형 그리기\n",
        "\n",
        "print('오른쪽 하단이 직각인 이등변 삼각형 그리기')\n",
        "\n",
        "n = int(input('가장 짧은 변의 길이: '))\n",
        "\n",
        "for i in range(n):\n",
        "  for _ in range(n-i-1):\n",
        "    print(' ', end='')\n",
        "  for _ in range(i+1):\n",
        "    print('*',end='')\n",
        "  print('')"
      ],
      "metadata": {
        "colab": {
          "base_uri": "https://localhost:8080/"
        },
        "id": "TgpGuK31LHQF",
        "outputId": "074f3f6d-45b7-42ae-91bf-1770afe8bfa4"
      },
      "execution_count": null,
      "outputs": [
        {
          "output_type": "stream",
          "name": "stdout",
          "text": [
            "오른쪽 하단이 직각인 이등변 삼각형 그리기\n",
            "가장 짧은 변의 길이: 3\n",
            "  *\n",
            " **\n",
            "***\n"
          ]
        }
      ]
    },
    {
      "cell_type": "markdown",
      "source": [
        "## 객체와 타입"
      ],
      "metadata": {
        "id": "5BBkFN4QQ0G5"
      }
    },
    {
      "cell_type": "code",
      "source": [
        "# 변수는 객체를 참조하는 것으로 객체에 연결된 이름에 불과하다"
      ],
      "metadata": {
        "id": "sK2Yu6t7Q41b"
      },
      "execution_count": null,
      "outputs": []
    },
    {
      "cell_type": "code",
      "source": [
        "# 예시 5-1 객체의 아이덴티티\n",
        "\n",
        "n = 17\n",
        "id(17)"
      ],
      "metadata": {
        "colab": {
          "base_uri": "https://localhost:8080/"
        },
        "id": "qqeuf874REfF",
        "outputId": "df3c652c-788c-4446-8f02-4cce906757b8"
      },
      "execution_count": null,
      "outputs": [
        {
          "output_type": "execute_result",
          "data": {
            "text/plain": [
              "140383341101808"
            ]
          },
          "metadata": {},
          "execution_count": 17
        }
      ]
    },
    {
      "cell_type": "code",
      "source": [
        "id(n)"
      ],
      "metadata": {
        "colab": {
          "base_uri": "https://localhost:8080/"
        },
        "id": "fpfWX6k1RZCk",
        "outputId": "5861cfa6-5a0e-451f-cdf9-2120550cef2e"
      },
      "execution_count": null,
      "outputs": [
        {
          "output_type": "execute_result",
          "data": {
            "text/plain": [
              "140383341101808"
            ]
          },
          "metadata": {},
          "execution_count": 18
        }
      ]
    },
    {
      "cell_type": "code",
      "source": [
        "# 변수 와 17의 아이덴티티 값이 같은 이유\n",
        "# 파이썬은 이미 존재하는 정수17에 변수 n이라는 이름을 묶어주기만 할 뿐이기 떄문\n",
        "\n",
        "# 파이썬은 모든것이 객체이다. 메모리의 일부를 점유하는 객체는 아이텐티티, 타입, 값 등의 특성을 갖는다"
      ],
      "metadata": {
        "id": "sLZ2I_m-RdRc"
      },
      "execution_count": null,
      "outputs": []
    },
    {
      "cell_type": "markdown",
      "source": [
        "### 가변과 불변"
      ],
      "metadata": {
        "id": "p0VIBY7qSJeU"
      }
    },
    {
      "cell_type": "code",
      "source": [
        "# 가변형(immutable) : 리스트, 딕셔너리, 집합\n",
        "# 불변형(mutable) : 숫자, 문자열, 튜플\n",
        "\n",
        "# 가변객체, 불변객체 모두 타입 자체를 변경할 수는 없습니다."
      ],
      "metadata": {
        "id": "Zf2g1b8WSYw4"
      },
      "execution_count": null,
      "outputs": []
    },
    {
      "cell_type": "markdown",
      "source": [
        "### 동일성 판정 연산자(is, is not)"
      ],
      "metadata": {
        "id": "D-_Rr31hSoGk"
      }
    },
    {
      "cell_type": "code",
      "source": [
        "# List 5-1\n",
        "\n",
        "# a와 b의 동일성 판정하기\n",
        "\n",
        "a = int(input('정수 a:'))\n",
        "b = int(input('정수 b:'))\n",
        "\n",
        "print('a is b = ', a is b)"
      ],
      "metadata": {
        "colab": {
          "base_uri": "https://localhost:8080/"
        },
        "id": "f_O5F5qJS-oh",
        "outputId": "d8c59523-6c70-4db3-d272-19f3a25aa166"
      },
      "execution_count": null,
      "outputs": [
        {
          "output_type": "stream",
          "name": "stdout",
          "text": [
            "정수 a:4\n",
            "정수 b:4\n",
            "a is b =  True\n"
          ]
        }
      ]
    },
    {
      "cell_type": "markdown",
      "source": [
        "### del문"
      ],
      "metadata": {
        "id": "VPPBzUPKTNZv"
      }
    },
    {
      "cell_type": "code",
      "source": [
        "# 예 5-6, del문에 의한 변수 삭제\n",
        "\n",
        "x = 5\n",
        "print(x)\n",
        "\n",
        "del x\n",
        "print(x)\n",
        "\n",
        "# 변수 x를 삭제하고 난 뒤 출력시키면 오류가 발생한다.\n",
        "# 실제로는 리스트의 요소를 제거할 때 사용합니다"
      ],
      "metadata": {
        "colab": {
          "base_uri": "https://localhost:8080/",
          "height": 261
        },
        "id": "MQ2ur9AcTb9I",
        "outputId": "e837308b-1559-41a2-d119-7f9c6a83f277"
      },
      "execution_count": null,
      "outputs": [
        {
          "output_type": "stream",
          "name": "stdout",
          "text": [
            "5\n"
          ]
        },
        {
          "output_type": "error",
          "ename": "NameError",
          "evalue": "ignored",
          "traceback": [
            "\u001b[0;31m---------------------------------------------------------------------------\u001b[0m",
            "\u001b[0;31mNameError\u001b[0m                                 Traceback (most recent call last)",
            "\u001b[0;32m<ipython-input-24-ac169d6f4008>\u001b[0m in \u001b[0;36m<cell line: 7>\u001b[0;34m()\u001b[0m\n\u001b[1;32m      5\u001b[0m \u001b[0;34m\u001b[0m\u001b[0m\n\u001b[1;32m      6\u001b[0m \u001b[0;32mdel\u001b[0m \u001b[0mx\u001b[0m\u001b[0;34m\u001b[0m\u001b[0;34m\u001b[0m\u001b[0m\n\u001b[0;32m----> 7\u001b[0;31m \u001b[0mprint\u001b[0m\u001b[0;34m(\u001b[0m\u001b[0mx\u001b[0m\u001b[0;34m)\u001b[0m\u001b[0;34m\u001b[0m\u001b[0;34m\u001b[0m\u001b[0m\n\u001b[0m\u001b[1;32m      8\u001b[0m \u001b[0;34m\u001b[0m\u001b[0m\n\u001b[1;32m      9\u001b[0m \u001b[0;31m# 변수 x를 삭제하고 난 뒤 출력시키면 오류가 발생한다.\u001b[0m\u001b[0;34m\u001b[0m\u001b[0;34m\u001b[0m\u001b[0m\n",
            "\u001b[0;31mNameError\u001b[0m: name 'x' is not defined"
          ]
        }
      ]
    },
    {
      "cell_type": "markdown",
      "source": [
        "### None"
      ],
      "metadata": {
        "id": "QxReAAEHTlOm"
      }
    },
    {
      "cell_type": "code",
      "source": [
        "# 어떠한 객체와도 식별할 수 있는 것이 NoneType 의 None입니다.\n",
        "\n",
        "# None은 '빈 값'과 '존재하지 않는 값'을 구별하기 위한 특별한 값이다\n",
        "\n",
        "# None을 논리 값으로 평가하면 '거짓'입니다 하지만 None 자체가 논리 값 'False'와 동일하지는 않음\n",
        "\n",
        "# 정수0, 실수0.0, 빈 문자열, 빈 리스트, 빈 튜플, 빈 딕셔너리, 빈 집합set()은\n",
        "# 모두 거짓으로 간주 하지만 None과 같지 않다."
      ],
      "metadata": {
        "id": "6ptbHzfeUFQd"
      },
      "execution_count": null,
      "outputs": []
    },
    {
      "cell_type": "code",
      "source": [
        "# List 5-2\n",
        "\n",
        "# None과 논리식 1\n",
        "\n",
        "x = None\n",
        "if x :\n",
        "  print('성립')\n",
        "else :\n",
        "  print('미성립')\n",
        "\n",
        "# None 과 논리식 2\n",
        "\n",
        "if x is None:\n",
        "  print('성립')\n",
        "else:\n",
        "  print('미성립')\n",
        "\n",
        "# 거짓으로 처리되는 값의 판정 1\n",
        "\n",
        "x = 0\n",
        "if x:\n",
        "  print('성립')\n",
        "else:\n",
        "  print('미성립')\n",
        "\n",
        "# 거짓으로 처리되는 값의 판정 2\n",
        "\n",
        "x = 0\n",
        "if x is None:\n",
        "  print('성립')\n",
        "else:\n",
        "  print('미성립')"
      ],
      "metadata": {
        "colab": {
          "base_uri": "https://localhost:8080/"
        },
        "id": "FmTfcm8NUi5u",
        "outputId": "99b548a0-1614-46cb-dcae-5acc8f580bbd"
      },
      "execution_count": null,
      "outputs": [
        {
          "output_type": "stream",
          "name": "stdout",
          "text": [
            "미성립\n",
            "성립\n",
            "미성립\n",
            "미성립\n"
          ]
        }
      ]
    },
    {
      "cell_type": "code",
      "source": [
        "# 결과적으로 보면 None은 거짓으로 간주되지만?\n",
        "# None 과 동일한 것은 None 뿐이며\n",
        "# 그렇기에 거짓을 None과 비교하면 다르다고 판정한다."
      ],
      "metadata": {
        "id": "I3zZ_2bfW1xM"
      },
      "execution_count": null,
      "outputs": []
    },
    {
      "cell_type": "code",
      "source": [
        "# 예 5-7 논리식 x or ''\n",
        "\n",
        "x = None\n",
        "s = x or ''\n",
        "s\n",
        "\n",
        "# None을 빈 문자열로 변환했다고 하는데 잘 이해가 안되는 부분이다\n",
        "# or 의 쓰임을 잘 모르겠다."
      ],
      "metadata": {
        "colab": {
          "base_uri": "https://localhost:8080/",
          "height": 38
        },
        "id": "CLykomWUXkZN",
        "outputId": "3f04c779-0b9b-4fec-ea10-8ecb7ccb805b"
      },
      "execution_count": null,
      "outputs": [
        {
          "output_type": "execute_result",
          "data": {
            "text/plain": [
              "''"
            ],
            "application/vnd.google.colaboratory.intrinsic+json": {
              "type": "string"
            }
          },
          "metadata": {},
          "execution_count": 35
        }
      ]
    },
    {
      "cell_type": "code",
      "source": [
        "# 인터넷 검색 후, 나름대로 실험해봄.\n",
        "# 둘중에 하나라도 참이면 참인 값을 반환하는데 거짓과 None이 있으면 None을 우선 반환한다....뭐지\n",
        "print(2 or 3)\n",
        "print(2 or False)\n",
        "print(False or True)\n",
        "print(True or None)\n",
        "print(False or None)\n",
        "print(None or None)"
      ],
      "metadata": {
        "colab": {
          "base_uri": "https://localhost:8080/"
        },
        "id": "rBiZ-B0gXnr2",
        "outputId": "9c2f3d7a-e79c-411a-f304-06eaabc6a417"
      },
      "execution_count": null,
      "outputs": [
        {
          "output_type": "stream",
          "name": "stdout",
          "text": [
            "2\n",
            "2\n",
            "True\n",
            "True\n",
            "None\n",
            "None\n"
          ]
        }
      ]
    },
    {
      "cell_type": "markdown",
      "source": [
        "### 객체와 기본 데이터 타입"
      ],
      "metadata": {
        "id": "CH2X56kWYdy6"
      }
    },
    {
      "cell_type": "markdown",
      "source": [
        "### 논리형"
      ],
      "metadata": {
        "id": "BPoV0ebDZBrq"
      }
    },
    {
      "cell_type": "code",
      "source": [
        "# True 는 1값, False 는 0값임을 기억하자"
      ],
      "metadata": {
        "id": "Uv0Y_ZE4ZCla"
      },
      "execution_count": null,
      "outputs": []
    },
    {
      "cell_type": "markdown",
      "source": [
        "### 부동 소수점형과 싨의 연산"
      ],
      "metadata": {
        "id": "WGpYiWh3c5gg"
      }
    },
    {
      "cell_type": "code",
      "source": [
        "# 숫자의 크기는 12자리까지 나타낼 수 있고, 정밀도로는 여섯자리가 효과적임"
      ],
      "metadata": {
        "id": "qBdadgVuc6WD"
      },
      "execution_count": null,
      "outputs": []
    },
    {
      "cell_type": "code",
      "source": [
        "print(1234567890)\n",
        "# 1.23457 * 10^9 라고 수학적으로 포현가능\n",
        "# 1.23457을 기수라고 하고, 9를 지수라고 한다.\n",
        "# 기수의 자릿수가 정확성, 지수의 값이 크기에 해당함\n"
      ],
      "metadata": {
        "colab": {
          "base_uri": "https://localhost:8080/"
        },
        "id": "RPzOvdySdSXH",
        "outputId": "cd591a6e-d972-44a1-d952-da6bb5305fdd"
      },
      "execution_count": null,
      "outputs": [
        {
          "output_type": "stream",
          "name": "stdout",
          "text": [
            "1234567890\n"
          ]
        }
      ]
    },
    {
      "cell_type": "code",
      "source": [
        "import sys\n",
        "sys.float_info\n"
      ],
      "metadata": {
        "colab": {
          "base_uri": "https://localhost:8080/"
        },
        "id": "7pzIi0FFdnNh",
        "outputId": "b686fca8-bdcb-42f3-a416-12b74079ae19"
      },
      "execution_count": null,
      "outputs": [
        {
          "output_type": "execute_result",
          "data": {
            "text/plain": [
              "sys.float_info(max=1.7976931348623157e+308, max_exp=1024, max_10_exp=308, min=2.2250738585072014e-308, min_exp=-1021, min_10_exp=-307, dig=15, mant_dig=53, epsilon=2.220446049250313e-16, radix=2, rounds=1)"
            ]
          },
          "metadata": {},
          "execution_count": 15
        }
      ]
    },
    {
      "cell_type": "code",
      "source": [
        "# flot 타입의 특성을 나열한 정보임."
      ],
      "metadata": {
        "id": "uI0gCDQheA00"
      },
      "execution_count": null,
      "outputs": []
    },
    {
      "cell_type": "markdown",
      "source": [
        "### 산술 변환"
      ],
      "metadata": {
        "id": "_d0D77fieZmf"
      }
    },
    {
      "cell_type": "code",
      "source": [
        "# 몇 가지 연산규칙\n",
        "# 1. 피연산자 중 하나라도 복소수라면, 다른 피연산자 또한 복소수형으로 변환\n",
        "# 2. 그렇지 않고 피연산자가 실수라면, 다른 피연산자 또한 실수형으로 변환\n",
        "# 3. 그렇지 않으면 두 인수 모두 정수여야 하며 변환되지 않는다.\n",
        "# 즉 더욱 복잡한 타입으로 올려계산하는 듯 하다."
      ],
      "metadata": {
        "id": "hv7LzOZGea_y"
      },
      "execution_count": null,
      "outputs": []
    },
    {
      "cell_type": "markdown",
      "source": [
        "### 산술 연산에 사용하는 내장 함수"
      ],
      "metadata": {
        "id": "a6uc110Sh-zx"
      }
    },
    {
      "cell_type": "code",
      "source": [
        "\"\"\"\n",
        "abs(x) : 숫자 x의 절댓값을 리턴한다.\n",
        "bool(x) : x의 논리 값을 리턴한다.\n",
        "complex(real, imag) : real + imag * 1j 의 복소수값을 리턴하거나 문자열이나 숫자를\n",
        "복로수로 변환한 값을 리턴한다. imag가 생략되는 경우에는 0으로 처리된다.\n",
        "real, imag모두 생략된 경우 0j가 리턴된다.\n",
        "divmod(a,b) : 값 a를 b로 나눈 몫과 나머지로 이루어진 튜플을 리턴한다\n",
        "float(x) : 문자열 또는 숫자 x를 실수로 변환한 값을 리턴한다. 인수가 생략된 경우에는 0.0을 리턴한다.\n",
        "hex(x) : 정수 x의 0x로 시작하는 16진수 형태의 문자열을 리턴한다.\n",
        "int(x,base) : x를 int타입 정수로 변환한 값을 리턴한다. base는 0-36의 범위이어야 하고\n",
        "생략된 경우 10으로 처리한다.\n",
        "max(args) : 인수의 최댓값을 리턶한다.\n",
        "min(args) : 인수의 최솟값을 리턴한다.\n",
        "oct(x) : 정수 x의 8진수 형태인 0o로 시작하는 문자열을 리턴한다.\n",
        "pow(x,y,z) : x의 제곱, 즉 x**y를 리턴한다. z가 지정된 경우에는 x의 y제곱을 z로 나눈 값의\n",
        "나머지를 리턴한다. pow(x,y) % z보다 효율적인 계산을 할 수 있다.\n",
        "round(n,ndigits) : n의 소수점 ndigits자리에서 반올림한 값을 리턴한다.\n",
        "ndigits가 None이거나 생략된 경우에는 입력 값과 가장 가까운 정수를 리턴한다.\n",
        "sum(x,start) : start와 x의 요소를 순서대로 합산하여 그 합을 리턴한다. start의 기본값은 0이다.\n",
        "\"\"\""
      ],
      "metadata": {
        "colab": {
          "base_uri": "https://localhost:8080/",
          "height": 74
        },
        "id": "sgBStSSKiDYs",
        "outputId": "04063ff7-c32c-413a-aab4-defa8b25d225"
      },
      "execution_count": null,
      "outputs": [
        {
          "output_type": "execute_result",
          "data": {
            "text/plain": [
              "'\\nabs(x) : 숫자 x의 절댓값을 리턴한다.\\nbool(x) : x의 논리 값을 리턴한다.\\ncomp(real, imag) : real + imag * 1j 의 복소수값을 리턴하거나 문자열이나 숫자를\\n복로수로 변환한 값을 리턴한다. imag가 생략되는 경우에는 0으로 처리된다.\\nreal, imag모두 생략된 경우 0j가 리턴된다.\\n'"
            ],
            "application/vnd.google.colaboratory.intrinsic+json": {
              "type": "string"
            }
          },
          "metadata": {},
          "execution_count": 20
        }
      ]
    },
    {
      "cell_type": "code",
      "source": [
        "complex(2,2)"
      ],
      "metadata": {
        "colab": {
          "base_uri": "https://localhost:8080/"
        },
        "id": "66xB7q2JiJeX",
        "outputId": "6b3c03b3-7822-4652-9750-72902155856f"
      },
      "execution_count": null,
      "outputs": [
        {
          "output_type": "execute_result",
          "data": {
            "text/plain": [
              "(2+2j)"
            ]
          },
          "metadata": {},
          "execution_count": 22
        }
      ]
    },
    {
      "cell_type": "code",
      "source": [
        "int('21',4)\n",
        "'''\n",
        "4진법일때 21을 정수로 변환하는 과정임.\n",
        "실험결과 정수로 이루어진 문자열을 넣어야하고\n",
        "4진법으로 이루어진 수 임으로 0~3까지의 수만 사용가능하다.\n",
        "'''"
      ],
      "metadata": {
        "colab": {
          "base_uri": "https://localhost:8080/",
          "height": 56
        },
        "id": "fFbxIvRNiyFo",
        "outputId": "f5151658-e4dc-4ea2-dad3-9e6d30f7ee3a"
      },
      "execution_count": null,
      "outputs": [
        {
          "output_type": "execute_result",
          "data": {
            "text/plain": [
              "'\\n4진법일때 21을 정수로 변환하는 과정임.\\n실험결과 정수로 이루어진 문자열을 넣어야하고\\n4진법으로 이루어진 수 임으로 0~3까지의 수만 사용가능하다.\\n'"
            ],
            "application/vnd.google.colaboratory.intrinsic+json": {
              "type": "string"
            }
          },
          "metadata": {},
          "execution_count": 38
        }
      ]
    },
    {
      "cell_type": "code",
      "source": [
        "int('a',11)"
      ],
      "metadata": {
        "colab": {
          "base_uri": "https://localhost:8080/"
        },
        "id": "xIlXmQ7ijiUU",
        "outputId": "1a863856-a5cf-4db3-f0bc-37fc3b6c0a9d"
      },
      "execution_count": null,
      "outputs": [
        {
          "output_type": "execute_result",
          "data": {
            "text/plain": [
              "10"
            ]
          },
          "metadata": {},
          "execution_count": 1
        }
      ]
    },
    {
      "cell_type": "markdown",
      "source": [
        "### 복소수형"
      ],
      "metadata": {
        "id": "eXzqPGfjeSti"
      }
    },
    {
      "cell_type": "code",
      "source": [
        "z = 3.2 + 5.7j"
      ],
      "metadata": {
        "id": "ZSDooJcleWqR"
      },
      "execution_count": null,
      "outputs": []
    },
    {
      "cell_type": "code",
      "source": [
        "z.real # 복소수형의 실수 추출"
      ],
      "metadata": {
        "colab": {
          "base_uri": "https://localhost:8080/"
        },
        "id": "1a5ael8CeeXE",
        "outputId": "086aec94-28d7-43fb-9f4a-1f6514713d0a"
      },
      "execution_count": null,
      "outputs": [
        {
          "output_type": "execute_result",
          "data": {
            "text/plain": [
              "3.2"
            ]
          },
          "metadata": {},
          "execution_count": 6
        }
      ]
    },
    {
      "cell_type": "code",
      "source": [
        "z.imag # 복소수형의 허출부 추출"
      ],
      "metadata": {
        "colab": {
          "base_uri": "https://localhost:8080/"
        },
        "id": "pbqCS4wcefU5",
        "outputId": "c38f175b-d709-414e-9333-7d927fdb04c2"
      },
      "execution_count": null,
      "outputs": [
        {
          "output_type": "execute_result",
          "data": {
            "text/plain": [
              "5.7"
            ]
          },
          "metadata": {},
          "execution_count": 7
        }
      ]
    },
    {
      "cell_type": "markdown",
      "source": [
        "### 비트 단위 논리 연산자"
      ],
      "metadata": {
        "id": "bn5KtzAmer9t"
      }
    },
    {
      "cell_type": "markdown",
      "source": [
        "& -> 비트 논리곱 연산자(bitwise and operator)\n",
        "| -> 비트 논리합 연산자(bitwise inclusive or operator)\n",
        "^ -> 비트 배타적 논리합 연산자(bitwise exclusive or operator)\n",
        "~ -> 비트 반전 연산자(bitwise invert operator)"
      ],
      "metadata": {
        "id": "B-I_QC4kev3V"
      }
    },
    {
      "cell_type": "code",
      "source": [
        "# 비트 논리곱 &\n",
        "for i in range(2):\n",
        "  for j in range(2):\n",
        "    print(i,'&',j,'=',i & j)\n",
        "\n",
        "# 비트 논리합 |\n",
        "for i in range(2):\n",
        "  for j in range(2):\n",
        "    print(i,'|',j,'=',i | j)\n",
        "\n",
        "# 비트 배타적 논리합 ^\n",
        "for i in range(2):\n",
        "  for j in range(2):\n",
        "    print(i,'^',j,'=',i ^ j)\n",
        "\n",
        "# 비트 반전\n",
        "# 파이썬 사양에 따라 -(x + 1)이 된다.\n",
        "for i in range(2):\n",
        " print('~',i,'=',~i)"
      ],
      "metadata": {
        "colab": {
          "base_uri": "https://localhost:8080/"
        },
        "id": "RMq6TCbsfO_E",
        "outputId": "3cfb5601-d241-4922-9aa4-c81ac14b9a66"
      },
      "execution_count": null,
      "outputs": [
        {
          "output_type": "stream",
          "name": "stdout",
          "text": [
            "0 & 0 = 0\n",
            "0 & 1 = 0\n",
            "1 & 0 = 0\n",
            "1 & 1 = 1\n",
            "0 | 0 = 0\n",
            "0 | 1 = 1\n",
            "1 | 0 = 1\n",
            "1 | 1 = 1\n",
            "0 ^ 0 = 0\n",
            "0 ^ 1 = 1\n",
            "1 ^ 0 = 1\n",
            "1 ^ 1 = 0\n",
            "~ 0 = -1\n",
            "~ 1 = -2\n"
          ]
        }
      ]
    },
    {
      "cell_type": "code",
      "source": [
        "# List 5-7\n",
        "\n",
        "# 비트 단위의 논리곱, 논리합, 배타적 논리합, 반전 확인하기\n",
        "\n",
        "a = int(input('양의 정수 a:'))\n",
        "b = int(input('양의 정수 b:'))\n",
        "w = int(input('출력할 자릿수:'))\n",
        "\n",
        "f = '{{:0{}b}}'.format(w)\n",
        "m = 2 ** w -1 # w자리 모두 1의 2진수에 해당\n",
        "\n",
        "print('a     = ' + f.format(a))\n",
        "print('b     = ' + f.format(b))\n",
        "print('a & b = ' + f.format(a & b))\n",
        "print('a | b = ' + f.format(a | b))\n",
        "print('a ^ b = ' + f.format(a ^ b))\n",
        "print('~a    = ' + f.format(~a & m))\n",
        "print('~b    = ' + f.format(~b & m))"
      ],
      "metadata": {
        "colab": {
          "base_uri": "https://localhost:8080/"
        },
        "id": "BBuy4JAXfhma",
        "outputId": "ed49ad21-5c69-4a60-9bf3-0d24bf420c18"
      },
      "execution_count": null,
      "outputs": [
        {
          "output_type": "stream",
          "name": "stdout",
          "text": [
            "양의 정수 a:3\n",
            "양의 정수 b:4\n",
            "출력할 자릿수:7\n",
            "a     = 0000011\n",
            "b     = 0000100\n",
            "a & b = 0000000\n",
            "a | b = 0000111\n",
            "a ^ b = 0000111\n",
            "~a    = 1111100\n",
            "~b    = 1111011\n"
          ]
        }
      ]
    },
    {
      "cell_type": "markdown",
      "source": [
        "#### 논리 연산의 응용"
      ],
      "metadata": {
        "id": "jzwozCsGlEel"
      }
    },
    {
      "cell_type": "code",
      "source": [
        "# List 5-8\n",
        "\n",
        "# 하위 4비트를 마스크/세트/반전하기\n",
        "\n",
        "a = int(input('0~255의 정수:'))\n",
        "\n",
        "print('2진수 = {:08b}'.format(a))\n",
        "\n",
        "# 마스크/세트/반전의 개념과 응용은 추후 업데이트"
      ],
      "metadata": {
        "colab": {
          "base_uri": "https://localhost:8080/"
        },
        "id": "U7lLPRXEvLQe",
        "outputId": "7d76d20f-6b37-486e-933d-ab05efecfd07"
      },
      "execution_count": null,
      "outputs": [
        {
          "output_type": "stream",
          "name": "stdout",
          "text": [
            "0~255의 정수:2\n",
            "2진수 = 00000010\n"
          ]
        }
      ]
    },
    {
      "cell_type": "markdown",
      "source": [
        "###비트 시프트 연산자"
      ],
      "metadata": {
        "id": "I9w493TwvnuM"
      }
    },
    {
      "cell_type": "code",
      "source": [
        "# 추후 업데이트"
      ],
      "metadata": {
        "id": "F8WGFmKEv-EO"
      },
      "execution_count": null,
      "outputs": []
    },
    {
      "cell_type": "markdown",
      "source": [
        "## 문자열 기초"
      ],
      "metadata": {
        "id": "g4CWNnz7wIQl"
      }
    },
    {
      "cell_type": "markdown",
      "source": [
        "### 문자열"
      ],
      "metadata": {
        "id": "fGe-PNfywZZN"
      }
    },
    {
      "cell_type": "markdown",
      "source": [
        "파이썬에서는 단일, 여러 문자도 모두 문자열로 취급한다."
      ],
      "metadata": {
        "id": "OBCAZwHZwbrq"
      }
    },
    {
      "cell_type": "code",
      "source": [
        "# List 6-1\n",
        "\n",
        "# 문자열의 모든 문자를 순서대로 출력하기 1\n",
        "\n",
        "s = 'ABCDEFG'\n",
        "print(len(s))\n",
        "for i in s:\n",
        "  print(i)\n",
        "\n",
        "for i in range(len(s)):\n",
        "  print(s[i])"
      ],
      "metadata": {
        "colab": {
          "base_uri": "https://localhost:8080/"
        },
        "id": "6XGXRbBHw-QU",
        "outputId": "70bbc19b-39e8-437f-cfda-f4518a1ffe05"
      },
      "execution_count": null,
      "outputs": [
        {
          "output_type": "stream",
          "name": "stdout",
          "text": [
            "7\n",
            "A\n",
            "B\n",
            "C\n",
            "D\n",
            "E\n",
            "F\n",
            "G\n",
            "A\n",
            "B\n",
            "C\n",
            "D\n",
            "E\n",
            "F\n",
            "G\n"
          ]
        }
      ]
    },
    {
      "cell_type": "markdown",
      "source": [
        "### 인덱스를 사용한 문자열 탐색"
      ],
      "metadata": {
        "id": "k7Y6il8dxHMV"
      }
    },
    {
      "cell_type": "code",
      "source": [
        "# List 6-3\n",
        "\n",
        "# 입력받은 문자열의 모든 문자를 for문으로 출력하기\n",
        "\n",
        "s = input('문자열:')\n",
        "\n",
        "for i in range(len(s)):\n",
        "  print('s[{}] = {}'.format(i,s[i]))\n"
      ],
      "metadata": {
        "colab": {
          "base_uri": "https://localhost:8080/"
        },
        "id": "Y-yaQvGYxpi2",
        "outputId": "dec3995e-e9a0-419a-e4d8-fec61cacfb02"
      },
      "execution_count": null,
      "outputs": [
        {
          "output_type": "stream",
          "name": "stdout",
          "text": [
            "문자열:ABCE\n",
            "s[0] = A\n",
            "s[1] = B\n",
            "s[2] = C\n",
            "s[3] = E\n"
          ]
        }
      ]
    },
    {
      "cell_type": "markdown",
      "source": [
        "### 문자열 내의 문자 검색"
      ],
      "metadata": {
        "id": "EDh-Incux5U8"
      }
    },
    {
      "cell_type": "code",
      "source": [
        "# List 6-4\n",
        "\n",
        "# 입력받은 문자열에서 문자 찾기\n",
        "\n",
        "s = input('문자열s :')\n",
        "c = input('찾을 문자c :')\n",
        "\n",
        "for i in range(len(s)):\n",
        "  if c not in s:\n",
        "    print('문자 {}는 없습니다'.format(c))\n",
        "    break\n",
        "  if s[i] == c:\n",
        "    print('문자 {}는 S[{}]에 있습니다'.format(c,i))\n",
        "\n",
        "# 이 코드의 효율이 얼마나 좋은지는 모르겠음 아직 공부를 깊게 하지 않았기 때문이다\n",
        "# in 함수가 어떻게 작동하냐에 따라 다를 듯 하다. 만약 c not in s 에서 걸리는 시간이 적다면?\n",
        "# 괜찮은 코드일 듯 하다."
      ],
      "metadata": {
        "colab": {
          "base_uri": "https://localhost:8080/"
        },
        "id": "kDxcVyz7yDFs",
        "outputId": "920654bb-7a0e-4e70-d0d3-5f2766f3d717"
      },
      "execution_count": null,
      "outputs": [
        {
          "output_type": "stream",
          "name": "stdout",
          "text": [
            "문자열s :ABDVEIWUFHdsKVJBEhWEfush\n",
            "찾을 문자c :E\n",
            "문자 E는 S[4]에 있습니다\n",
            "문자 E는 S[16]에 있습니다\n",
            "문자 E는 S[19]에 있습니다\n"
          ]
        }
      ]
    },
    {
      "cell_type": "markdown",
      "source": [
        "### 슬라이스"
      ],
      "metadata": {
        "id": "IT4tBh5Fysd3"
      }
    },
    {
      "cell_type": "markdown",
      "source": [
        "슬라이스에는 [ i : j : k ] 를 사용한다.\n",
        "i 는 시작인덱스, j-1까지 추출하는 j, 간격은 k 로 설정한다.\n",
        "i,j,k 에는 규칙이 있는데\n",
        "* i와 j가 len(s) 보다 크면 len(s)라고 간주한다.\n",
        "* i가 생략되거나 None이면 0이라고 간주한다.\n",
        "* j가 생략되거나 None이면 len(s)라고 간주한다.\n",
        "그래서 인덱스와는 다르게 범위를 벗어나는 값을 지정해도 오류가 발생하지 않는다."
      ],
      "metadata": {
        "id": "_PfLj_uT1Rfp"
      }
    },
    {
      "cell_type": "markdown",
      "source": [
        "range와 슬라이스식의 지정 값에 대하여\n",
        "range(n), range(a,b)가 생성하는 수열의 최종 값은 n, b-1이며\n",
        "s[:n], s[a:b] 도 마찬가지 입니다. 이렇게 하면 장점은\n",
        "1. n, b-a로 길이를 알 수 있다.\n",
        "2. range(a,b), range(b,c)나 s[:n], s[n:]를 사용해 요소를 중복없이 나열 가능하다."
      ],
      "metadata": {
        "id": "cgwJvUSr3jPj"
      }
    },
    {
      "cell_type": "markdown",
      "source": [
        "### 비교 연산자를 사용한 대소 관계 및 등가성 판정"
      ],
      "metadata": {
        "id": "EASZsQYL8xEd"
      }
    },
    {
      "cell_type": "code",
      "source": [
        "# List 6-5\n",
        "\n",
        "# 문자열 s1과 s2의 대소관계 및 등가성 판정하기\n",
        "\n",
        "s1 = input('문자열s1')\n",
        "s2 = input('문자열s2')\n",
        "\n",
        "print('s1 < s2 = ',str(s1 < s2))\n",
        "print('s1 == s2 = ',str(s1 == s2))\n",
        "print('s1 != s2 = ',str(s1 != s2))"
      ],
      "metadata": {
        "id": "Nh8bBSFU83mB",
        "colab": {
          "base_uri": "https://localhost:8080/"
        },
        "outputId": "179fc647-8b22-431c-93f7-2d4884143116"
      },
      "execution_count": null,
      "outputs": [
        {
          "output_type": "stream",
          "name": "stdout",
          "text": [
            "문자열s1ABC\n",
            "문자열s2XYZ\n",
            "s1 < s2 =  True\n",
            "s1 == s2 =  False\n",
            "s1 != s2 =  True\n"
          ]
        }
      ]
    },
    {
      "cell_type": "markdown",
      "source": [
        "문자열 대소 관계의 판정 기준은 문자열을 이루는 각 문자의 문자 코드입니다.\n",
        "판단 기준은 앞 문자부터 크기를 비교해 나가면서 모든 문자의 대소를 비교하여 결론냅니다.\n",
        "비교 연산자는 연속해서 적용할 수 있기 때문에 AAA <= s <= ZZZ 같은 연속판정 가능합니다."
      ],
      "metadata": {
        "id": "KlAulrLRtuOs"
      }
    },
    {
      "cell_type": "code",
      "source": [
        "print('A' == 'A')\n",
        "print('A' == 'a')\n",
        "print('A' > 'B')\n",
        "print('a' > 'A')\n",
        "print('A' > 'a')\n",
        "print('Ab' > 'ab')\n",
        "print('ab' > 'aB')\n",
        "print('aAbB' > 'aAb') # 앞 문자가 동일하고 하나의 문자만 차이가 있다면 길이가 긴 쪽을 크다고 판단\n",
        "print('aAbB' > 'aa')"
      ],
      "metadata": {
        "colab": {
          "base_uri": "https://localhost:8080/"
        },
        "id": "Oy64WfGruesY",
        "outputId": "1b745501-0aeb-409e-f337-e15d0507ff8d"
      },
      "execution_count": null,
      "outputs": [
        {
          "output_type": "stream",
          "name": "stdout",
          "text": [
            "True\n",
            "False\n",
            "False\n",
            "True\n",
            "False\n",
            "False\n",
            "True\n",
            "True\n",
            "False\n"
          ]
        }
      ]
    },
    {
      "cell_type": "code",
      "source": [
        "# List 6-6\n",
        "\n",
        "# 문자열 s1과 s2 동일성 판정하기\n",
        "\n",
        "s1 = input('문자열 s1:')\n",
        "s2 = input('문자열 s2:')\n",
        "\n",
        "print('s1 is s2 =',str(s1 is s2))\n",
        "print('s1 is not s2=',str(s1 is not s2))"
      ],
      "metadata": {
        "colab": {
          "base_uri": "https://localhost:8080/"
        },
        "id": "mNvAFAsPu0LN",
        "outputId": "6130c6ab-adf4-45ce-e93b-5d64882b170b"
      },
      "execution_count": null,
      "outputs": [
        {
          "output_type": "stream",
          "name": "stdout",
          "text": [
            "문자열 s1:AB\n",
            "문자열 s2:AB\n",
            "s1 is s2 = False\n",
            "s1 is not s2= True\n"
          ]
        }
      ]
    },
    {
      "cell_type": "markdown",
      "source": [
        "각각 만들어진 문자열을 각각 다른 객체입니다.\n",
        "문자열의 모든 문자가 동일하더라도 is 연산자를 이용한 판정결과는 거짓이다.\n",
        "단 단일 문자면 is 연산자의 결과는 참 ('A' is 'A') -> True"
      ],
      "metadata": {
        "id": "RMRo1V0XwIAx"
      }
    },
    {
      "cell_type": "markdown",
      "source": [
        "### 귀속 판정 연산자(membership test operator) in"
      ],
      "metadata": {
        "id": "nwCQDXf9wmMR"
      }
    },
    {
      "cell_type": "code",
      "source": [
        "# List 6-7\n",
        "\n",
        "# 문자열 txt에 문자열 ptn이 있는지 확인하기\n",
        "\n",
        "txt = input('문자열 txt:')\n",
        "ptn = input('문자열 ptn:')\n",
        "\n",
        "if ptn in txt:\n",
        "  print('ptn은 txt에 포함되어 있습니다')\n",
        "else:\n",
        "  print('ptn은 txt에 포함되어 있지 않습니다.')"
      ],
      "metadata": {
        "colab": {
          "base_uri": "https://localhost:8080/"
        },
        "id": "AoeTmjYEwq0x",
        "outputId": "bc0c9e45-dcfc-41cd-d337-541c1036faa6"
      },
      "execution_count": null,
      "outputs": [
        {
          "output_type": "stream",
          "name": "stdout",
          "text": [
            "문자열 txt:ABCDEFG\n",
            "문자열 ptn:CDE\n",
            "ptn은 txt에 포함되어 있습니다\n"
          ]
        }
      ]
    },
    {
      "cell_type": "markdown",
      "source": [
        "in 연산자는 ( x in y in z ) 같이 연속으로 사용 가능함"
      ],
      "metadata": {
        "id": "oJqj0dW8xkyZ"
      }
    },
    {
      "cell_type": "markdown",
      "source": [
        "### enumerate 함수를 이용한 문자열 탐색"
      ],
      "metadata": {
        "id": "g7hPbTJu0CM8"
      }
    },
    {
      "cell_type": "code",
      "source": [
        "# List 6-8\n",
        "\n",
        "# enumerate 함수로 문자열의 모든 문자 탐색하기\n",
        "\n",
        "s = input('문자열: ')\n",
        "\n",
        "for i, ch in enumerate(s):\n",
        "  print('s[{}] = {}'.format(i,ch))"
      ],
      "metadata": {
        "colab": {
          "base_uri": "https://localhost:8080/"
        },
        "id": "xqT75UmJ0GwB",
        "outputId": "3345f34b-b1de-4288-91bb-a671a7ba191a"
      },
      "execution_count": null,
      "outputs": [
        {
          "output_type": "stream",
          "name": "stdout",
          "text": [
            "문자열: AVCDEFG\n",
            "s[0] = A\n",
            "s[1] = V\n",
            "s[2] = C\n",
            "s[3] = D\n",
            "s[4] = E\n",
            "s[5] = F\n",
            "s[6] = G\n"
          ]
        }
      ]
    },
    {
      "cell_type": "code",
      "source": [
        "s = 'ABC'\n",
        "for i,k in enumerate(s):\n",
        "  print(i,k)"
      ],
      "metadata": {
        "colab": {
          "base_uri": "https://localhost:8080/"
        },
        "id": "YYF6cSQD0zg-",
        "outputId": "0f9eb5a2-7e83-4123-d5fd-950caf97e11b"
      },
      "execution_count": null,
      "outputs": [
        {
          "output_type": "stream",
          "name": "stdout",
          "text": [
            "0 A\n",
            "1 B\n",
            "2 C\n"
          ]
        }
      ]
    },
    {
      "cell_type": "code",
      "source": [
        "# List 6-9\n",
        "\n",
        "# enumerate 함수로 문자열의 모든 문자를 탐색하기 (시작값 지정)\n",
        "# 컴퓨터 내부의 카운터는 0 이지만 시작값을 1 로 설정하여 사람처럼 1부터 카운트 가능\n",
        "s = input('문자열 : ')\n",
        "\n",
        "for i,ch, in enumerate(s,1):\n",
        "  print('{} 번째 문자 : {}'.format(i,ch))"
      ],
      "metadata": {
        "colab": {
          "base_uri": "https://localhost:8080/"
        },
        "id": "5lYzyiRz2YBo",
        "outputId": "a8965bdc-ef58-4528-936f-c7c0bab3e928"
      },
      "execution_count": null,
      "outputs": [
        {
          "output_type": "stream",
          "name": "stdout",
          "text": [
            "문자열 : ASBC\n",
            "1 번째 문자 : A\n",
            "2 번째 문자 : S\n",
            "3 번째 문자 : B\n",
            "4 번째 문자 : C\n"
          ]
        }
      ]
    },
    {
      "cell_type": "code",
      "source": [
        "# List 6-10\n",
        "\n",
        "# enumerate 함수를 문자열의 모든 문자를 역으로 탐색하기\n",
        "\n",
        "s = input('문자열 : ')\n",
        "\n",
        "for i,ch, in enumerate(reversed(s),1):\n",
        "  print('뒤에서 {} 번째 문자 : {}'.format(i,ch))"
      ],
      "metadata": {
        "colab": {
          "base_uri": "https://localhost:8080/"
        },
        "id": "ozFTE2Dg04hQ",
        "outputId": "1e8a1f36-659d-411f-9fbe-0f73b9489d0b"
      },
      "execution_count": null,
      "outputs": [
        {
          "output_type": "stream",
          "name": "stdout",
          "text": [
            "문자열 : ABCDEFG\n",
            "뒤에서 1 번째 문자 : G\n",
            "뒤에서 2 번째 문자 : F\n",
            "뒤에서 3 번째 문자 : E\n",
            "뒤에서 4 번째 문자 : D\n",
            "뒤에서 5 번째 문자 : C\n",
            "뒤에서 6 번째 문자 : B\n",
            "뒤에서 7 번째 문자 : A\n"
          ]
        }
      ]
    },
    {
      "cell_type": "markdown",
      "source": [
        "#### enumerate 함수\n",
        "enumerate 함수는 인덱스와 요소, 두 값 모두를 차례대로 탐색할 수 있는 내장함수임.\n",
        "enumerate(s,1) 같이 카운트 시작값을 설정 할 수 있음\n",
        "enumerate(reversed(s),1)같은 활용도 가능\n",
        "문자열뿐 아니라 리스트에도 적용가능함."
      ],
      "metadata": {
        "id": "Retn85t40dVA"
      }
    },
    {
      "cell_type": "markdown",
      "source": [
        "#### reversed 내장함수"
      ],
      "metadata": {
        "id": "sENLkjl82RwR"
      }
    },
    {
      "cell_type": "code",
      "source": [
        "s = 'aabcdefg'\n",
        "s[::-1]\n",
        "re_s = reversed(s)\n",
        "print(re_s)"
      ],
      "metadata": {
        "colab": {
          "base_uri": "https://localhost:8080/"
        },
        "id": "iAO2yOz73Sat",
        "outputId": "f497076a-2444-4f5c-91a7-68052a991a94"
      },
      "execution_count": null,
      "outputs": [
        {
          "output_type": "stream",
          "name": "stdout",
          "text": [
            "<reversed object at 0x7f7492407f70>\n"
          ]
        }
      ]
    },
    {
      "cell_type": "code",
      "source": [
        "s[::-1]"
      ],
      "metadata": {
        "colab": {
          "base_uri": "https://localhost:8080/"
        },
        "id": "raDE_Xn33VcL",
        "outputId": "ade125b4-f2ac-4864-a2f6-527ec9ba4962"
      },
      "execution_count": null,
      "outputs": [
        {
          "output_type": "execute_result",
          "data": {
            "text/plain": [
              "'gfedcbaa'"
            ],
            "application/vnd.google.colaboratory.intrinsic+json": {
              "type": "string"
            }
          },
          "metadata": {},
          "execution_count": 36
        }
      ]
    },
    {
      "cell_type": "markdown",
      "source": [
        "#### 인덱스 값이 필요하지 않은 경우의 문자열 탐색"
      ],
      "metadata": {
        "id": "XD5Kp_IFz8J7"
      }
    },
    {
      "cell_type": "code",
      "source": [
        "# List 6-11\n",
        "\n",
        "# 문자열의 모든 문자 탐색하기\n",
        "s = input('strings :')\n",
        "\n",
        "for ch in s:\n",
        "  print(ch, end='')\n",
        "print()"
      ],
      "metadata": {
        "colab": {
          "base_uri": "https://localhost:8080/"
        },
        "id": "oOtwVfXy0CVw",
        "outputId": "31ef3e82-2ca0-46a5-e5b8-b462550fbb0f"
      },
      "execution_count": null,
      "outputs": [
        {
          "output_type": "stream",
          "name": "stdout",
          "text": [
            "strings :abcedef\n",
            "abcedef\n"
          ]
        }
      ]
    },
    {
      "cell_type": "code",
      "source": [
        "# List 6-12\n",
        "\n",
        "# 문자열의 모든 문자를 역순으로 탐색하기\n",
        "s = input('문자열:')\n",
        "\n",
        "for ch in s[::-1]:\n",
        "  print(ch, end='')\n",
        "print()"
      ],
      "metadata": {
        "colab": {
          "base_uri": "https://localhost:8080/"
        },
        "id": "KlxPM31A0MPi",
        "outputId": "6c7f44a3-47de-42e6-c177-ffa9de9ebccc"
      },
      "execution_count": null,
      "outputs": [
        {
          "output_type": "stream",
          "name": "stdout",
          "text": [
            "문자열:abcd\n",
            "dcba\n"
          ]
        }
      ]
    },
    {
      "cell_type": "markdown",
      "source": [
        "#### 이터러블 객체 iterable object"
      ],
      "metadata": {
        "id": "VXzDzkHD0cnH"
      }
    },
    {
      "cell_type": "markdown",
      "source": [
        "for 변수 in 정렬식 : 스위트 에서 정렬식의 정확한 용어는 '이러터블 객체'이다.  \n",
        "순서대로 요소를 한 개씩 꺼낼 수 있는 객체를 말 한다.  \n",
        "문자열은 대표적인 이터러블 객체이다."
      ],
      "metadata": {
        "id": "cOYAUrgj04ZP"
      }
    },
    {
      "cell_type": "markdown",
      "source": [
        "## 문자열 조작"
      ],
      "metadata": {
        "id": "g5kW9mwC1OBY"
      }
    },
    {
      "cell_type": "markdown",
      "source": [
        "## 리스트"
      ],
      "metadata": {
        "id": "YPxxI00g1PnW"
      }
    },
    {
      "cell_type": "markdown",
      "source": [
        "### 리스트 이해하기"
      ],
      "metadata": {
        "id": "E6Jwg3pr1uBW"
      }
    },
    {
      "cell_type": "markdown",
      "source": [
        "1. 강력한 데이터 저장소인 리스트는 가변 list타입 객체다.  \n",
        "2. 저장되는 요소는 객체를 참조하기 때문에 요소(가 참조하는 객체) 형태는 선택적이다.  \n",
        "즉, 모든 요소의 타입이 동일하지 않아도 되고 요소 자체가 리스트일 수 있다.\n",
        "3. 요소에는 순서가 있다.  \n",
        "4. 인덱스식으로 각 요소에 액세스하여 값을 읽고 쓸 수 있다.  \n",
        "5. 슬라이스식으로 특정 범위의 요소를 연속 또는 일정 간격으로 추출할 수 있다.  \n",
        "6. 요소들을 쉽게 탐색할 수 있다.  \n",
        "7. 요소이 개수는 유동적이다. 일단 만든 후에 자유롭게 확장하거나 축소할 수 있다.  \n",
        "8. 아무런 요소를 갖지 않아도 되며 이를 빈 리스트라고 한다. 빈 리스트의 논리값은 False이다.  \n",
        "9. 정렬이나 반전 등 편리한 기능이 많이 제공된다."
      ],
      "metadata": {
        "id": "4IH1wNcv2KWR"
      }
    },
    {
      "cell_type": "markdown",
      "source": [
        "### 리스트 생성"
      ],
      "metadata": {
        "id": "fxrezMOm4xjT"
      }
    },
    {
      "cell_type": "code",
      "source": [
        "# 리스트 생성 연습\n",
        "\n",
        "list05 = list()\n",
        "list06 = list('abc')\n",
        "list07 = list([1,2,3])\n",
        "list08 = list((1,2,3))\n",
        "list09 = list({1,2,3})\n",
        "list10 = list(range(7))\n",
        "list11 = list(range(3,8))\n",
        "list12 = list(range(3, 13, 2))\n",
        "list13 = [None] * 5"
      ],
      "metadata": {
        "id": "-pYgcCfA67ha"
      },
      "execution_count": null,
      "outputs": []
    },
    {
      "cell_type": "markdown",
      "source": [
        "### 각각 생성된 리스트의 동일성"
      ],
      "metadata": {
        "id": "9dTWgHN39dcq"
      }
    },
    {
      "cell_type": "code",
      "source": [
        "# 각각 생성된 리스트는 모든 요소가 같은 값이여도 다른 아이덴티티를 가진다.\n",
        "# is 연산자로 아이덴티티 판별을 하면 당연히 False가 나온다."
      ],
      "metadata": {
        "id": "XNFr7hQ7_HwR"
      },
      "execution_count": null,
      "outputs": []
    },
    {
      "cell_type": "markdown",
      "source": [
        "### 리스트 대입"
      ],
      "metadata": {
        "id": "LlomL1Fq_mlU"
      }
    },
    {
      "cell_type": "markdown",
      "source": [
        "리스트(를 참조하는 변수)를 대입해도 요소의 배열은 복사되지 않습니다.  \n",
        "대입을 하면 값이 아닌 참조되는 대상을 복사하기 때문"
      ],
      "metadata": {
        "id": "NdK5oiq8_n9B"
      }
    },
    {
      "cell_type": "code",
      "source": [
        "list1 = [1, 2, 3 ,4, 5]\n",
        "list2 = list1\n",
        "list1 is list2"
      ],
      "metadata": {
        "colab": {
          "base_uri": "https://localhost:8080/"
        },
        "id": "vXddgaFlDeXk",
        "outputId": "7b57d92a-9847-40df-bee1-3b4cba53479f"
      },
      "execution_count": null,
      "outputs": [
        {
          "output_type": "execute_result",
          "data": {
            "text/plain": [
              "True"
            ]
          },
          "metadata": {},
          "execution_count": 17
        }
      ]
    },
    {
      "cell_type": "code",
      "source": [
        "list1[2] = 9\n",
        "list1"
      ],
      "metadata": {
        "colab": {
          "base_uri": "https://localhost:8080/"
        },
        "id": "BpuJ7iA7Dloc",
        "outputId": "9b3b956b-aaa0-4efd-dec1-7109d0eacdf7"
      },
      "execution_count": null,
      "outputs": [
        {
          "output_type": "execute_result",
          "data": {
            "text/plain": [
              "[1, 2, 9, 4, 5]"
            ]
          },
          "metadata": {},
          "execution_count": 19
        }
      ]
    },
    {
      "cell_type": "code",
      "source": [
        "list2"
      ],
      "metadata": {
        "colab": {
          "base_uri": "https://localhost:8080/"
        },
        "id": "BArJHZoIDp_3",
        "outputId": "9f461fac-c961-4e4b-b693-582df16bece1"
      },
      "execution_count": null,
      "outputs": [
        {
          "output_type": "execute_result",
          "data": {
            "text/plain": [
              "[1, 2, 9, 4, 5]"
            ]
          },
          "metadata": {},
          "execution_count": 20
        }
      ]
    },
    {
      "cell_type": "markdown",
      "source": [
        "### 리스트 연산"
      ],
      "metadata": {
        "id": "4PbJ8Z-LDtsD"
      }
    },
    {
      "cell_type": "markdown",
      "source": [
        "#### 덧셈, 곱셈 연산"
      ],
      "metadata": {
        "id": "ucuRfTBZK3lu"
      }
    },
    {
      "cell_type": "code",
      "source": [
        "# 리스트 끼리 + 로 결합가능하고, * 연산자로 리스트 반복이 가능하다\n",
        "\n",
        "x = [1,2,3] + [4,5]\n",
        "x"
      ],
      "metadata": {
        "colab": {
          "base_uri": "https://localhost:8080/"
        },
        "id": "vfjw2Q7QD5Se",
        "outputId": "ca27f0ac-7f6c-4a19-c891-853a03424532"
      },
      "execution_count": null,
      "outputs": [
        {
          "output_type": "execute_result",
          "data": {
            "text/plain": [
              "[1, 2, 3, 4, 5]"
            ]
          },
          "metadata": {},
          "execution_count": 22
        }
      ]
    },
    {
      "cell_type": "code",
      "source": [
        "x * 2"
      ],
      "metadata": {
        "colab": {
          "base_uri": "https://localhost:8080/"
        },
        "id": "6RV8az8EKdOS",
        "outputId": "90b8dd26-0313-4ec5-db60-6c74d4009e1b"
      },
      "execution_count": null,
      "outputs": [
        {
          "output_type": "execute_result",
          "data": {
            "text/plain": [
              "[1, 2, 3, 4, 5, 1, 2, 3, 4, 5]"
            ]
          },
          "metadata": {},
          "execution_count": 23
        }
      ]
    },
    {
      "cell_type": "markdown",
      "source": [
        "#### 비교연산자"
      ],
      "metadata": {
        "id": "DPkMml5gKtCW"
      }
    },
    {
      "cell_type": "code",
      "source": [
        "[1,2,3] < [1,2,3,5] < [1,2,3,5,6]"
      ],
      "metadata": {
        "colab": {
          "base_uri": "https://localhost:8080/"
        },
        "id": "QVLZChuoKxdo",
        "outputId": "0b388f45-ce61-4a01-bcf3-b0e36e8d9c77"
      },
      "execution_count": null,
      "outputs": [
        {
          "output_type": "execute_result",
          "data": {
            "text/plain": [
              "True"
            ]
          },
          "metadata": {},
          "execution_count": 24
        }
      ]
    },
    {
      "cell_type": "code",
      "source": [
        "# 왼쪽 요소부터 비교해서 값이 같으면 다음 요소를 비교함\n",
        "# 한쪽 요소가 더 크면 그 요소가 더 큼.\n",
        "# 같은 요소가 반복되다가 한쪽 요소가 더 많은 경우 더 많은 쪽이 크다고 판별"
      ],
      "metadata": {
        "id": "uUo4tNxyK_NT"
      },
      "execution_count": null,
      "outputs": []
    },
    {
      "cell_type": "markdown",
      "source": [
        "### len, min, max 함수"
      ],
      "metadata": {
        "id": "ce-EsEWfLOVn"
      }
    },
    {
      "cell_type": "code",
      "source": [
        "len(x)"
      ],
      "metadata": {
        "colab": {
          "base_uri": "https://localhost:8080/"
        },
        "id": "-JK7LKdELSnQ",
        "outputId": "fe239186-c248-4841-d976-f9b5cba08fc6"
      },
      "execution_count": null,
      "outputs": [
        {
          "output_type": "execute_result",
          "data": {
            "text/plain": [
              "5"
            ]
          },
          "metadata": {},
          "execution_count": 26
        }
      ]
    },
    {
      "cell_type": "code",
      "source": [
        "min(x)"
      ],
      "metadata": {
        "colab": {
          "base_uri": "https://localhost:8080/"
        },
        "id": "MDraq_Q3LUNL",
        "outputId": "90b778ad-2f35-4308-f43e-5c4f236da858"
      },
      "execution_count": null,
      "outputs": [
        {
          "output_type": "execute_result",
          "data": {
            "text/plain": [
              "1"
            ]
          },
          "metadata": {},
          "execution_count": 27
        }
      ]
    },
    {
      "cell_type": "code",
      "source": [
        "max(x)"
      ],
      "metadata": {
        "colab": {
          "base_uri": "https://localhost:8080/"
        },
        "id": "EhG41allLU2B",
        "outputId": "212f869e-3d75-4923-e0f1-a820871ae770"
      },
      "execution_count": null,
      "outputs": [
        {
          "output_type": "execute_result",
          "data": {
            "text/plain": [
              "5"
            ]
          },
          "metadata": {},
          "execution_count": 28
        }
      ]
    },
    {
      "cell_type": "markdown",
      "source": [
        "### 빈 리스트 판정"
      ],
      "metadata": {
        "id": "foRG4qypLVdd"
      }
    },
    {
      "cell_type": "code",
      "source": [
        "# 요소가 없는 리스트는 거짓이다. x가 빈 리스트인지 판별하려면\n",
        "\n",
        "if x :\n",
        "  print()\n",
        "  # 빈 리스트가 아니라면 수트할 스위트\n",
        "else:\n",
        "  print()\n",
        "  # 빈 리스트인 경우 수행할 스위트"
      ],
      "metadata": {
        "colab": {
          "base_uri": "https://localhost:8080/"
        },
        "id": "Rff0ozBFLfNi",
        "outputId": "94709dfa-12a4-4d17-9d3a-42da9adfa310"
      },
      "execution_count": null,
      "outputs": [
        {
          "output_type": "stream",
          "name": "stdout",
          "text": [
            "\n"
          ]
        }
      ]
    },
    {
      "cell_type": "markdown",
      "source": [
        "### 리스트 언팩"
      ],
      "metadata": {
        "id": "jOEUYzf3LwH4"
      }
    },
    {
      "cell_type": "code",
      "source": [
        "x = [1, 2, 3]\n",
        "a,b,c = x\n",
        "a,b,c"
      ],
      "metadata": {
        "colab": {
          "base_uri": "https://localhost:8080/"
        },
        "id": "sL0wpopEL_Ez",
        "outputId": "b1544fb4-5391-4e7d-87bc-84b14a0ead9c"
      },
      "execution_count": null,
      "outputs": [
        {
          "output_type": "execute_result",
          "data": {
            "text/plain": [
              "(1, 2, 3)"
            ]
          },
          "metadata": {},
          "execution_count": 34
        }
      ]
    },
    {
      "cell_type": "code",
      "source": [
        "# 리스트 x의 요소가 각 문자에 대입 되었음.\n",
        "# 한 리스트나 튜플을 쪼개서 여러 요소의 값을 꺼내는 것을 언팩 이라고 합니다."
      ],
      "metadata": {
        "id": "-v8O9tYDMDkq"
      },
      "execution_count": null,
      "outputs": []
    },
    {
      "cell_type": "markdown",
      "source": [
        "### 인덱스 식으로 액세스 하기"
      ],
      "metadata": {
        "id": "Uut8_7rqMiR7"
      }
    },
    {
      "cell_type": "code",
      "source": [
        "x = [1,2,3,4,5]\n",
        "print(x[1])\n",
        "print(x[-1])"
      ],
      "metadata": {
        "colab": {
          "base_uri": "https://localhost:8080/"
        },
        "id": "xc7EHbNUMkzm",
        "outputId": "e7e95465-3ce8-422e-c176-c335cac9a9e7"
      },
      "execution_count": null,
      "outputs": [
        {
          "output_type": "stream",
          "name": "stdout",
          "text": [
            "2\n",
            "5\n"
          ]
        }
      ]
    },
    {
      "cell_type": "markdown",
      "source": [
        "### 슬라이스식으로 액세스하기"
      ],
      "metadata": {
        "id": "JD4PAStmM20_"
      }
    },
    {
      "cell_type": "code",
      "source": [
        "print(x[1:3])\n",
        "print(x[0::2])\n",
        "print(x[::-1])"
      ],
      "metadata": {
        "colab": {
          "base_uri": "https://localhost:8080/"
        },
        "id": "dEdiGEr9NCxE",
        "outputId": "8c6355be-8e8d-496c-a48b-a458b6d6ea5b"
      },
      "execution_count": null,
      "outputs": [
        {
          "output_type": "stream",
          "name": "stdout",
          "text": [
            "[2, 3]\n",
            "[1, 3, 5]\n",
            "[5, 4, 3, 2, 1]\n"
          ]
        }
      ]
    },
    {
      "cell_type": "markdown",
      "source": [
        "### 슬라이스식에 대입하여 요소 치환하기"
      ],
      "metadata": {
        "id": "9Kp4lmweNF20"
      }
    },
    {
      "cell_type": "code",
      "source": [
        "x = [1,2,3,4,5,6,7]\n",
        "\n",
        "# 요소의 개수가 같은 경우\n",
        "x[1:3] = [9,9]\n",
        "print(x)\n",
        "\n",
        "# 요소의 개수가 달라도 가능\n",
        "x[1:3] = [0,0,0]\n",
        "print(x)"
      ],
      "metadata": {
        "colab": {
          "base_uri": "https://localhost:8080/"
        },
        "id": "ACO6fJQPNfnr",
        "outputId": "95a80228-f73b-4fb0-e626-08cfed397730"
      },
      "execution_count": null,
      "outputs": [
        {
          "output_type": "stream",
          "name": "stdout",
          "text": [
            "[1, 9, 9, 4, 5, 6, 7]\n",
            "[1, 0, 0, 0, 4, 5, 6, 7]\n"
          ]
        }
      ]
    },
    {
      "cell_type": "markdown",
      "source": [
        "### 리스트 검색"
      ],
      "metadata": {
        "id": "6Zo2XsCfQCz3"
      }
    },
    {
      "cell_type": "markdown",
      "source": [
        "#### 귀속 판정 연산자 in , not in 판정"
      ],
      "metadata": {
        "id": "8PeRL7VBQRGG"
      }
    },
    {
      "cell_type": "code",
      "source": [
        "a = 1\n",
        "b = [1,2]\n",
        "c = [[1,2],[3,4]]\n",
        "d = [[1,2,3],[4,5]]\n",
        "print(a in b in c)\n",
        "print(a in b in d)"
      ],
      "metadata": {
        "colab": {
          "base_uri": "https://localhost:8080/"
        },
        "id": "NexkhAdDRGNd",
        "outputId": "e7dde87d-1bf7-416c-fb81-333d929e8aa7"
      },
      "execution_count": null,
      "outputs": [
        {
          "output_type": "stream",
          "name": "stdout",
          "text": [
            "True\n",
            "False\n"
          ]
        }
      ]
    },
    {
      "cell_type": "markdown",
      "source": [
        "#### index 메소드 판정"
      ],
      "metadata": {
        "id": "pmG_LSTDROiR"
      }
    },
    {
      "cell_type": "code",
      "source": [
        "x = [11,22,33,44,55,33,77]\n",
        "\n",
        "x.index(22)"
      ],
      "metadata": {
        "colab": {
          "base_uri": "https://localhost:8080/"
        },
        "id": "DdYnZxVuR_nY",
        "outputId": "c875163a-4652-45d6-dfef-98defb330ce9"
      },
      "execution_count": null,
      "outputs": [
        {
          "output_type": "execute_result",
          "data": {
            "text/plain": [
              "1"
            ]
          },
          "metadata": {},
          "execution_count": 56
        }
      ]
    },
    {
      "cell_type": "code",
      "source": [
        "x.index(33, 3)  # x[3] 이후 33의 첫 인덱스"
      ],
      "metadata": {
        "colab": {
          "base_uri": "https://localhost:8080/"
        },
        "id": "YFK1b2bTTB3A",
        "outputId": "639fe9c0-10d8-4a48-d94c-5145de30f984"
      },
      "execution_count": null,
      "outputs": [
        {
          "output_type": "execute_result",
          "data": {
            "text/plain": [
              "5"
            ]
          },
          "metadata": {},
          "execution_count": 57
        }
      ]
    },
    {
      "cell_type": "code",
      "source": [
        "x.index(33,5,7) # x[5] ~ x[7] 에서 33의 첫 인덱스"
      ],
      "metadata": {
        "colab": {
          "base_uri": "https://localhost:8080/"
        },
        "id": "RBXnmXeYTWio",
        "outputId": "a61801ec-8333-4246-909d-a57e79186a39"
      },
      "execution_count": null,
      "outputs": [
        {
          "output_type": "execute_result",
          "data": {
            "text/plain": [
              "5"
            ]
          },
          "metadata": {},
          "execution_count": 58
        }
      ]
    },
    {
      "cell_type": "markdown",
      "source": [
        "#### count 메소드의 발생 빈도 카운트"
      ],
      "metadata": {
        "id": "JdXtLOBjSyvQ"
      }
    },
    {
      "cell_type": "code",
      "source": [
        "[1,2,3,4,4,4,4].count(4)"
      ],
      "metadata": {
        "colab": {
          "base_uri": "https://localhost:8080/"
        },
        "id": "3ZXW6JStSUZq",
        "outputId": "2ac83ff5-8fde-4acc-e481-973d622df6f4"
      },
      "execution_count": null,
      "outputs": [
        {
          "output_type": "execute_result",
          "data": {
            "text/plain": [
              "4"
            ]
          },
          "metadata": {},
          "execution_count": 60
        }
      ]
    },
    {
      "cell_type": "markdown",
      "source": [
        "### 리스트 확장"
      ],
      "metadata": {
        "id": "1ZFGfIoqTtDA"
      }
    },
    {
      "cell_type": "markdown",
      "source": [
        "#### 요소 추가하기(append 메소드)"
      ],
      "metadata": {
        "id": "j-xX476nVMIu"
      }
    },
    {
      "cell_type": "code",
      "source": [
        "# 예) 7-14 요소 추가하기\n",
        "\n",
        "x = [1,2,3,4,5,6,7]\n",
        "x.append(8)\n",
        "x"
      ],
      "metadata": {
        "colab": {
          "base_uri": "https://localhost:8080/"
        },
        "id": "BC_CRqMbVPOQ",
        "outputId": "7702b784-2a83-49cc-bbbc-e2b21596d8b1"
      },
      "execution_count": null,
      "outputs": [
        {
          "output_type": "execute_result",
          "data": {
            "text/plain": [
              "[1, 2, 3, 4, 5, 6, 7, 8]"
            ]
          },
          "metadata": {},
          "execution_count": 1
        }
      ]
    },
    {
      "cell_type": "code",
      "source": [
        "# ex) 7-15\n",
        "\n",
        "x = [1,2,3,4,5]\n",
        "x.append([66,77,88]) # 리스트 안에 리스트가 추가됨\n",
        "x"
      ],
      "metadata": {
        "colab": {
          "base_uri": "https://localhost:8080/"
        },
        "id": "dyNKPDwCVYAf",
        "outputId": "b35776a5-a8e2-42f5-dd7b-3e93512b9524"
      },
      "execution_count": null,
      "outputs": [
        {
          "output_type": "execute_result",
          "data": {
            "text/plain": [
              "[1, 2, 3, 4, 5, [66, 77, 88]]"
            ]
          },
          "metadata": {},
          "execution_count": 3
        }
      ]
    },
    {
      "cell_type": "code",
      "source": [
        "x = [1,2,3,4,5]\n",
        "y = [64,77,38]\n",
        "x += y\n",
        "x"
      ],
      "metadata": {
        "colab": {
          "base_uri": "https://localhost:8080/"
        },
        "id": "FtIo9QmzVn-G",
        "outputId": "e19c47d9-5a39-4c3f-e447-0c820af409a3"
      },
      "execution_count": null,
      "outputs": [
        {
          "output_type": "execute_result",
          "data": {
            "text/plain": [
              "[1, 2, 3, 4, 5, 64, 77, 38]"
            ]
          },
          "metadata": {},
          "execution_count": 4
        }
      ]
    },
    {
      "cell_type": "code",
      "source": [
        "# extend 메소드로 리스트 뒤에 리스트 추가 가능하다\n",
        "\n",
        "x = [1,2,3,4,5]\n",
        "y = [66,77,88]\n",
        "x.extend(y)\n",
        "x"
      ],
      "metadata": {
        "colab": {
          "base_uri": "https://localhost:8080/"
        },
        "id": "SWrFFOTkV0qD",
        "outputId": "04856525-9a21-4183-bcc5-6567dc351885"
      },
      "execution_count": null,
      "outputs": [
        {
          "output_type": "execute_result",
          "data": {
            "text/plain": [
              "[1, 2, 3, 4, 5, 66, 77, 88]"
            ]
          },
          "metadata": {},
          "execution_count": 6
        }
      ]
    },
    {
      "cell_type": "markdown",
      "source": [
        "#### 리스트 반복(곱셈연산자 *와 누적 대입 *=)"
      ],
      "metadata": {
        "id": "XQo4QvG7WLPU"
      }
    },
    {
      "cell_type": "code",
      "source": [
        "# 예) 7-17 리스트 반복\n",
        "\n",
        "x = [1,2,3] * 3\n",
        "x"
      ],
      "metadata": {
        "colab": {
          "base_uri": "https://localhost:8080/"
        },
        "id": "LuBlhFCjWSxs",
        "outputId": "c6931100-e5c3-4b76-b0f5-06da7cf1f0b3"
      },
      "execution_count": null,
      "outputs": [
        {
          "output_type": "execute_result",
          "data": {
            "text/plain": [
              "[1, 2, 3, 1, 2, 3, 1, 2, 3]"
            ]
          },
          "metadata": {},
          "execution_count": 7
        }
      ]
    },
    {
      "cell_type": "markdown",
      "source": [
        "#### 대입과 누적 대입의 차이"
      ],
      "metadata": {
        "id": "ePFpqx_LWcnN"
      }
    },
    {
      "cell_type": "markdown",
      "source": [
        "대입은 x = x + [4,5] 의 형태이다  \n",
        "원래 있던 x 에서 새롭게 생성된 x+[4,5]를 참조하게 된다.  \n",
        "즉 아이덴티티를 id(x)로 비교과면 연산 전과 후가 다르다.  \n",
        "\n",
        "누적 대입은 x += [4,5] 꼴이다  \n",
        "이는 새롭게 생성되는 리가트가 생기는게 아니라 기존 x를 바꿀 뿐이다.  \n",
        "그렇기에 아이덴티티를 비교하면 변화하지 않는다.  \n",
        "\n",
        "이는 가변객체의 본질을 이해하기 위해서 중요하다."
      ],
      "metadata": {
        "id": "iyUInDeeYJyf"
      }
    },
    {
      "cell_type": "markdown",
      "source": [
        "### 요소의 삽입과 삭제  \n",
        "\n",
        "x.insert(i,v)는 x[i]에 v를 대입하고, 그 이후의 요소는 뒤로 밉니다.  \n",
        "i가 x의 범위가 아니라면 x의 끝에 삽입된다."
      ],
      "metadata": {
        "id": "amiRpsY2YvEX"
      }
    },
    {
      "cell_type": "code",
      "source": [
        "# 예) 7-19\n",
        "\n",
        "x = [1,2,3,4,5,6,7]\n",
        "x.insert(4,9)\n",
        "x"
      ],
      "metadata": {
        "colab": {
          "base_uri": "https://localhost:8080/"
        },
        "id": "Jb1LDQKNYx34",
        "outputId": "ab0af064-8c81-46c6-fb64-94c736a01d9a"
      },
      "execution_count": null,
      "outputs": [
        {
          "output_type": "execute_result",
          "data": {
            "text/plain": [
              "[1, 2, 3, 4, 9, 5, 6, 7]"
            ]
          },
          "metadata": {},
          "execution_count": 8
        }
      ]
    },
    {
      "cell_type": "markdown",
      "source": [
        "#### 임의의 값을 가지는 요소의 제거(remove 메소드)  \n",
        "\n",
        "x.remove(v)는 리스트 x에서 v값(여러개가 있으면 가장 첫 번째) 요소를 제거하고 이후 모든 요소를 당김"
      ],
      "metadata": {
        "id": "kQ482HpmZZzY"
      }
    },
    {
      "cell_type": "code",
      "source": [
        "# 예) 7-20\n",
        "\n",
        "x = [1,2,3,4,5,6,7]\n",
        "x.remove(3)\n",
        "x"
      ],
      "metadata": {
        "colab": {
          "base_uri": "https://localhost:8080/"
        },
        "id": "USN6_TrRZrAw",
        "outputId": "16f8fbef-45cc-4685-9339-ba680dc09414"
      },
      "execution_count": null,
      "outputs": [
        {
          "output_type": "execute_result",
          "data": {
            "text/plain": [
              "[1, 2, 4, 5, 6, 7]"
            ]
          },
          "metadata": {},
          "execution_count": 9
        }
      ]
    },
    {
      "cell_type": "code",
      "source": [
        "# 삭제 대상이 중복될 경우 앞에 요소 하나만 제거함\n",
        "# 만약 삭제 대상이 없을 경우 ValueError예외가 발생함.\n",
        "\n",
        "# 이를 해결하기 위해 1. in 연산자 활용 2. 예외처리 수행\n",
        "\n",
        "# 셀프 실습\n",
        "import random\n",
        "for _ in range(5):\n",
        "  x = [1,2,3,4,5,6,7,8,9,10]\n",
        "  r_element = random.randint(1,20)\n",
        "  print('제거 할 요소는',r_element)\n",
        "  if r_element in x:\n",
        "    x.remove(r_element)\n",
        "  print(x)\n",
        "  print()\n"
      ],
      "metadata": {
        "colab": {
          "base_uri": "https://localhost:8080/"
        },
        "id": "fYgkBwj5Z6om",
        "outputId": "bbd64bd2-1d83-4611-c167-92223a5c7d57"
      },
      "execution_count": null,
      "outputs": [
        {
          "output_type": "stream",
          "name": "stdout",
          "text": [
            "제거 할 요소는 14\n",
            "[1, 2, 3, 4, 5, 6, 7, 8, 9, 10]\n",
            "\n",
            "제거 할 요소는 10\n",
            "[1, 2, 3, 4, 5, 6, 7, 8, 9]\n",
            "\n",
            "제거 할 요소는 1\n",
            "[2, 3, 4, 5, 6, 7, 8, 9, 10]\n",
            "\n",
            "제거 할 요소는 1\n",
            "[2, 3, 4, 5, 6, 7, 8, 9, 10]\n",
            "\n",
            "제거 할 요소는 18\n",
            "[1, 2, 3, 4, 5, 6, 7, 8, 9, 10]\n",
            "\n"
          ]
        }
      ]
    },
    {
      "cell_type": "markdown",
      "source": [
        "#### 지정 요소의제삭제(pop 메소드)  \n",
        "\n",
        "x.pop(i)는 요소 x[i]를 제거하고, 그요소의 값을 리턴합니다"
      ],
      "metadata": {
        "id": "0tZQx8YLba3w"
      }
    },
    {
      "cell_type": "code",
      "source": [
        "# 예) 7-21 지정 요소 삭제\n",
        "x = [1,2,3,4,5,6,7]\n",
        "v = x.pop(2)\n",
        "x"
      ],
      "metadata": {
        "colab": {
          "base_uri": "https://localhost:8080/"
        },
        "id": "M26PEuhyggJI",
        "outputId": "4aae9c8c-804d-4902-96bd-dee17582f4a1"
      },
      "execution_count": null,
      "outputs": [
        {
          "output_type": "execute_result",
          "data": {
            "text/plain": [
              "[1, 2, 4, 5, 6, 7]"
            ]
          },
          "metadata": {},
          "execution_count": 26
        }
      ]
    },
    {
      "cell_type": "code",
      "source": [
        "v"
      ],
      "metadata": {
        "colab": {
          "base_uri": "https://localhost:8080/"
        },
        "id": "4SFGk2DpgxFa",
        "outputId": "cbfa4acf-bf5b-4cea-cf4c-411e2ca1091f"
      },
      "execution_count": null,
      "outputs": [
        {
          "output_type": "execute_result",
          "data": {
            "text/plain": [
              "3"
            ]
          },
          "metadata": {},
          "execution_count": 27
        }
      ]
    },
    {
      "cell_type": "code",
      "source": [
        "# 만약 pop함수에 인수를 지정하지 않으면 기본값은 -1로 마지막요소가 사라짐\n",
        "# 삭제하는 요소의 값이 필요하지 않다면 del문을 사용한다."
      ],
      "metadata": {
        "id": "jGb1-__Ng2_6"
      },
      "execution_count": null,
      "outputs": []
    },
    {
      "cell_type": "markdown",
      "source": [
        "#### del문 요소삭제"
      ],
      "metadata": {
        "id": "8qbtIX0bhDfd"
      }
    },
    {
      "cell_type": "code",
      "source": [
        "x = [1,2,3,4,5,6,7]\n",
        "del x[2]\n",
        "x"
      ],
      "metadata": {
        "colab": {
          "base_uri": "https://localhost:8080/"
        },
        "id": "rRwLcfMp7wEB",
        "outputId": "430be9dc-4097-4c64-9ba9-323db8f94560"
      },
      "execution_count": null,
      "outputs": [
        {
          "output_type": "execute_result",
          "data": {
            "text/plain": [
              "[1, 2, 4, 5, 6, 7]"
            ]
          },
          "metadata": {},
          "execution_count": 8
        }
      ]
    },
    {
      "cell_type": "code",
      "source": [
        "del x[0:1]\n",
        "x\n",
        "\n",
        "#del 문의 경우 슬라이스로 요소 선택이 가능함, [:]로 전체삭제도 가능"
      ],
      "metadata": {
        "colab": {
          "base_uri": "https://localhost:8080/"
        },
        "id": "_GapIl5B7zxq",
        "outputId": "8035e316-abba-4ba9-8c8d-7b994f9afa90"
      },
      "execution_count": null,
      "outputs": [
        {
          "output_type": "execute_result",
          "data": {
            "text/plain": [
              "[]"
            ]
          },
          "metadata": {},
          "execution_count": 12
        }
      ]
    },
    {
      "cell_type": "code",
      "source": [
        "del x\n",
        "x\n",
        "#del x 를 사용하면 리스트 자체가 삭제된다."
      ],
      "metadata": {
        "colab": {
          "base_uri": "https://localhost:8080/",
          "height": 218
        },
        "id": "HkUUpHOK8eJl",
        "outputId": "9938b2d7-4148-4faf-ae66-4634ee474dd7"
      },
      "execution_count": null,
      "outputs": [
        {
          "output_type": "error",
          "ename": "NameError",
          "evalue": "ignored",
          "traceback": [
            "\u001b[0;31m---------------------------------------------------------------------------\u001b[0m",
            "\u001b[0;31mNameError\u001b[0m                                 Traceback (most recent call last)",
            "\u001b[0;32m<ipython-input-15-994ddaff323b>\u001b[0m in \u001b[0;36m<cell line: 1>\u001b[0;34m()\u001b[0m\n\u001b[0;32m----> 1\u001b[0;31m \u001b[0;32mdel\u001b[0m \u001b[0mx\u001b[0m\u001b[0;34m\u001b[0m\u001b[0;34m\u001b[0m\u001b[0m\n\u001b[0m\u001b[1;32m      2\u001b[0m \u001b[0mx\u001b[0m\u001b[0;34m\u001b[0m\u001b[0;34m\u001b[0m\u001b[0m\n\u001b[1;32m      3\u001b[0m \u001b[0;31m#del x 를 사용하면 리스트 자체가 삭제된다.\u001b[0m\u001b[0;34m\u001b[0m\u001b[0;34m\u001b[0m\u001b[0m\n",
            "\u001b[0;31mNameError\u001b[0m: name 'x' is not defined"
          ]
        }
      ]
    },
    {
      "cell_type": "markdown",
      "source": [
        "#### 모든 요소의 제거(clear 메소드)\n"
      ],
      "metadata": {
        "id": "eU-HLyOn72Ab"
      }
    },
    {
      "cell_type": "code",
      "source": [
        "# 예) 7-23\n",
        "\n",
        "x = [1,2,3,4,5,6,7]\n",
        "x.clear()\n",
        "x"
      ],
      "metadata": {
        "colab": {
          "base_uri": "https://localhost:8080/"
        },
        "id": "37tnqYQv749P",
        "outputId": "6de51229-a7ff-4c0c-e7da-cb64ec5017bf"
      },
      "execution_count": null,
      "outputs": [
        {
          "output_type": "execute_result",
          "data": {
            "text/plain": [
              "[]"
            ]
          },
          "metadata": {},
          "execution_count": 16
        }
      ]
    },
    {
      "cell_type": "markdown",
      "source": [
        "### 리스트 탐색과 이터러블"
      ],
      "metadata": {
        "id": "tuyUTTNd8Sxp"
      }
    },
    {
      "cell_type": "code",
      "source": [
        "# List 7-3\n",
        "\n",
        "# 리스트의 모든 요소 탐색하기(요소 개수를 미리 확인)\n",
        "\n",
        "x = ['John', 'Georage', 'Paul', 'Ringo']\n",
        "\n",
        "for i in range(len(x)):\n",
        "  print('x[{}] = {}'.format(i,x[i]))"
      ],
      "metadata": {
        "colab": {
          "base_uri": "https://localhost:8080/"
        },
        "id": "c5p_FJT58o_o",
        "outputId": "6ae6f0a9-5939-4f02-e3fb-57553fc33a08"
      },
      "execution_count": null,
      "outputs": [
        {
          "output_type": "stream",
          "name": "stdout",
          "text": [
            "x[0] = John\n",
            "x[1] = Georage\n",
            "x[2] = Paul\n",
            "x[3] = Ringo\n"
          ]
        }
      ]
    },
    {
      "cell_type": "code",
      "source": [
        "# List 7-4\n",
        "\n",
        "# 리스트의 모든 요소를 enumerate 함수로 탐색하기\n",
        "\n",
        "x = ['John', 'Georage', 'Paul', 'Ringo']\n",
        "\n",
        "for i, name in enumerate(x):\n",
        "  print('x[{}] = {}'.format(i,name))"
      ],
      "metadata": {
        "colab": {
          "base_uri": "https://localhost:8080/"
        },
        "id": "ICufOqwK9Obm",
        "outputId": "2d55b623-bbae-4149-941e-6a64a151fb25"
      },
      "execution_count": null,
      "outputs": [
        {
          "output_type": "stream",
          "name": "stdout",
          "text": [
            "x[0] = John\n",
            "x[1] = Georage\n",
            "x[2] = Paul\n",
            "x[3] = Ringo\n"
          ]
        }
      ]
    },
    {
      "cell_type": "code",
      "source": [
        "# List 7-5\n",
        "\n",
        "# 리스트의 모든 요소를 enumerate 함수로 탐색 (카운트 1부터)\n",
        "\n",
        "x = ['John', 'Georage', 'Paul', 'Ringo']\n",
        "\n",
        "for i, name in enumerate(x,1):\n",
        "  print('{}번째 = {}'.format(i,name))"
      ],
      "metadata": {
        "colab": {
          "base_uri": "https://localhost:8080/"
        },
        "id": "eJPX7RgOEHYu",
        "outputId": "24c05bd8-1922-458b-a0ff-148724ee0fe2"
      },
      "execution_count": null,
      "outputs": [
        {
          "output_type": "stream",
          "name": "stdout",
          "text": [
            "1번째 = John\n",
            "2번째 = Georage\n",
            "3번째 = Paul\n",
            "4번째 = Ringo\n"
          ]
        }
      ]
    },
    {
      "cell_type": "code",
      "source": [
        "# List 7-6\n",
        "\n",
        "# 리스트의 모든 요소 탐색하기(인덱스를 사용하지 않음)\n",
        "\n",
        "x = ['John', 'Georage', 'Paul', 'Ringo']\n",
        "\n",
        "for i in x:\n",
        "  print(i)"
      ],
      "metadata": {
        "colab": {
          "base_uri": "https://localhost:8080/"
        },
        "id": "E9bt0ob3EXa3",
        "outputId": "52dbcae6-ce94-44fc-d408-fb88012d16b4"
      },
      "execution_count": null,
      "outputs": [
        {
          "output_type": "stream",
          "name": "stdout",
          "text": [
            "John\n",
            "Georage\n",
            "Paul\n",
            "Ringo\n"
          ]
        }
      ]
    },
    {
      "cell_type": "markdown",
      "source": [
        "#### 역순 탐색"
      ],
      "metadata": {
        "id": "r2RtepTdFOCb"
      }
    },
    {
      "cell_type": "code",
      "source": [
        "# 역순 탐색할 때는 reversed(x) 사용\n",
        "# x[::-1] 사용합니다"
      ],
      "metadata": {
        "id": "1MsHhUXkFXo9"
      },
      "execution_count": null,
      "outputs": []
    },
    {
      "cell_type": "code",
      "source": [
        "x = ['John', 'Georage', 'Paul', 'Ringo']\n",
        "x[::-1]"
      ],
      "metadata": {
        "colab": {
          "base_uri": "https://localhost:8080/"
        },
        "id": "hjvdrI8SFfxb",
        "outputId": "57b57ebe-f38f-4920-e7a1-5292267dc4e6"
      },
      "execution_count": null,
      "outputs": [
        {
          "output_type": "execute_result",
          "data": {
            "text/plain": [
              "['Ringo', 'Paul', 'Georage', 'John']"
            ]
          },
          "metadata": {},
          "execution_count": 44
        }
      ]
    },
    {
      "cell_type": "markdown",
      "source": [
        "#### 튜플과 집합 탐색"
      ],
      "metadata": {
        "id": "60ACbDfGFh6h"
      }
    },
    {
      "cell_type": "code",
      "source": [
        "#튜플과 집합도 마찬가지임"
      ],
      "metadata": {
        "id": "cN7WP7TpGMQd"
      },
      "execution_count": null,
      "outputs": []
    },
    {
      "cell_type": "markdown",
      "source": [
        "### 리스트 반전"
      ],
      "metadata": {
        "id": "SvsO0xaWGOMA"
      }
    },
    {
      "cell_type": "code",
      "source": [
        "# 예 7-24) reverse 메소드로 요소 순서 반전\n",
        "x = [1,2,3,4,5,6,7]\n",
        "x.reverse()\n",
        "x"
      ],
      "metadata": {
        "colab": {
          "base_uri": "https://localhost:8080/"
        },
        "id": "Tu6O2VTTGQ08",
        "outputId": "c71e4d77-df41-41b5-8805-ef74e569614e"
      },
      "execution_count": null,
      "outputs": [
        {
          "output_type": "execute_result",
          "data": {
            "text/plain": [
              "[7, 6, 5, 4, 3, 2, 1]"
            ]
          },
          "metadata": {},
          "execution_count": 50
        }
      ]
    },
    {
      "cell_type": "markdown",
      "source": [
        "#### reversed(x) 사용시 주의사항"
      ],
      "metadata": {
        "id": "hEnjJTznGZTL"
      }
    },
    {
      "cell_type": "markdown",
      "source": [
        "reversed(x)는 x요소를 역순으로 정렬한 이러터블 객체를 생성하는 것임  \n",
        "리스트 x자체를 변경하는 것이 아니라 새로운 객체를 생성하는 것이고  \n",
        "생성된 객체는 리스트가 아니라 이터러블 객체임으로 리스트화가 추가로 필요함"
      ],
      "metadata": {
        "id": "RaQdI6OOGchM"
      }
    },
    {
      "cell_type": "code",
      "source": [
        "# 예) 7-25\n",
        "\n",
        "x = [1,2,3,4,5,6,7]\n",
        "y = list(reversed(x))\n",
        "y"
      ],
      "metadata": {
        "colab": {
          "base_uri": "https://localhost:8080/"
        },
        "id": "qXnPTZwRGySI",
        "outputId": "207e7552-0404-425d-ce3e-f22ff64824d2"
      },
      "execution_count": null,
      "outputs": [
        {
          "output_type": "execute_result",
          "data": {
            "text/plain": [
              "[7, 6, 5, 4, 3, 2, 1]"
            ]
          },
          "metadata": {},
          "execution_count": 51
        }
      ]
    },
    {
      "cell_type": "markdown",
      "source": [
        "### 리스트를 사용한 성적 처리"
      ],
      "metadata": {
        "id": "I1vz3jCiHCV0"
      }
    },
    {
      "cell_type": "code",
      "source": [
        "# List 7-7\n",
        "\n",
        "# 점수를 입력받아 총점과 평균 구하기 1\n",
        "\n",
        "print('총점과 평균을 구해봅시다.')\n",
        "number = int(input('학생 수:'))\n",
        "\n",
        "score = [None] * number\n",
        "\n",
        "for i in range(number):\n",
        "  score[i] = int(input('{}번 학생의 점수:'.format(i+1)))\n",
        "\n",
        "total = 0\n",
        "for i in range(number):\n",
        "  total += score[i]\n",
        "\n",
        "print('총점은 {}점입니다.'.format(total))\n",
        "print('평균은 {}점입니다.'.format(total/number))"
      ],
      "metadata": {
        "colab": {
          "base_uri": "https://localhost:8080/"
        },
        "id": "5UiuySQmHKvO",
        "outputId": "bca97f26-1dad-4eca-afff-f2d186ff4ddd"
      },
      "execution_count": null,
      "outputs": [
        {
          "output_type": "stream",
          "name": "stdout",
          "text": [
            "총점과 평균을 구해봅시다.\n",
            "학생 수:5\n",
            "1번 학생의 점수:32\n",
            "2번 학생의 점수:68\n",
            "3번 학생의 점수:72\n",
            "4번 학생의 점수:54\n",
            "5번 학생의 점수:92\n",
            "총점은 318점입니다.\n",
            "평균은 63.6점입니다.\n"
          ]
        }
      ]
    },
    {
      "cell_type": "code",
      "source": [
        "# 실행시간을 측정해주는 코드\n",
        "#!pip install ipython-autotime\n",
        "#%load_ext autotime\n",
        "\n",
        "# 책의 코드와 나의 코드의 실행시간을 비교해보려고 했지만 input함수 때문에 측정이 힘듬\n",
        "# 아직 코드가 작고 간단한 편이라 큰 의미가 없을 것 같지만 의문이 들어서 실행해보았음"
      ],
      "metadata": {
        "id": "E_jU_boiOQTf"
      },
      "execution_count": null,
      "outputs": []
    },
    {
      "cell_type": "code",
      "source": [
        "# 다른 방식으로 구현해보기\n",
        "\n",
        "%load_ext autotime\n",
        "\n",
        "print('총점과 평균을 구해봅시다.')\n",
        "number = int(input('학생 수:'))\n",
        "\n",
        "score = []\n",
        "\n",
        "for i in range(number):\n",
        "  score.append(int(input('{}번 학생의 점수'.format(i+1))))\n",
        "\n",
        "print('총점은 {}점입니다'.format(sum(score)))\n",
        "print('평균은 {}점입니다'.format(sum(score)/number))"
      ],
      "metadata": {
        "colab": {
          "base_uri": "https://localhost:8080/"
        },
        "id": "uypckyKFIAb7",
        "outputId": "42f9881c-7556-4c2b-c76a-f7eb329e6d5f"
      },
      "execution_count": null,
      "outputs": [
        {
          "output_type": "stream",
          "name": "stdout",
          "text": [
            "The autotime extension is already loaded. To reload it, use:\n",
            "  %reload_ext autotime\n",
            "총점과 평균을 구해봅시다.\n",
            "학생 수:3\n",
            "1번 학생의 점수2\n",
            "2번 학생의 점수1\n",
            "3번 학생의 점수1\n",
            "총점은 4점입니다\n",
            "평균은 1.3333333333333333점입니다\n",
            "time: 5.83 s (started: 2023-09-11 07:52:25 +00:00)\n"
          ]
        }
      ]
    },
    {
      "cell_type": "code",
      "source": [
        "# List 7-8\n",
        "\n",
        "# 점수를 입력받아 총점과 평균 구하기 2(오류)\n",
        "\n",
        "print('총점과 평균을 구해봅시다.')\n",
        "number = int(input('학생 수:'))\n",
        "\n",
        "score = [None] * number\n",
        "\n",
        "for i, point in enumerate(score):\n",
        "  point = int(input('{}번 학생의 점수:'.format(i + 1)))\n",
        "\n",
        "total = 0\n",
        "for i in range(number):\n",
        "  total += score[i]\n",
        "print(total)\n",
        "print(total / number)"
      ],
      "metadata": {
        "colab": {
          "base_uri": "https://localhost:8080/",
          "height": 380
        },
        "id": "mdhgYYA8JlEs",
        "outputId": "05c7dd08-ad8f-4707-bfe7-294c8a5e7d91"
      },
      "execution_count": null,
      "outputs": [
        {
          "name": "stdout",
          "output_type": "stream",
          "text": [
            "총점과 평균을 구해봅시다.\n",
            "학생 수:5\n",
            "1번 학생의 점수:32\n",
            "2번 학생의 점수:32\n",
            "3번 학생의 점수:43\n",
            "4번 학생의 점수:52\n",
            "5번 학생의 점수:42\n"
          ]
        },
        {
          "output_type": "error",
          "ename": "TypeError",
          "evalue": "ignored",
          "traceback": [
            "\u001b[0;31m---------------------------------------------------------------------------\u001b[0m",
            "\u001b[0;31mTypeError\u001b[0m                                 Traceback (most recent call last)",
            "\u001b[0;32m<ipython-input-56-562a57d1121e>\u001b[0m in \u001b[0;36m<cell line: 14>\u001b[0;34m()\u001b[0m\n\u001b[1;32m     13\u001b[0m \u001b[0mtotal\u001b[0m \u001b[0;34m=\u001b[0m \u001b[0;36m0\u001b[0m\u001b[0;34m\u001b[0m\u001b[0;34m\u001b[0m\u001b[0m\n\u001b[1;32m     14\u001b[0m \u001b[0;32mfor\u001b[0m \u001b[0mi\u001b[0m \u001b[0;32min\u001b[0m \u001b[0mrange\u001b[0m\u001b[0;34m(\u001b[0m\u001b[0mnumber\u001b[0m\u001b[0;34m)\u001b[0m\u001b[0;34m:\u001b[0m\u001b[0;34m\u001b[0m\u001b[0;34m\u001b[0m\u001b[0m\n\u001b[0;32m---> 15\u001b[0;31m   \u001b[0mtotal\u001b[0m \u001b[0;34m+=\u001b[0m \u001b[0mscore\u001b[0m\u001b[0;34m[\u001b[0m\u001b[0mi\u001b[0m\u001b[0;34m]\u001b[0m\u001b[0;34m\u001b[0m\u001b[0;34m\u001b[0m\u001b[0m\n\u001b[0m\u001b[1;32m     16\u001b[0m \u001b[0mprint\u001b[0m\u001b[0;34m(\u001b[0m\u001b[0mtotal\u001b[0m\u001b[0;34m)\u001b[0m\u001b[0;34m\u001b[0m\u001b[0;34m\u001b[0m\u001b[0m\n\u001b[1;32m     17\u001b[0m \u001b[0mprint\u001b[0m\u001b[0;34m(\u001b[0m\u001b[0mtotal\u001b[0m \u001b[0;34m/\u001b[0m \u001b[0mnumber\u001b[0m\u001b[0;34m)\u001b[0m\u001b[0;34m\u001b[0m\u001b[0;34m\u001b[0m\u001b[0m\n",
            "\u001b[0;31mTypeError\u001b[0m: unsupported operand type(s) for +=: 'int' and 'NoneType'"
          ]
        }
      ]
    },
    {
      "cell_type": "code",
      "source": [
        "'''오류가 발생하는 이유에 관하여\n",
        "for 문에 i, point는 enumerate함수로 추출한 값이고 원래 리스트에 영향을 주지 않기 때문에\n",
        "기존 리스트score에는 None값이 그대로 있고, total연산 시 오류가 발생'''"
      ],
      "metadata": {
        "colab": {
          "base_uri": "https://localhost:8080/",
          "height": 56
        },
        "id": "mcoA_OCyKANL",
        "outputId": "2a7eb957-74f1-408d-e4a9-c0d0b1393a14"
      },
      "execution_count": null,
      "outputs": [
        {
          "output_type": "execute_result",
          "data": {
            "text/plain": [
              "'오류가 발생하는 이유에 관하여\\nfor 문에 i, point는 enumerate함수로 추출한 값이고 원래 리스트에 영향을 주지 않기 때문에\\n기존 리스트score에는 None값이 그대로 있고, total연산 시 오류가 발생'"
            ],
            "application/vnd.google.colaboratory.intrinsic+json": {
              "type": "string"
            }
          },
          "metadata": {},
          "execution_count": 57
        }
      ]
    },
    {
      "cell_type": "code",
      "source": [
        "# List 7-9\n",
        "\n",
        "# 점수를 입력받아 총점과 평균 구하기 3(enumerate로 총점 구하기)\n",
        "\n",
        "print('총점과 평균을 구해봅시다.')\n",
        "number = int(input('학생 수:'))\n",
        "\n",
        "score = [None] * number\n",
        "\n",
        "for i in range(number):\n",
        "  score[i] = int(input('{}번 학생의 점수:'.format(i+1)))\n",
        "\n",
        "total = 0\n",
        "for i, point in enumerate(score):\n",
        "  total += point\n",
        "\n",
        "print('총점은 {}점 입니다.'.format(total))\n",
        "print('평균은 {}점 입니다.'.format(total/number))"
      ],
      "metadata": {
        "id": "ePnO7IK5Nn0m",
        "colab": {
          "base_uri": "https://localhost:8080/"
        },
        "outputId": "e4e278cb-7cb9-4a7f-b178-9a556ae2fe9f"
      },
      "execution_count": null,
      "outputs": [
        {
          "output_type": "stream",
          "name": "stdout",
          "text": [
            "총점과 평균을 구해봅시다.\n",
            "학생 수:3\n",
            "1번 학생의 점수:1\n",
            "2번 학생의 점수:2\n",
            "3번 학생의 점수:5\n",
            "총점은 8점 입니다.\n",
            "평균은 2.6666666666666665점 입니다.\n"
          ]
        }
      ]
    },
    {
      "cell_type": "markdown",
      "source": [
        "### 키보드로 입드받은 요소 추가"
      ],
      "metadata": {
        "id": "o9e4fRM7NI3J"
      }
    },
    {
      "cell_type": "code",
      "source": [
        "# List 7-12\n",
        "\n",
        "# 학생 수 없이 점수만 입력받아 총점과 평균 구하기\n",
        "\n",
        "print('총점과 평균을 구해봅시다.')\n",
        "print('\"End를 입력하면 종료됩니다')\n",
        "\n",
        "number = 0\n",
        "score = []\n",
        "\n",
        "while True :\n",
        "  s = input('{}번 학생의 점수:'.format(number+1))\n",
        "  if s == 'End':\n",
        "    break\n",
        "  score.append(int(s))\n",
        "  number += 1\n",
        "total = sum(score)\n",
        "\n",
        "print(total)\n",
        "print(total/number)"
      ],
      "metadata": {
        "colab": {
          "base_uri": "https://localhost:8080/"
        },
        "id": "HI2cNqwxO3eP",
        "outputId": "d6b9a039-f2af-4671-d768-b857dc91b0cd"
      },
      "execution_count": null,
      "outputs": [
        {
          "output_type": "stream",
          "name": "stdout",
          "text": [
            "총점과 평균을 구해봅시다.\n",
            "\"End를 입력하면 종료됩니다\n",
            "1번 학생의 점수:33\n",
            "2번 학생의 점수:233\n",
            "3번 학생의 점수:End\n",
            "266\n",
            "133.0\n",
            "time: 7.96 s (started: 2023-09-11 07:59:13 +00:00)\n"
          ]
        }
      ]
    },
    {
      "cell_type": "markdown",
      "source": [
        "### 리스트 요소의 최댓값과 최솟값"
      ],
      "metadata": {
        "id": "Q5BUjltwPvEj"
      }
    },
    {
      "cell_type": "code",
      "source": [
        "# List 7-14\n",
        "\n",
        "# 학생 수 없이 점수만 입력받아 최고점과 최저점 구하기\n",
        "\n",
        "print('최고점과 최저점을 구해봅시다')\n",
        "print('\"End를 입력하면 종료됩니다')\n",
        "\n",
        "number = 0\n",
        "score = []\n",
        "\n",
        "while True :\n",
        "  s = input('{}번 학생의 점수:'.format(number + 1))\n",
        "  if s == 'End':\n",
        "    break\n",
        "  score.append(int(s))\n",
        "  number += 1\n",
        "print('최고점 : {}'.format(max(score)))\n",
        "print('최저점 : {}'.format(min(score)))"
      ],
      "metadata": {
        "colab": {
          "base_uri": "https://localhost:8080/"
        },
        "id": "9zzjbPtgQZ7F",
        "outputId": "d6ab740f-ed57-4f42-8b92-f289023cff85"
      },
      "execution_count": null,
      "outputs": [
        {
          "output_type": "stream",
          "name": "stdout",
          "text": [
            "최고점과 최저점을 구해봅시다\n",
            "\"End를 입력하면 종료됩니다\n",
            "1번 학생의 점수:1\n",
            "2번 학생의 점수:3\n",
            "3번 학생의 점수:5\n",
            "4번 학생의 점수:7\n",
            "5번 학생의 점수:9\n",
            "6번 학생의 점수:End\n",
            "최고점 : 9\n",
            "최저점 : 1\n",
            "time: 8.3 s (started: 2023-09-11 08:09:18 +00:00)\n"
          ]
        }
      ]
    },
    {
      "cell_type": "markdown",
      "source": [
        "### 리스트로 행렬 구하기"
      ],
      "metadata": {
        "id": "Xps7QDn6STPO"
      }
    },
    {
      "cell_type": "code",
      "source": [
        "x = [None] * 2\n",
        "print(x)\n",
        "for i in range(2) :\n",
        "  x[i] = [None] * 3\n",
        "print(x)"
      ],
      "metadata": {
        "colab": {
          "base_uri": "https://localhost:8080/"
        },
        "id": "Cy8K_O6MSgmh",
        "outputId": "ab191ca7-b23f-44f1-c699-1fe0a54a7bf8"
      },
      "execution_count": null,
      "outputs": [
        {
          "output_type": "stream",
          "name": "stdout",
          "text": [
            "[None, None]\n",
            "[[None, None, None], [None, None, None]]\n",
            "time: 8.05 ms (started: 2023-09-11 08:12:14 +00:00)\n"
          ]
        }
      ]
    },
    {
      "cell_type": "markdown",
      "source": [
        "### 리스트 복사"
      ],
      "metadata": {
        "id": "IfARlq78S8tX"
      }
    },
    {
      "cell_type": "markdown",
      "source": [
        "= 는 대입연산자로 참조의 대상이 좌변에 복사된다는 것이다  \n",
        "다른 말로는 우변의 것을 좌변의 것에 연결한다  \n",
        "하지만 이번에는 대입이 아닌 리스트 자체를 복사하는 법을 알아본다"
      ],
      "metadata": {
        "id": "Gmg1IZ06VevY"
      }
    },
    {
      "cell_type": "markdown",
      "source": [
        "#### copy 메소드"
      ],
      "metadata": {
        "id": "4rWz2pWgVttP"
      }
    },
    {
      "cell_type": "code",
      "source": [
        "list1 = [1,2,3,4,5]\n",
        "list2 = list1.copy()\n",
        "list2[2] = 9\n",
        "print(list1)\n",
        "print(list2)"
      ],
      "metadata": {
        "colab": {
          "base_uri": "https://localhost:8080/"
        },
        "id": "ka8LSHBeVv8g",
        "outputId": "0302acd0-f641-4d7e-cecf-f8c7c6a00f5f"
      },
      "execution_count": null,
      "outputs": [
        {
          "output_type": "stream",
          "name": "stdout",
          "text": [
            "[1, 2, 3, 4, 5]\n",
            "[1, 2, 9, 4, 5]\n",
            "time: 8.39 ms (started: 2023-09-11 08:24:31 +00:00)\n"
          ]
        }
      ]
    },
    {
      "cell_type": "markdown",
      "source": [
        "#### list 함수 이용하기"
      ],
      "metadata": {
        "id": "Y6s6OyqWV4ka"
      }
    },
    {
      "cell_type": "code",
      "source": [
        "list1 = [1,2,3,4,5]\n",
        "list2 = list(list1)\n",
        "list2[2] = 9\n",
        "print(list1)\n",
        "print(list2)"
      ],
      "metadata": {
        "colab": {
          "base_uri": "https://localhost:8080/"
        },
        "id": "jlF4jvZ5WGPN",
        "outputId": "66762ce8-8dec-4f6d-b8ff-cb6838d01c31"
      },
      "execution_count": null,
      "outputs": [
        {
          "output_type": "stream",
          "name": "stdout",
          "text": [
            "[1, 2, 3, 4, 5]\n",
            "[1, 2, 9, 4, 5]\n",
            "time: 5.06 ms (started: 2023-09-11 08:26:03 +00:00)\n"
          ]
        }
      ]
    },
    {
      "cell_type": "markdown",
      "source": [
        "#### 슬라이스식 이용하기"
      ],
      "metadata": {
        "id": "3RR2b9GuWQDf"
      }
    },
    {
      "cell_type": "code",
      "source": [
        "list1 = [1,2,3,4,5]\n",
        "list2 = list1[:]\n",
        "list1[2] = 9\n",
        "print(list1)\n",
        "print(list2)"
      ],
      "metadata": {
        "colab": {
          "base_uri": "https://localhost:8080/"
        },
        "id": "LvjcOiYUWcbh",
        "outputId": "fc29c24e-1de6-4842-f9be-e5150d72f49d"
      },
      "execution_count": null,
      "outputs": [
        {
          "output_type": "stream",
          "name": "stdout",
          "text": [
            "[1, 2, 9, 4, 5]\n",
            "[1, 2, 3, 4, 5]\n"
          ]
        }
      ]
    },
    {
      "cell_type": "code",
      "source": [
        "list2 = list1.copy()\n",
        "list2"
      ],
      "metadata": {
        "id": "1TAqQOzFWiGi",
        "colab": {
          "base_uri": "https://localhost:8080/"
        },
        "outputId": "ff210b01-5f73-44f7-9838-8c40127b2368"
      },
      "execution_count": null,
      "outputs": [
        {
          "output_type": "execute_result",
          "data": {
            "text/plain": [
              "[1, 2, 9, 4, 5]"
            ]
          },
          "metadata": {},
          "execution_count": 4
        }
      ]
    },
    {
      "cell_type": "markdown",
      "source": [
        "### 얕은 복사와 깊은 복사"
      ],
      "metadata": {
        "id": "miGgLgPrtsyg"
      }
    },
    {
      "cell_type": "code",
      "source": [
        "# 앞에서 배운 리스트 복사에는 단점이 존재한다.\n",
        "# 리스트를 요소로 가지는 리스트를 복사할 때 문제가 생김\n",
        "\n",
        "x = [[1,2,3],[4,5,6]]\n",
        "y = x.copy()\n",
        "x[0][1] = 9\n",
        "x"
      ],
      "metadata": {
        "colab": {
          "base_uri": "https://localhost:8080/"
        },
        "id": "vyicdzdut15z",
        "outputId": "39f0fba9-2ee8-47f2-bb29-b2bddc465ff5"
      },
      "execution_count": null,
      "outputs": [
        {
          "output_type": "execute_result",
          "data": {
            "text/plain": [
              "[[1, 9, 3], [4, 5, 6]]"
            ]
          },
          "metadata": {},
          "execution_count": 7
        }
      ]
    },
    {
      "cell_type": "code",
      "source": [
        "y\n",
        "\n",
        "# 결과를 보면 알겠지만 x값을 바꾸었지만 y값도 같이 바뀜......\n",
        "# 얕은 복사가 되었기 떄문이다."
      ],
      "metadata": {
        "colab": {
          "base_uri": "https://localhost:8080/"
        },
        "id": "aLvewiYRuI86",
        "outputId": "d957491b-c907-48ec-aa16-1dca8d2f2788"
      },
      "execution_count": null,
      "outputs": [
        {
          "output_type": "execute_result",
          "data": {
            "text/plain": [
              "[[1, 9, 3], [4, 5, 6]]"
            ]
          },
          "metadata": {},
          "execution_count": 8
        }
      ]
    },
    {
      "cell_type": "code",
      "source": [
        "import copy\n",
        "x = [[1,2,3],[4,5,6]]\n",
        "y = copy.deepcopy(x)\n",
        "x[0][1] = 9\n",
        "print(x)\n",
        "print(y)"
      ],
      "metadata": {
        "id": "X-GhOhc-uJ7g",
        "colab": {
          "base_uri": "https://localhost:8080/"
        },
        "outputId": "c5e6da73-c838-4cdf-aff8-aafcade84510"
      },
      "execution_count": null,
      "outputs": [
        {
          "output_type": "stream",
          "name": "stdout",
          "text": [
            "[[1, 9, 3], [4, 5, 6]]\n",
            "[[1, 2, 3], [4, 5, 6]]\n"
          ]
        }
      ]
    },
    {
      "cell_type": "markdown",
      "source": [
        "### 리스트 내포 표기"
      ],
      "metadata": {
        "id": "rceEsEBH5pcH"
      }
    },
    {
      "cell_type": "markdown",
      "source": [
        "#### 리스트 내포 표기 (list comprehension)"
      ],
      "metadata": {
        "id": "oMMkvpwF5-ih"
      }
    },
    {
      "cell_type": "code",
      "source": [
        "# 예) 7-31 리스트 내포 표기로 리스트 생성하기\n",
        "\n",
        "x = [n for n in range(1,8)]\n",
        "x"
      ],
      "metadata": {
        "colab": {
          "base_uri": "https://localhost:8080/"
        },
        "id": "938Rzgml6PW3",
        "outputId": "a64367bb-9728-4dcb-ed32-d89ed5b3c2f1"
      },
      "execution_count": null,
      "outputs": [
        {
          "output_type": "execute_result",
          "data": {
            "text/plain": [
              "[1, 2, 3, 4, 5, 6, 7]"
            ]
          },
          "metadata": {},
          "execution_count": 2
        }
      ]
    },
    {
      "cell_type": "code",
      "source": [
        "x = [n-1 for n in range(1,8)]\n",
        "x"
      ],
      "metadata": {
        "colab": {
          "base_uri": "https://localhost:8080/"
        },
        "id": "zZ74VzNC6ecu",
        "outputId": "a2b3799b-0712-43fc-854d-184676fe5829"
      },
      "execution_count": null,
      "outputs": [
        {
          "output_type": "execute_result",
          "data": {
            "text/plain": [
              "[0, 1, 2, 3, 4, 5, 6]"
            ]
          },
          "metadata": {},
          "execution_count": 4
        }
      ]
    },
    {
      "cell_type": "code",
      "source": [
        "# 예) 7-32 리스트 내포 표기로 리스트 생성하기(제곱꼴)\n",
        "\n",
        "x = [n*n for n in range(1,8)]\n",
        "x"
      ],
      "metadata": {
        "colab": {
          "base_uri": "https://localhost:8080/"
        },
        "id": "6nfL-9OW6itB",
        "outputId": "ac8b60e1-e4c0-43e7-8d42-4f9895cca45b"
      },
      "execution_count": null,
      "outputs": [
        {
          "output_type": "execute_result",
          "data": {
            "text/plain": [
              "[1, 4, 9, 16, 25, 36, 49]"
            ]
          },
          "metadata": {},
          "execution_count": 5
        }
      ]
    },
    {
      "cell_type": "code",
      "source": [
        "# 예 7-33 리스트 내포 표기로 리스트 생성하기\n",
        "x = [f'{n}{\"+\" if n % 2 == 1 else \"-\"}' for n in range(1,8)]\n",
        "x"
      ],
      "metadata": {
        "colab": {
          "base_uri": "https://localhost:8080/"
        },
        "id": "KSu8NXr46yBa",
        "outputId": "74f80224-5783-4b5f-f72a-1329d308ffbc"
      },
      "execution_count": null,
      "outputs": [
        {
          "output_type": "execute_result",
          "data": {
            "text/plain": [
              "['1+', '2-', '3+', '4-', '5+', '6-', '7+']"
            ]
          },
          "metadata": {},
          "execution_count": 6
        }
      ]
    },
    {
      "cell_type": "code",
      "source": [
        "# 예 7-32 리스트 내포 표기로 리스트 생성하기 (1~7 사이에 짝수)\n",
        "\n",
        "x = [n for n in range(1,8) if n % 2 == 0]\n",
        "x"
      ],
      "metadata": {
        "colab": {
          "base_uri": "https://localhost:8080/"
        },
        "id": "AuvEhPri7Pbv",
        "outputId": "24f76018-0a85-4b9d-8393-12992b01309a"
      },
      "execution_count": null,
      "outputs": [
        {
          "output_type": "execute_result",
          "data": {
            "text/plain": [
              "[2, 4, 6]"
            ]
          },
          "metadata": {},
          "execution_count": 7
        }
      ]
    },
    {
      "cell_type": "markdown",
      "source": [
        "#### 중첩 내포 표기"
      ],
      "metadata": {
        "id": "0QWJznp17g3y"
      }
    },
    {
      "cell_type": "code",
      "source": [
        "#예 7-35 리스트 내포 표기로 리스트 생성하기(for문 중첩)\n",
        "\n",
        "x = [i * 10 + j for i in range(1,3) for j in range(1,4)]\n",
        "x"
      ],
      "metadata": {
        "colab": {
          "base_uri": "https://localhost:8080/"
        },
        "id": "H_9S1BEZ7uCj",
        "outputId": "4ec20ff7-375d-48c4-acb9-779adc6e6b31"
      },
      "execution_count": null,
      "outputs": [
        {
          "output_type": "execute_result",
          "data": {
            "text/plain": [
              "[11, 12, 13, 21, 22, 23]"
            ]
          },
          "metadata": {},
          "execution_count": 8
        }
      ]
    },
    {
      "cell_type": "code",
      "source": [
        "# 예 7-36 중첩 리스트 내포 표기로 2차원 리스트 생성하기\n",
        "table = [[i * 10 + j for i in range(1,3)] for j in range(1,4)]\n",
        "table"
      ],
      "metadata": {
        "colab": {
          "base_uri": "https://localhost:8080/"
        },
        "id": "DWQXIx7t74d2",
        "outputId": "fbfc8ef4-c7e0-4a00-8e72-01b6c929b8ef"
      },
      "execution_count": null,
      "outputs": [
        {
          "output_type": "execute_result",
          "data": {
            "text/plain": [
              "[[11, 21], [12, 22], [13, 23]]"
            ]
          },
          "metadata": {},
          "execution_count": 9
        }
      ]
    },
    {
      "cell_type": "code",
      "source": [
        "# 예 7-37 리스트 내포 표기에 의한 단위행렬의 생성\n",
        "n = 4\n",
        "im = [[1 if i == j else 0 for i in range(n)] for j in range(n)]\n",
        "im"
      ],
      "metadata": {
        "colab": {
          "base_uri": "https://localhost:8080/"
        },
        "id": "0-9lofr681Jm",
        "outputId": "006baa61-4aaf-4b7e-f99b-59ab022c7a22"
      },
      "execution_count": null,
      "outputs": [
        {
          "output_type": "execute_result",
          "data": {
            "text/plain": [
              "[[1, 0, 0, 0], [0, 1, 0, 0], [0, 0, 1, 0], [0, 0, 0, 1]]"
            ]
          },
          "metadata": {},
          "execution_count": 10
        }
      ]
    },
    {
      "cell_type": "markdown",
      "source": [
        "### 균일 시퀀스\n",
        "문자열이나 리스트 같은 데이터는 균일 시퀀스와 컨테이너 시퀀스로 분류됩니다."
      ],
      "metadata": {
        "id": "XCf6fAEzGMvW"
      }
    },
    {
      "cell_type": "markdown",
      "source": [
        "#### 균일 시퀀스와 컨테이너 시퀀스"
      ],
      "metadata": {
        "id": "kHwJpddMGc6t"
      }
    },
    {
      "cell_type": "markdown",
      "source": [
        "#### 배열형 (array 타입)"
      ],
      "metadata": {
        "id": "f0hue3ZDG0yc"
      }
    },
    {
      "cell_type": "code",
      "source": [
        "# array 모듈에서 제공되는 배열 array는 모든 요소가 같은 타입의 숫자 값으로 구성되는 가변적인 균일 시퀀스 입니다."
      ],
      "metadata": {
        "id": "9ESOE8t3HK69"
      },
      "execution_count": null,
      "outputs": []
    },
    {
      "cell_type": "code",
      "source": [
        "# 사실 잘 이해를 못 한 부분 복습시 다시 와서 공부하기"
      ],
      "metadata": {
        "id": "uOEdhgFaIBPn"
      },
      "execution_count": null,
      "outputs": []
    },
    {
      "cell_type": "markdown",
      "source": [
        "## Chapter 8 튜플"
      ],
      "metadata": {
        "id": "fc3rSQwdID3S"
      }
    },
    {
      "cell_type": "markdown",
      "source": [
        "### 튜플\n",
        "\n",
        "튜플은 요소를 순서대로 결합한 것이다.  \n",
        "요소의 쌍이라고도 한다.  \n",
        "튜플의 타입은 tuple입니다.  \n",
        "튜플은 요소의 개수가 몇개라도 상관 없으며 타입도 통일 할 필요가 없다.  \n",
        "하지만 요소의 순서는 의미가 있다.  \n",
        "리스트와는 비슷해 보이겠지만 요소값을 바꿀 수 없는 불변 객체인 점이 차이점이다.  \n",
        "튜플은 소괄호 () 를 사용한다.  \n",
        "\n",
        "불변 객체이기에 장점  \n",
        "메모리를 덜 차지하여 성능이 높아짐\n",
        "요소의 값을 실수로 변경하는 것을 피할 수 있다.  \n",
        "딕셔너리의 키로 사용할 수 있다.    \n"
      ],
      "metadata": {
        "id": "qBHefuryXZti"
      }
    },
    {
      "cell_type": "markdown",
      "source": [
        "### 튜플의 생성"
      ],
      "metadata": {
        "id": "6X6MSBjQX1Di"
      }
    },
    {
      "cell_type": "markdown",
      "source": [
        "#### 결합 연산자로 튜플 생성하기"
      ],
      "metadata": {
        "id": "pdh7w8qcZN_A"
      }
    },
    {
      "cell_type": "code",
      "source": [
        "\n",
        "tuple1 = ()\n",
        "tuple2 = 1,\n",
        "tuple3 = (1,)\n",
        "tuple4 = 1,2,3\n",
        "tuple5 = 1,2,3,\n",
        "tuple6 = (1,2,3)\n",
        "tuple7 = (1,2,3,)\n",
        "tuple8 = 'A', 'B', 'C'\n",
        "\n",
        "# 단 요소가 한개인 경우 요소 뒤에 쉼표를 입력해야 합니다.\n",
        "# 쉼표가 없으면 단일 값으로 간주되기 때문입니다.\n",
        "# ex) tuple2, tuple3"
      ],
      "metadata": {
        "id": "8GpABfD3YUph"
      },
      "execution_count": null,
      "outputs": []
    },
    {
      "cell_type": "code",
      "source": [
        "print(tuple4, tuple5)"
      ],
      "metadata": {
        "colab": {
          "base_uri": "https://localhost:8080/"
        },
        "id": "XRFMH8xsYdE_",
        "outputId": "ae7eab51-e721-47a1-a525-457795dc6aa3"
      },
      "execution_count": null,
      "outputs": [
        {
          "output_type": "stream",
          "name": "stdout",
          "text": [
            "(1, 2, 3) (1, 2, 3)\n"
          ]
        }
      ]
    },
    {
      "cell_type": "markdown",
      "source": [
        "#### tuple함수로 리스트 생성하기"
      ],
      "metadata": {
        "id": "N-U4YFJnYzZJ"
      }
    },
    {
      "cell_type": "code",
      "source": [
        "tuple9 = tuple() # 빈 튜플 생성하기\n",
        "tuple10 = tuple('ABC') # 문자열의 개별 문자에서 생성\n",
        "tuple11 = tuple([1,2,3]) # 리스트에서 생성\n",
        "tuple12 = tuple({1,2,3}) # 집합에서생성\n",
        "\n",
        "tuple12 = tuple(range(7)) # (0,1,2,3,4,5,6)\n",
        "tuple12 = tuple(range(3,8)) # (3,4,5,6,7)\n",
        "tuple13 = tuple(range(3,13,2)) # (3,5,7,9,11)"
      ],
      "metadata": {
        "id": "1z2Amu7XZToC"
      },
      "execution_count": null,
      "outputs": []
    },
    {
      "cell_type": "markdown",
      "source": [
        "#### divmod함수로 튜플 생성하기"
      ],
      "metadata": {
        "id": "zjkxtU24cQ2A"
      }
    },
    {
      "cell_type": "code",
      "source": [
        "# 내장함수 divmod는 첫 번째 인ㅅ를 두 번째 인수로 나는 몫과 나머지를 튜플로 생성하여 리턴합니대\n",
        "\n",
        "tuple16 = divmod(13,3) # (4,1) 몫4 나머지 1\n",
        "\n",
        "# 언팩을 활용하면 몫과 나머지를 서로 다른 변수로 추철 가능합니다\n",
        "div, mod = divmod(13,3)\n",
        "print(div, mod)"
      ],
      "metadata": {
        "colab": {
          "base_uri": "https://localhost:8080/"
        },
        "id": "0RUKWhyzckD0",
        "outputId": "dff4a195-395d-4890-91b3-a1aaca0d84c4"
      },
      "execution_count": null,
      "outputs": [
        {
          "output_type": "stream",
          "name": "stdout",
          "text": [
            "4 1\n"
          ]
        }
      ]
    },
    {
      "cell_type": "markdown",
      "source": [
        "#### 리스트와 튜플의 공통점\n",
        "1. 요소가 없으면 거짓이다  \n",
        "2. 귀속 판정 연산자 in/not in, 덧셈 연산자 +, 곱셈 연산자 * 를 적용가능하다.\n",
        "3. 내장함수 len/ max/ min/ sum 을 활용가능하다. (튜플을 변경하지 않기 때문에)\n",
        "4. 메소드 count/index로 탐색 가능하다\n",
        "5. 다양한 방법으로 모든 요소를 탐색할 수 있다."
      ],
      "metadata": {
        "id": "A5isZB69cwbH"
      }
    },
    {
      "cell_type": "markdown",
      "source": [
        "#### 리스트와 튜플의 차이점"
      ],
      "metadata": {
        "id": "5huVlKs-dSfx"
      }
    },
    {
      "cell_type": "markdown",
      "source": [
        "##### 리스트는 가변형이고 튜플은 불변형이다"
      ],
      "metadata": {
        "id": "JWVvxj2ndj-G"
      }
    },
    {
      "cell_type": "markdown",
      "source": [
        "##### 인덱스 식과 슬라이스 식에서의 차이"
      ],
      "metadata": {
        "id": "K3_w9hzueKsd"
      }
    },
    {
      "cell_type": "code",
      "source": [
        "# 인덱스 식과 슬라이스 식은 튜플에서도 적용 가능하다.\n",
        "# 하지만 인덱스식과 슬라이스 식으로 대입은 불가능하다. 이점은 문자열과 같고 리스트와는 다르다.\n",
        "\n",
        "tp1 = (1,2,3,4,5)\n",
        "tp1[2] = 99 #오류발생"
      ],
      "metadata": {
        "colab": {
          "base_uri": "https://localhost:8080/",
          "height": 218
        },
        "id": "pH_C4kYCdXlQ",
        "outputId": "70e42a59-61d3-495c-c391-78b4d48ca9eb"
      },
      "execution_count": null,
      "outputs": [
        {
          "output_type": "error",
          "ename": "TypeError",
          "evalue": "ignored",
          "traceback": [
            "\u001b[0;31m---------------------------------------------------------------------------\u001b[0m",
            "\u001b[0;31mTypeError\u001b[0m                                 Traceback (most recent call last)",
            "\u001b[0;32m<ipython-input-13-7c539fbc3c33>\u001b[0m in \u001b[0;36m<cell line: 5>\u001b[0;34m()\u001b[0m\n\u001b[1;32m      3\u001b[0m \u001b[0;34m\u001b[0m\u001b[0m\n\u001b[1;32m      4\u001b[0m \u001b[0mtp1\u001b[0m \u001b[0;34m=\u001b[0m \u001b[0;34m(\u001b[0m\u001b[0;36m1\u001b[0m\u001b[0;34m,\u001b[0m\u001b[0;36m2\u001b[0m\u001b[0;34m,\u001b[0m\u001b[0;36m3\u001b[0m\u001b[0;34m,\u001b[0m\u001b[0;36m4\u001b[0m\u001b[0;34m,\u001b[0m\u001b[0;36m5\u001b[0m\u001b[0;34m)\u001b[0m\u001b[0;34m\u001b[0m\u001b[0;34m\u001b[0m\u001b[0m\n\u001b[0;32m----> 5\u001b[0;31m \u001b[0mtp1\u001b[0m\u001b[0;34m[\u001b[0m\u001b[0;36m2\u001b[0m\u001b[0;34m]\u001b[0m \u001b[0;34m=\u001b[0m \u001b[0;36m99\u001b[0m \u001b[0;31m#오류발생\u001b[0m\u001b[0;34m\u001b[0m\u001b[0;34m\u001b[0m\u001b[0m\n\u001b[0m",
            "\u001b[0;31mTypeError\u001b[0m: 'tuple' object does not support item assignment"
          ]
        }
      ]
    },
    {
      "cell_type": "markdown",
      "source": [
        "##### 누적 대입 연산자 += 와 *="
      ],
      "metadata": {
        "id": "ecgRWekad64O"
      }
    },
    {
      "cell_type": "code",
      "source": [
        "# 튜플은 불변 객체이므로 누적 대입 += 과 *= 적용이 불가능해 보이지만 사용 가능합니다.\n",
        "# 그러나 리스트와는 달리 제자리 연산이 수행이 되지 않습니다."
      ],
      "metadata": {
        "id": "gBOLxQm1eDo1"
      },
      "execution_count": null,
      "outputs": []
    },
    {
      "cell_type": "code",
      "source": [
        "# 리스트에서의 누적 대입하기.\n",
        "lst = [1,2,3,]\n",
        "print(id(lst))\n",
        "lst += [4,5]\n",
        "print(lst)\n",
        "print(id(lst))\n",
        "\n",
        "# 누적 대입 연산자가 실행되었고 id또한 같다.\n",
        "# 이는 lst자체가 변경되었다는 뜻"
      ],
      "metadata": {
        "colab": {
          "base_uri": "https://localhost:8080/"
        },
        "id": "fVrsYhTTebnt",
        "outputId": "64e25c53-38bd-4e59-88a6-0ceab9e89767"
      },
      "execution_count": null,
      "outputs": [
        {
          "output_type": "stream",
          "name": "stdout",
          "text": [
            "140301278826112\n",
            "[1, 2, 3, 4, 5]\n",
            "140301278826112\n"
          ]
        }
      ]
    },
    {
      "cell_type": "code",
      "source": [
        "# 튜플에서의 누적 대입 연산\n",
        "tpl = (1,2,3)\n",
        "print(id(tpl))\n",
        "tpl += (4,5)\n",
        "print(tpl)\n",
        "print(id(tpl))\n",
        "\n",
        "# 누적 대입 연산자가 적용되었지만 id가 바뀜\n",
        "# 새로운 튜플이 생성되어 참조를 바꾼 것"
      ],
      "metadata": {
        "colab": {
          "base_uri": "https://localhost:8080/"
        },
        "id": "Bo6OqBh8esDQ",
        "outputId": "f148b675-527b-4c62-edc1-766985d4f2f3"
      },
      "execution_count": null,
      "outputs": [
        {
          "output_type": "stream",
          "name": "stdout",
          "text": [
            "140301278737088\n",
            "(1, 2, 3, 4, 5)\n",
            "140301645582624\n"
          ]
        }
      ]
    },
    {
      "cell_type": "markdown",
      "source": [
        "##### 요소의 추가와 삭제\n",
        "튜플은 요소를 추가하거나 삭제 불가능합니다  \n",
        "insert 나 append 등 다양한 메소드는 튜플에 제공되지 않습니다."
      ],
      "metadata": {
        "id": "MRuhONSmfJH-"
      }
    },
    {
      "cell_type": "markdown",
      "source": [
        "##### 정렬\n",
        "튜펼은 불변 객체이므로 정렬할 수 없습니다. 따라서 튜플을 정렬할때는 다음과 같이 두 단계를 실시함  \n",
        "1. sort 함수로 정렬한 것을 리스트로 생성한다.\n",
        "2. 생성된 리스트를 튜플로 변환한다.  \n"
      ],
      "metadata": {
        "id": "L1GcR0QzfZ3h"
      }
    },
    {
      "cell_type": "code",
      "source": [
        "# 예) 8-3\n",
        "x = (1,3,2)\n",
        "x = tuple(sorted(x)) #sorted 함수는 어떤한 이터러블 객체라도 받지만 리스트를 리턴합니다.\n",
        "x"
      ],
      "metadata": {
        "colab": {
          "base_uri": "https://localhost:8080/"
        },
        "id": "8fD-lnlYhLPl",
        "outputId": "be7f9800-4e95-4ef2-d52e-18dc50f7cdb7"
      },
      "execution_count": null,
      "outputs": [
        {
          "output_type": "execute_result",
          "data": {
            "text/plain": [
              "(1, 2, 3)"
            ]
          },
          "metadata": {},
          "execution_count": 23
        }
      ]
    },
    {
      "cell_type": "markdown",
      "source": [
        "#### list 함수와 tuple 함수의 차이점. 같은 타입을 인수로 받을 때"
      ],
      "metadata": {
        "id": "34twaG6hhTF8"
      }
    },
    {
      "cell_type": "code",
      "source": [
        "lst1 = [1,2,3,4,5]\n",
        "lst2 = list(lst1)\n",
        "lst1[3] = 9\n",
        "print(lst1, lst2) # list함수가 리스트를 인수로 받으면 새로운 리스트를 새로 생성합니다.\n",
        "# 즉 각각 다른 객체를 참조하고, 각각 변경이 가능합니다."
      ],
      "metadata": {
        "colab": {
          "base_uri": "https://localhost:8080/"
        },
        "id": "24D9jzEFigP1",
        "outputId": "48fdb9ff-a5a4-4fe9-d790-0c3661b32ac7"
      },
      "execution_count": null,
      "outputs": [
        {
          "output_type": "stream",
          "name": "stdout",
          "text": [
            "[1, 2, 3, 9, 5] [1, 2, 3, 4, 5]\n"
          ]
        }
      ]
    },
    {
      "cell_type": "code",
      "source": [
        "tpl = (1,2,3,4,5)\n",
        "tpl2 = tuple(tpl)\n",
        "# 반면 튜플은 받은 튜플 그대로를 리턴하며 같은 객체를 잠조합니다."
      ],
      "metadata": {
        "id": "s_1MB_OMilsJ"
      },
      "execution_count": null,
      "outputs": []
    },
    {
      "cell_type": "markdown",
      "source": [
        "#### 팩과 언팩"
      ],
      "metadata": {
        "id": "3xuWildYi5ED"
      }
    },
    {
      "cell_type": "code",
      "source": [
        "tuple4 = 1,2,3,4 #(1,2,3,4)\n",
        "# 이 처럼 4개의 값을 조합하여 튜플로 마드는 것을 팩이라고 합니다"
      ],
      "metadata": {
        "id": "YLlh8eEfjET9"
      },
      "execution_count": null,
      "outputs": []
    },
    {
      "cell_type": "code",
      "source": [
        "a,b,c,d = tuple4 # a,b,c,d 에 1,2,3,4 추출\n",
        "# 이 처럼 튜플 안의 여러 값을 꺼내는 것을 언팩이라고 합니다.\n",
        "\n",
        "a, _, c, _ = tuple4 # a,c 에 1,3을 추출\n",
        "# 특정한 값만 필요하다면 그 외의 변수명을 _로 처리합니다.\n",
        "\n",
        "x, y, z = 1,2,3\n",
        "# 우변에 1,2,3을 팩한 (1,2,3)이 생성됩니다.\n",
        "# 튜플(1,2,3) 을 언팩한 1,2,3이 좌변 x,y,z에 대입됩니다. 라는 작업이 수행되는 것.\n",
        "\n",
        "a,b = b,a # a, b의 값을 교환\n",
        "# 이러한 과정도 팩과 언팩이 차례로 이루어지는 구조입니다."
      ],
      "metadata": {
        "id": "05eiiH723sPh"
      },
      "execution_count": null,
      "outputs": []
    },
    {
      "cell_type": "markdown",
      "source": [
        "#### 언팩의 리스트화"
      ],
      "metadata": {
        "id": "V0CzYNg54l8R"
      }
    },
    {
      "cell_type": "code",
      "source": [
        "tuple4 = 1,2,3,4 #(1,2,3,4)\n",
        "a,b, *c = tuple4 # a에 1, b에 2, c에 [3,4]대입\n",
        "\n",
        "# 변수앞에 *을 사용하여 리스트로 추출하며 최대 한개까지 적용 가능합니다.\n",
        "# 리스트로 추출하는 요소가 없으면 빈 리스트를 추출합니다.\n",
        "\n",
        "a, *b, c = tuple4         # a에 1, b에 [2,3] c에 4를 대입\n",
        "a, b, c, d, *e = tuple4   # a에 1, b에 2, c에 3, d에 4, e에 []대입.\n",
        "a, b, c, *d, e = tuple4   # a에 1, b에 2, c에 3, d에 [], e에 4대입.\n"
      ],
      "metadata": {
        "id": "2eG4JLZp4q8-"
      },
      "execution_count": null,
      "outputs": []
    },
    {
      "cell_type": "markdown",
      "source": [
        "#### 중첩된 튜플에서 언팩"
      ],
      "metadata": {
        "id": "9beb0Eqy54UD"
      }
    },
    {
      "cell_type": "code",
      "source": [
        "tuple5 = (1,2(3,4))\n",
        "a, b, c = tuple5 # a에 1, b에 2, c에 (3,4) 대입.\n",
        "\n",
        "# 중첩된 경우 하나의 튜픙르 추출합니다.\n",
        "# 이는 리스트에서도 마찬가지 입니다."
      ],
      "metadata": {
        "id": "tShhGwAF59L5"
      },
      "execution_count": null,
      "outputs": []
    },
    {
      "cell_type": "markdown",
      "source": [
        "#### enumerate함수로 탐색하기\n",
        "\n",
        "enumerate함수를 사용하면 이터러블 객체에서 인덱스와 요소의 쌍으로 튜플을 추출할 수 있습니다.\n",
        "튜플은 암묵적으로 언팩되어 두 변수에 대입됩니다."
      ],
      "metadata": {
        "id": "z8Sp0rxDrXEu"
      }
    },
    {
      "cell_type": "markdown",
      "source": [
        "#### 튜플의 리스트"
      ],
      "metadata": {
        "id": "LzlcoUWpr8oP"
      }
    },
    {
      "cell_type": "code",
      "source": [
        "students = [\n",
        "    (2012, '김서준'),\n",
        "    (2013, '이서아'),\n",
        "    (2011, '최하준'),\n",
        "]\n",
        "print(students[0])\n",
        "print(students[1])\n",
        "print(students[2])\n",
        "print(students[0][1])\n",
        "\n",
        "# 변수 students는 요소가 세 개인 리스트입니다.\n",
        "# 개별 요소가 튜플이기 때문에 변수의 첫 번째 요소는 튜플로 추출됩니다."
      ],
      "metadata": {
        "colab": {
          "base_uri": "https://localhost:8080/"
        },
        "id": "8btN9UhFsAZk",
        "outputId": "c0af8aaa-0289-4d77-c9a5-0d169d421ee9"
      },
      "execution_count": null,
      "outputs": [
        {
          "output_type": "stream",
          "name": "stdout",
          "text": [
            "(2012, '김서준')\n",
            "(2013, '이서아')\n",
            "(2011, '최하준')\n",
            "김서준\n"
          ]
        }
      ]
    },
    {
      "cell_type": "markdown",
      "source": [
        "#### zip 함수로 리스트 결합하기\n",
        "\n",
        "zip 함수를 사용하면 같은 인덱스의 요소를 튜플화한 것을 모은다"
      ],
      "metadata": {
        "id": "BEOhx9lAsexD"
      }
    },
    {
      "cell_type": "code",
      "source": [
        "p1 = [75,56,89]\n",
        "p2 = [42,85,77]\n",
        "name = ['김','이','최']\n",
        "pl = list(zip(p1,p2)) # zip 함수로 결합한 객체는 zip객체이기에 list나 tuple로 변경하여 사용해야 합니다.\n",
        "print(pl) # pl은 객체를 리스트화하여 모든 요소가 튜플인 리스트 생성\n",
        "\n",
        "\n",
        "pt = tuple(zip(p1,p2,name))\n",
        "print(pt) # pt는 객체를 튜플화하여 모든 요소가 튜플인 튜플을 생성"
      ],
      "metadata": {
        "colab": {
          "base_uri": "https://localhost:8080/"
        },
        "id": "or3wTXf2tHnv",
        "outputId": "ebe1cc9a-ec55-494d-a8f8-9045133473bd"
      },
      "execution_count": null,
      "outputs": [
        {
          "output_type": "stream",
          "name": "stdout",
          "text": [
            "[(75, 42), (56, 85), (89, 77)]\n",
            "((75, 42, '김'), (56, 85, '이'), (89, 77, '최'))\n"
          ]
        }
      ]
    },
    {
      "cell_type": "markdown",
      "source": [
        "만약 요소의 개수가 맞지 않는 경우는 어떻게 zip 할까?  \n",
        "\n",
        "기본적으로 zip 함수는 가장 짧은 요소 개수만큼만 앞에서 추출되고 zip화한다.  \n",
        "ex) 요소 개수가 2, 3, 6인 리스트를 zip하면 앞에 요소 2개만 zip화한다.\n",
        "\n",
        "itertools 모듈의 zip_longest함수를 사용하면 가장 큰 요소 개수에 맞춰서 zip화 가능하다.  \n",
        "부족한 부분은 기본적으로 None으로 채워지고 fillvalue에 값을 지정할 수 있다."
      ],
      "metadata": {
        "id": "rFZPEENNtZdA"
      }
    },
    {
      "cell_type": "code",
      "source": [],
      "metadata": {
        "id": "6q0WjQ8fu6PN"
      },
      "execution_count": null,
      "outputs": []
    },
    {
      "cell_type": "markdown",
      "source": [
        "### 딕셔너리\n",
        "\n",
        "임의의 개수의 요소를 가질 수 있는 dict타입이다.  \n",
        "모든 요소가 key, value의 쌍으로 이루어진다.  \n",
        "리스트와 비교했을 때 인덱스를 자유롭게 설정 가능하고 탐색이 빠릅니다."
      ],
      "metadata": {
        "id": "HUjPTGKkvQX0"
      }
    },
    {
      "cell_type": "code",
      "source": [
        "# List 8-4\n",
        "\n",
        "# 프로야구 선수의 연구 결번 딕셔너리(키가 정수 값이 문자열)\n",
        "\n",
        "retired_number = {\n",
        "    18: '선동열',\n",
        "    36: '이승엽',\n",
        "    21: '박철순'\n",
        "}\n",
        "\n",
        "print(retired_number[18])"
      ],
      "metadata": {
        "colab": {
          "base_uri": "https://localhost:8080/"
        },
        "id": "HvFfEIjJvhHI",
        "outputId": "bd98d835-a688-4ec7-c61e-993b87e3a00a"
      },
      "execution_count": null,
      "outputs": [
        {
          "output_type": "stream",
          "name": "stdout",
          "text": [
            "선동열\n"
          ]
        }
      ]
    },
    {
      "cell_type": "markdown",
      "source": [
        "#### 딕셔너리 생성\n"
      ],
      "metadata": {
        "id": "pnoR7ZwWwiYN"
      }
    },
    {
      "cell_type": "code",
      "source": [
        "# 딕셔너리 연산자 {} 로 생성하기\n",
        "\n",
        "dict01 = {} # 빈 딕셔너리\n",
        "dict02 = {'Korea': 410}"
      ],
      "metadata": {
        "id": "x2oXqnFyydqN"
      },
      "execution_count": null,
      "outputs": []
    },
    {
      "cell_type": "code",
      "source": [
        "# dict함수로 딕셔너리 생성하기\n",
        "\n",
        "dict03 = dict() # 빈 딕셔너리 {}\n",
        "\n",
        "# 튜플 리스트를 활용하기\n",
        "\n",
        "lst = [('Korea',410), ('China',156),('Japan',392)]\n",
        "dict04 = dict(lst)\n",
        "\n",
        "# 두 개의 리스트를 활용하여 만들기\n",
        "\n",
        "key = ['Korea','China','Japan']\n",
        "value = [410, 156, 392]\n",
        "dict05 = dict(zip(key,value))"
      ],
      "metadata": {
        "id": "gENg_KxJypEq"
      },
      "execution_count": null,
      "outputs": []
    },
    {
      "cell_type": "markdown",
      "source": [
        "#### 요소의 순서와 등가 판정(시퀀스형과 매핑형)"
      ],
      "metadata": {
        "id": "cvT-_JOoy_MY"
      }
    },
    {
      "cell_type": "markdown",
      "source": [
        "시퀀스 형인 문자열 리스트 튜플은 요소의 순서가 있습니다.  \n",
        "따라서 연속된 정수 값을 인덱스로 요소에 액세스 할 수 있습니다.\n",
        "\n",
        "반면 딕셔너리는 키와 값의 대응을 나타내는 요소의 집함으로 요소의 순서가 의미가 없기에 매핑형이라고 합니다.  \n",
        "\n",
        "시퀀스형인지 매핑형인지에 따라 비교 연산자 == 와 != 로 동등성을 판정하는데 큰 차이가 있습니다"
      ],
      "metadata": {
        "id": "W3QNnSFbL8Ch"
      }
    },
    {
      "cell_type": "code",
      "source": [
        "#)예 8-6 리스트의 등가성 vs 딕셔너리의 등가성\n",
        "\n",
        "list1 = ['korea', 'china', 'japan']\n",
        "list2 = ['korea', 'japan', 'china']\n",
        "list1 == list2"
      ],
      "metadata": {
        "colab": {
          "base_uri": "https://localhost:8080/"
        },
        "id": "RBoTr8whMSZB",
        "outputId": "912283dd-7599-4a62-9d83-e59b902f876a"
      },
      "execution_count": null,
      "outputs": [
        {
          "output_type": "execute_result",
          "data": {
            "text/plain": [
              "False"
            ]
          },
          "metadata": {},
          "execution_count": 2
        }
      ]
    },
    {
      "cell_type": "code",
      "source": [
        "dict1 = {'kor':'korea', 'chn':'china', 'jpn':'japan'}\n",
        "dict2 = {'kor':'korea', 'jpn':'japan' ,'chn':'china'}\n",
        "dict1 == dict2"
      ],
      "metadata": {
        "colab": {
          "base_uri": "https://localhost:8080/"
        },
        "id": "njGOqHrbSDtE",
        "outputId": "9c969ffe-9038-472a-e2dc-9702de0ae5bd"
      },
      "execution_count": null,
      "outputs": [
        {
          "output_type": "execute_result",
          "data": {
            "text/plain": [
              "True"
            ]
          },
          "metadata": {},
          "execution_count": 4
        }
      ]
    },
    {
      "cell_type": "markdown",
      "source": [
        "리스트나 튜플에서는 요소의 값이 같앋 순서가 다르면 등가가 성립하지 않습니다.  \n",
        "그러나 딕셔너리에서는 요소(키와 값)가 동일하면 순서가 달라도 같다고 판단합니다.  \n",
        "또한 요소의 순서가 없기 때문에 슬라이스 식은 딕셔너리에 적용 불가능합니다."
      ],
      "metadata": {
        "id": "topi493lSg2i"
      }
    },
    {
      "cell_type": "markdown",
      "source": [
        "#### 인덱스식과 get메소드\n",
        "\n",
        "인덱스[키] 형식의 인덱스식으로 해당하는 값을 검색할 수 있습니대."
      ],
      "metadata": {
        "id": "YHQyhb4RS9tg"
      }
    },
    {
      "cell_type": "code",
      "source": [
        "color = {'red':'빨강', 'green':'초록', 'blue':'파랑'}\n",
        "\n",
        "# print(color['pink'])  # 없는 키값을 호출하면 오류가 나옴\n",
        "print(color.get('red'))\n",
        "print(color.get('pink')) # 반면 get메소드는 None값이 출력됨"
      ],
      "metadata": {
        "colab": {
          "base_uri": "https://localhost:8080/"
        },
        "id": "xJLjcvD8S_-F",
        "outputId": "21f2c817-fa15-4da6-c6e1-8d2f80767971"
      },
      "execution_count": null,
      "outputs": [
        {
          "output_type": "stream",
          "name": "stdout",
          "text": [
            "빨강\n",
            "None\n"
          ]
        }
      ]
    },
    {
      "cell_type": "markdown",
      "source": [
        "#### 인덱스식과 setdefault메소드"
      ],
      "metadata": {
        "id": "l9tlG2EnTZF9"
      }
    },
    {
      "cell_type": "code",
      "source": [
        "color['red'] = '레드'     # color['red']의 값 '빨강'을 '레드'로 업데이트\n",
        "\n",
        "color['yellow'] = '노랑'  # 키가 yellow이고 값이 노랑인 요소를 삽입합니다.\n",
        "\n",
        "# 존재하지 않는 키에 접근만 해도 새로운 요소가 추가된다."
      ],
      "metadata": {
        "id": "n-qzmcgXUGz3"
      },
      "execution_count": null,
      "outputs": []
    },
    {
      "cell_type": "markdown",
      "source": [
        "편한 접근은 맞지만 실수로 요소가 추가되는 문제가 발생가능합니다.  \n",
        "그렇기에 setdefault 메소드를 활용합니다.\n",
        "\n",
        "dict.setdefault(key[,value])  \n",
        "key가 딕셔너리에 존재하면 그 값을 리턴합니다.  \n",
        "그렇지 않으면 value인 key를 삽입한다음 value를 리턴합니다.  \n",
        "value를 생략하면 값은 None입니다.  "
      ],
      "metadata": {
        "id": "h15nGdhoUqqz"
      }
    },
    {
      "cell_type": "code",
      "source": [
        "v1 = color.setdefault('red', '레드')\n",
        "print(v1)\n",
        "print(color)\n",
        "\n",
        "v2 = color.setdefault('yellow', '노랑')\n",
        "print(v2)\n",
        "print(color)"
      ],
      "metadata": {
        "colab": {
          "base_uri": "https://localhost:8080/"
        },
        "id": "gcmBRPl6VA7-",
        "outputId": "f86f0d71-981a-4360-b55a-ae408e3cb847"
      },
      "execution_count": null,
      "outputs": [
        {
          "output_type": "stream",
          "name": "stdout",
          "text": [
            "레드\n",
            "{'red': '레드', 'green': '초록', 'blue': '파랑', 'yellow': '노랑'}\n",
            "노랑\n",
            "{'red': '레드', 'green': '초록', 'blue': '파랑', 'yellow': '노랑'}\n"
          ]
        }
      ]
    },
    {
      "cell_type": "markdown",
      "source": [
        "#### update 메소드로 딕셔너리 수정하기\n",
        "\n",
        "dict.update([other])  \n",
        "딕셔너리에 내용을 other 키와 값으로 수정합니다.  \n",
        "기존의 키는 덮어쓰고 리턴값은 None입니다.  \n",
        "other에는 다른 딕셔너리 객체뿐만 아니라 키와 값의 쌍으로 이루어진 이터러블도 입력가능합니다.  \n",
        "키워드 인수가 지정된 경우 그 키와 값의 쌍으로 딕셔너리를 수정합니다.  "
      ],
      "metadata": {
        "id": "OshJwx1aVUcL"
      }
    },
    {
      "cell_type": "markdown",
      "source": [
        "##### 딕셔너리의 결합"
      ],
      "metadata": {
        "id": "tbrPUp14ZWv6"
      }
    },
    {
      "cell_type": "markdown",
      "source": [
        "a.update(b)는 딕셔너리 a에 딕셔너리 b를 결합합니다."
      ],
      "metadata": {
        "id": "c2q4SagmZZJM"
      }
    },
    {
      "cell_type": "code",
      "source": [
        "# List 8-5\n",
        "\n",
        "# update 메소드로 딕셔너리 결합하기(중복없음)\n",
        "\n",
        "rgb = {'red':'빨강', 'green':'초록', 'blue':'파랑'}\n",
        "cmy = {'cyan': '하늘', 'magenta':'자주', 'yellow':'노랑'}\n",
        "\n",
        "# 딕셔너리 rgb에 cmy를 결합\n",
        "\n",
        "rgb.update(cmy)\n",
        "print(rgb)"
      ],
      "metadata": {
        "colab": {
          "base_uri": "https://localhost:8080/"
        },
        "id": "XjSTQ2I0Zlxn",
        "outputId": "636b3257-850e-46b1-bf2b-0c68b9773584"
      },
      "execution_count": null,
      "outputs": [
        {
          "output_type": "stream",
          "name": "stdout",
          "text": [
            "{'red': '빨강', 'green': '초록', 'blue': '파랑', 'cyan': '하늘', 'magenta': '자주', 'yellow': '노랑'}\n"
          ]
        }
      ]
    },
    {
      "cell_type": "code",
      "source": [
        "# List 8-6\n",
        "\n",
        "# update 메소드로 딕셔너리 결합하기(중복 있음)\n",
        "\n",
        "# 만약 중복되는 키가 있다면 update의 벨류값이 우선적으로 업데이트 되어 수정됩니다.\n",
        "\n",
        "rgb = {'red':'빨강', 'green':'초록', 'blue':'파랑'}\n",
        "cmy = {'cyan': '하늘', 'red':'레드', 'yellow':'노랑'}\n",
        "# rgb 와 cmy 에는 'red' 라는 같은 키가 존재함.\n",
        "\n",
        "rgb.update(cmy) # rgb에 딕셔너리 cmy를 결합 (cmy에 우선순위 있음)\n",
        "print(rgb)      # 'red'의 벨류값은 '레드'로 업데이트\n"
      ],
      "metadata": {
        "colab": {
          "base_uri": "https://localhost:8080/"
        },
        "id": "RNhmhrxsaRjG",
        "outputId": "d58fd43f-d37b-4325-a3c9-d355f8951d38"
      },
      "execution_count": null,
      "outputs": [
        {
          "output_type": "stream",
          "name": "stdout",
          "text": [
            "{'red': '레드', 'green': '초록', 'blue': '파랑', 'cyan': '하늘', 'yellow': '노랑'}\n"
          ]
        }
      ]
    },
    {
      "cell_type": "markdown",
      "source": [
        "##### 딕셔너리의 요소 수정"
      ],
      "metadata": {
        "id": "78_P1ovhbPv6"
      }
    },
    {
      "cell_type": "markdown",
      "source": [
        "update 메소드의 인수로 튜플 or 요소 개수가 두 개인 이터러블 객체를 전달하는 방법도 있습니다.  \n",
        "이때 키 = 값 의 형식을 갖습니다.  \n",
        "여러개를 전달하려면 다음과 같은 형식을 사용합니다  \n",
        "> d.update(key=value)  \n",
        "  d.update(key1=value1, key2=value2, ... etc...)  \n",
        "\n",
        "이때, 지정된 키가 딕셔너리 d에 존재하는지에 따라 동작이 달라집니다  \n",
        "> 키가 딕셔너리에 존재 -> 정의(키에 해당하는 값)가 수정된다.  \n",
        "  키가 딕셔너리에 존재하지 않다 -> 정의(키에 해당하는 값)가 삽입된다."
      ],
      "metadata": {
        "id": "uy6nt15AbS6e"
      }
    },
    {
      "cell_type": "code",
      "source": [
        "# List 8-7\n",
        "\n",
        "# update 메소드로 딕셔너리 수정 (여러 요소의 일괄 삽입이나 수정용으로 유용)\n",
        "\n",
        "rgb = {'red':'빨강', 'green':'초록', 'blue':'파랑'}\n",
        "\n",
        "rgb.update(red='레드', blue='블루', yellow='옐로우')\n",
        "# 전달하는 인수의 키는 ''로 묶지 않습니다. 'red'가 아닌 red를 전달합니다.\n",
        "print(rgb)"
      ],
      "metadata": {
        "colab": {
          "base_uri": "https://localhost:8080/"
        },
        "id": "J8Uzy_tEbw48",
        "outputId": "a5fdf43c-9458-40c3-cfa1-ee6abaaf4b24"
      },
      "execution_count": null,
      "outputs": [
        {
          "output_type": "stream",
          "name": "stdout",
          "text": [
            "{'red': '레드', 'green': '초록', 'blue': '블루', 'yellow': '옐로우'}\n"
          ]
        }
      ]
    },
    {
      "cell_type": "markdown",
      "source": [
        "##### 딕셔너리와 연산자  \n",
        "리스트나 튜플과 달리 딕셔너리는 +, *, +=, *=, 적용 불가합니다"
      ],
      "metadata": {
        "id": "NJ2Dbz9acsDk"
      }
    },
    {
      "cell_type": "markdown",
      "source": [
        "##### 순서를 가지는 딕셔너리\n",
        "학습한 대로 딕셔너리는 요소 순서에는 의미가 없다.  \n",
        "하지만 키를 순서대로 저장해야 한다면 collections.OrderedDict타입의 딕셔너리를 사용해야함"
      ],
      "metadata": {
        "id": "kl8U9CaKfjlU"
      }
    },
    {
      "cell_type": "markdown",
      "source": [
        "#### 요소 제거"
      ],
      "metadata": {
        "id": "XRKqkcnWftbm"
      }
    },
    {
      "cell_type": "markdown",
      "source": [
        "##### pop 메소드로 제거하기\n",
        "\n",
        "인수로 키를 전달하고 pop 메소드를 호출하면 그 키를 가진 요소가 제거됩니다.  \n",
        "pop 메소드는 리스트와 같이 삭제한 값을 리턴합니다.  \n",
        "존재하지 않는 키값을 지정하면 KeyError 예외가 발생합니다."
      ],
      "metadata": {
        "id": "LgP04Omnfwd1"
      }
    },
    {
      "cell_type": "code",
      "source": [
        "rgb = {'red':'빨강', 'green':'초록', 'blue':'파랑'}\n",
        "print(rgb.pop('red'))           # pop 메소드는 값을 리턴합니다\n",
        "print(rgb)                      # 기존 딕셔너리에서는 제거되었습니다"
      ],
      "metadata": {
        "colab": {
          "base_uri": "https://localhost:8080/"
        },
        "id": "_II5lVwkhEb_",
        "outputId": "5f2bcf29-128d-4c5a-ad60-899b76007ee1"
      },
      "execution_count": null,
      "outputs": [
        {
          "output_type": "stream",
          "name": "stdout",
          "text": [
            "빨강\n",
            "{'green': '초록', 'blue': '파랑'}\n"
          ]
        }
      ]
    },
    {
      "cell_type": "markdown",
      "source": [
        "##### del문으로 제거하기\n",
        "\n",
        "제거하는 값이 필요하지 않은 경우에는 del문을 사용합니다.  \n",
        "인덱스식을 지정하면 해당 키를 가진 요소가 제거됩니다.  \n",
        "존재하지 않는 키를 지정하면 KeyError예외 오류가 발생합니다."
      ],
      "metadata": {
        "id": "UrhzYoZfgSkP"
      }
    },
    {
      "cell_type": "code",
      "source": [
        "rgb = {'red':'빨강', 'green':'초록', 'blue':'파랑'}\n",
        "del rgb['red']                  # 리턴값은 없다\n",
        "print(rgb)                      # 기존 딕셔너리에 'red' 와 값은 삭제되었다.\n",
        "\n",
        "del rgb                         # del을 사용하여 딕셔너리 자체를 삭제한 것\n",
        "# print(rgb)                    # 자체 삭제되었습으로 print하면 오류 발생"
      ],
      "metadata": {
        "colab": {
          "base_uri": "https://localhost:8080/"
        },
        "id": "j9B1dC2-hZ-S",
        "outputId": "b283343a-cecc-4c2c-bff0-2961eebbe4af"
      },
      "execution_count": null,
      "outputs": [
        {
          "output_type": "stream",
          "name": "stdout",
          "text": [
            "{'green': '초록', 'blue': '파랑'}\n"
          ]
        }
      ]
    },
    {
      "cell_type": "markdown",
      "source": [
        "##### clear 메소드로 전체 요소 제거하기\n",
        "\n",
        "리스트와 마찬가지로 clear 메소드로 딕셔너리의 모든 요소를 제거할 수 있습니다.  \n",
        "즉 기존 딕셔너리를 빈 딕셔너리로 만듭니다.\n",
        "\n",
        "> color = {} 대입으로 딕셔너리를 비울 수도 있습니다."
      ],
      "metadata": {
        "id": "fJZ375CJgf-M"
      }
    },
    {
      "cell_type": "code",
      "source": [
        "rgb = {'red':'빨강', 'green':'초록', 'blue':'파랑'}\n",
        "rgb.clear()             # 딕셔너리 rgb의 모든 요소를 제거\n",
        "print(rgb)"
      ],
      "metadata": {
        "colab": {
          "base_uri": "https://localhost:8080/"
        },
        "id": "InWupnXug2BV",
        "outputId": "db348556-b13b-4435-ccf1-1074d2840ac7"
      },
      "execution_count": null,
      "outputs": [
        {
          "output_type": "stream",
          "name": "stdout",
          "text": [
            "{}\n"
          ]
        }
      ]
    },
    {
      "cell_type": "markdown",
      "source": [
        "#### 딕셔너리의 기본 조작"
      ],
      "metadata": {
        "id": "kkvYdL2ritn_"
      }
    },
    {
      "cell_type": "markdown",
      "source": [
        "###### 귀속 판정 연산자로 키 포함 여부 판정  \n",
        "in 과 not in 연산자를 사용하여 키가 존재하는지 확인 가능합니다.  \n",
        "액세스 전에 판정하면 KeyError 예외를 발지할 수 있습니다.\n",
        "\n",
        "> *참고*  \n",
        " 문자열, 리스트, 튜플에서 귀속 판정 연산자의 판정 대상은 값이다.  \n",
        " 하지만 딕셔너리는 키이다. 이는 딕셔너리가 키 중심이라는 것을 보여주는 예시다."
      ],
      "metadata": {
        "id": "7JRZNzwai6h1"
      }
    },
    {
      "cell_type": "code",
      "source": [
        "rgb = {'red':'빨강', 'green':'초록', 'blue':'파랑'}\n",
        "\n",
        "if 'red' in rgb:\n",
        "  rgb['red'] = '레드'\n",
        "print(rgb)"
      ],
      "metadata": {
        "colab": {
          "base_uri": "https://localhost:8080/"
        },
        "id": "AyW4yrQcjOxw",
        "outputId": "7a27689f-9136-4f97-804e-9688ca0ce267"
      },
      "execution_count": null,
      "outputs": [
        {
          "output_type": "stream",
          "name": "stdout",
          "text": [
            "{'red': '레드', 'green': '초록', 'blue': '파랑'}\n"
          ]
        }
      ]
    },
    {
      "cell_type": "markdown",
      "source": [
        "##### len 함수로 요소 개수 확인하기\n",
        "문자열 리스트와 마찬가지로 내장 함수인 len함수로 요소 개수를 얻을 수 있습니다"
      ],
      "metadata": {
        "id": "_zzYw_a_jrqH"
      }
    },
    {
      "cell_type": "markdown",
      "source": [
        "##### copy 메소드로 복사하기\n",
        "딕셔너리에 제공되는 copy 메소드로 딕셔너리를 복사할 수 있습니다"
      ],
      "metadata": {
        "id": "14hYJDU6kGWt"
      }
    },
    {
      "cell_type": "markdown",
      "source": [
        "#### 딕셔너리 탐색"
      ],
      "metadata": {
        "id": "KJdTGu18kMSV"
      }
    },
    {
      "cell_type": "code",
      "source": [
        "# List 8-8\n",
        "\n",
        "# 딕셔너리의 모든 키를 enumerate 함수로 탐색하기\n",
        "\n",
        "rgb = {'red':'빨강', 'green':'초록', 'blue':'파랑'}\n",
        "\n",
        "for i, key in enumerate(rgb):\n",
        "  print('{} {}'.format(i,key))"
      ],
      "metadata": {
        "colab": {
          "base_uri": "https://localhost:8080/"
        },
        "id": "oOq7PcXMkfp9",
        "outputId": "781493ac-4435-49d5-9f7d-bef9a46d0b2c"
      },
      "execution_count": null,
      "outputs": [
        {
          "output_type": "stream",
          "name": "stdout",
          "text": [
            "0 red\n",
            "1 green\n",
            "2 blue\n"
          ]
        }
      ]
    },
    {
      "cell_type": "code",
      "source": [
        "# List 8-9\n",
        "\n",
        "# 딕셔너리의 모든 키를 enumerate 함수로 탐색하기 (카운트를 1부터)\n",
        "\n",
        "rgb = {'red':'빨강', 'green':'초록', 'blue':'파랑'}\n",
        "\n",
        "for i, key in enumerate(rgb,1):\n",
        "  print('{} {}'.format(i, key))"
      ],
      "metadata": {
        "colab": {
          "base_uri": "https://localhost:8080/"
        },
        "id": "3ke6RqRSkx85",
        "outputId": "68ebf92a-e6f9-4b12-9c43-2ede83d71ac9"
      },
      "execution_count": null,
      "outputs": [
        {
          "output_type": "stream",
          "name": "stdout",
          "text": [
            "1 red\n",
            "2 green\n",
            "3 blue\n"
          ]
        }
      ]
    },
    {
      "cell_type": "code",
      "source": [
        "# List 8-10\n",
        "\n",
        "# 딕셔너리의 모든 키를 enumerate 함수로 탐색하기(인덱스 값 없이)\n",
        "\n",
        "rgb = {'red':'빨강', 'green':'초록', 'blue':'파랑'}\n",
        "for key in rgb:\n",
        "  print('{}'.format(key))"
      ],
      "metadata": {
        "colab": {
          "base_uri": "https://localhost:8080/"
        },
        "id": "ZrieHCSnlC5a",
        "outputId": "119dad9e-c52a-4448-ac39-d99626918fc9"
      },
      "execution_count": null,
      "outputs": [
        {
          "output_type": "stream",
          "name": "stdout",
          "text": [
            "red\n",
            "green\n",
            "blue\n"
          ]
        }
      ]
    },
    {
      "cell_type": "markdown",
      "source": [
        "리스트와 같은 탐색을 하면 모든 요소의 키가 추출된다.(값은 추출되지 않는다)  \n",
        "딕셔너리가 키 중심의 형식이라는 것을 알 수 있다."
      ],
      "metadata": {
        "id": "P4l6QMPgl4ey"
      }
    },
    {
      "cell_type": "markdown",
      "source": [
        "#### 딕셔너리와 뷰"
      ],
      "metadata": {
        "id": "h-F4nxxJmw3b"
      }
    },
    {
      "cell_type": "markdown",
      "source": [
        "딕셔너리는 편리하지만 다루기 어렵다는 점을 학습 중입니다.  \n",
        "  \n",
        "예를 들어 프로 야구 결번 딕셔너리의 키는 18, 36, 21 로 제각각입니다.  \n",
        "따라서 어떤 키가 있는지 조사 할 필요가 있는데 3가지 방법을 제시합니다.  \n",
        "  \n",
        "> keys()    ---     모든 키의 dict_keys타입 뷰를 리턴한다.  \n",
        "  valuse()  ---     모든 값의 dict_values타입 뷰를 리턴한다.  \n",
        "  items()   ---     모든 요소(키와 값의 튜플)의 dict_items타입 뷰를 리턴한다.\n",
        "  \n",
        "여기서 뷰(view)는 딕셔너리의 내용을 순서대로 보기위한 가상 테이블입니다.  \n",
        "순서를 가진 요소의 모임인 이터러블 객체입니다.  \n",
        "만약 딕셔너리가 변경되면 뷰도 자동 업데이트 됩니다.  \n",
        "또한 뷰에서는 각종 집합 연산 적용이 가능합니다"
      ],
      "metadata": {
        "id": "T2lsdhRjmyBH"
      }
    },
    {
      "cell_type": "code",
      "source": [
        "# List 8-11\n",
        "\n",
        "# 딕셔너리의 모든 키와 값, 요소를 리스트로 추출하기\n",
        "\n",
        "rgb = {'red':'빨강', 'green':'초록', 'blue':'파랑'}\n",
        "\n",
        "print('키 : ', list(rgb.keys()))\n",
        "print('값 : ', list(rgb.values()))\n",
        "print('요소 : ', list(rgb.items()))"
      ],
      "metadata": {
        "colab": {
          "base_uri": "https://localhost:8080/"
        },
        "id": "prVx-PjcnRN2",
        "outputId": "9baf8d7d-c8bd-47f7-81ae-2570783cd36c"
      },
      "execution_count": null,
      "outputs": [
        {
          "output_type": "stream",
          "name": "stdout",
          "text": [
            "키 :  ['red', 'green', 'blue']\n",
            "값 :  ['빨강', '초록', '파랑']\n",
            "요소 :  [('red', '빨강'), ('green', '초록'), ('blue', '파랑')]\n"
          ]
        }
      ]
    },
    {
      "cell_type": "code",
      "source": [
        "# List 8-12\n",
        "\n",
        "# 딕셔너리에서 추출된 뷰를 저우형 인덱스로 액세스\n",
        "\n",
        "item = list({'red':'빨강', 'green':'초록', 'blue':'파랑'}.items())\n",
        "print(item[0])\n",
        "\n",
        "print(item[2][1])"
      ],
      "metadata": {
        "colab": {
          "base_uri": "https://localhost:8080/"
        },
        "id": "a6SB3Ma6qPtD",
        "outputId": "5bc16d6c-139c-4c33-8c17-5898c8c5f3d0"
      },
      "execution_count": null,
      "outputs": [
        {
          "output_type": "stream",
          "name": "stdout",
          "text": [
            "('red', '빨강')\n",
            "파랑\n"
          ]
        }
      ]
    },
    {
      "cell_type": "code",
      "source": [
        "# List 8-13\n",
        "\n",
        "# 딕셔너리에서 추출한 뷰 탐색\n",
        "\n",
        "rgb = {'red':'빨강', 'green':'초록', 'blue':'파랑'}\n",
        "\n",
        "# keys()로 추출한 뷰 탐색\n",
        "for key in rgb.keys():\n",
        "  print(key)\n",
        "\n",
        "# values()로 추출한 뷰 탐색\n",
        "for value in rgb.values():\n",
        "  print(value)\n",
        "\n",
        "# items()로 추출한 뷰 탐색\n",
        "for item in rgb.items():\n",
        "  print(item)\n",
        "\n",
        "# items()로 언팩하여 뷰 추출하며 탐색\n",
        "for key, val in rgb.items():\n",
        "  print(key, val)"
      ],
      "metadata": {
        "colab": {
          "base_uri": "https://localhost:8080/"
        },
        "id": "j1PcbdpQq2on",
        "outputId": "e01ccf22-85b0-4d04-f0af-fe9fee23eb89"
      },
      "execution_count": null,
      "outputs": [
        {
          "output_type": "stream",
          "name": "stdout",
          "text": [
            "red\n",
            "green\n",
            "blue\n",
            "빨강\n",
            "초록\n",
            "파랑\n",
            "('red', '빨강')\n",
            "('green', '초록')\n",
            "('blue', '파랑')\n",
            "red 빨강\n",
            "green 초록\n",
            "blue 파랑\n"
          ]
        }
      ]
    },
    {
      "cell_type": "markdown",
      "source": [
        "#### 딕셔너리의 활용"
      ],
      "metadata": {
        "id": "YEqQpHLFrfPw"
      }
    },
    {
      "cell_type": "code",
      "source": [
        "# List 8-15\n",
        "\n",
        "# 문자열에 포함된 문자의 출현 횟수를 딕셔너리에 저장하기1\n",
        "\n",
        "txt = input('문자열 : ')\n",
        "count = {}\n",
        "for ch in txt:\n",
        "  if ch not in count:\n",
        "    count[ch] = 1\n",
        "  else:\n",
        "    count[ch] += 1\n",
        "print('분포=',count)\n"
      ],
      "metadata": {
        "colab": {
          "base_uri": "https://localhost:8080/"
        },
        "id": "N-T2dAMkr-qw",
        "outputId": "5be4ff8f-8797-499a-e8d7-72d71557ddc8"
      },
      "execution_count": null,
      "outputs": [
        {
          "output_type": "stream",
          "name": "stdout",
          "text": [
            "문자열 : sdfwasdfs\n",
            "분포= {'s': 3, 'd': 2, 'f': 2, 'w': 1, 'a': 1}\n"
          ]
        }
      ]
    },
    {
      "cell_type": "markdown",
      "source": [
        "#### 딕셔너리 내포 표기 (dictionary comprehension)\n",
        "\n",
        "참고로 리스트의 내포 표기 기본형식은\n",
        "> [식 for 요소 in 이터러블]  \n",
        "\n",
        "딕셔너리의 내포표기 기본형식은\n",
        "> {식 : 식 for 요소 in 이터러블}"
      ],
      "metadata": {
        "id": "XO61WpDLsfso"
      }
    },
    {
      "cell_type": "code",
      "source": [
        "# List 8-16\n",
        "\n",
        "# 문자열에 포함된 문자의 출현 회수를 딕셔너리에 저장하기2 (딕셔너리 내포 표기)\n",
        "\n",
        "txt = input('문자열 : ')\n",
        "\n",
        "count = {ch: txt.count(ch) for ch in txt}\n",
        "\n",
        "print('분포=', count)"
      ],
      "metadata": {
        "colab": {
          "base_uri": "https://localhost:8080/"
        },
        "id": "1ZzEupoBtK06",
        "outputId": "2b26a9a7-a2a5-4952-c698-618d03ce62d4"
      },
      "execution_count": null,
      "outputs": [
        {
          "output_type": "stream",
          "name": "stdout",
          "text": [
            "문자열 : asdfwfd\n",
            "분포= {'a': 1, 's': 1, 'd': 2, 'f': 2, 'w': 1}\n"
          ]
        }
      ]
    },
    {
      "cell_type": "markdown",
      "source": [
        "### 집합  \n",
        "  \n",
        "set 타입인 집합을 학습한다.  \n",
        "집합은 리스트나 튜플처럼 객체의 모임은 맞지만 차이가 있다.  \n",
        "1. 집합에는 순서가 없다 (요소의 순서에 의미가 없다)  \n",
        "2. 가변객체이다  \n",
        "3. 요소가 없으면 거짓이다.  \n",
        "4. 내장함수 copy/len/max/min/sum 사용 가능하다."
      ],
      "metadata": {
        "id": "7ME1fQvMtfOY"
      }
    },
    {
      "cell_type": "markdown",
      "source": [
        "#### 집합의 생성과 집합의 성질"
      ],
      "metadata": {
        "id": "g0gUZwA4wgke"
      }
    },
    {
      "cell_type": "code",
      "source": [
        "# {}로 집합 생성하기\n",
        "\n",
        "set1 = {1}\n",
        "set2 = {1,2,3}\n",
        "set3 = {1,2,3,}\n",
        "set4 = {'A','B','C'}"
      ],
      "metadata": {
        "id": "wjNrJroWw9Qz"
      },
      "execution_count": null,
      "outputs": []
    },
    {
      "cell_type": "code",
      "source": [
        "# set함수로 집합 생성하기\n",
        "\n",
        "set5 = set()          # set()           빈집합\n",
        "set6 = set('ABC')     # {'A','B','C'}   문자열의 개별 문자에서 생성\n",
        "set7 = set([1,2,3])   # {1,2,3}         리스트에서 생성\n",
        "set8 = set([1,2,3,2]) # {1,2,3}         리스트에서 (집합의 성질 : 중복없이) 생성\n",
        "set8 = set((1,2,3))   # {1,2,3}         튜플에서 생성"
      ],
      "metadata": {
        "id": "BGJCqeqxxF_v"
      },
      "execution_count": null,
      "outputs": []
    },
    {
      "cell_type": "code",
      "source": [
        "# 이를 활용하여 리스트나 튜플의 중복 요소를 쉽게 제거할 수 있다.\n",
        "\n",
        "list1 = [1,2,3,2]\n",
        "list2 = list(set(list1))    # 리스트 -> 집합 -> 리스트 변환으로 중복요소 제거\n",
        "print(list2)"
      ],
      "metadata": {
        "colab": {
          "base_uri": "https://localhost:8080/"
        },
        "id": "w0bX1snYxYUB",
        "outputId": "1cb17391-ff7c-49f9-c3dd-0a4b2cbb262e"
      },
      "execution_count": null,
      "outputs": [
        {
          "output_type": "stream",
          "name": "stdout",
          "text": [
            "[1, 2, 3]\n"
          ]
        }
      ]
    },
    {
      "cell_type": "markdown",
      "source": [
        "#### 가변객체이다"
      ],
      "metadata": {
        "id": "aZRJcizax61Y"
      }
    },
    {
      "cell_type": "markdown",
      "source": [
        "집합은 가변 객체이므로 요소를 추가하거나 제거 가능하다.  \n",
        "그러나 딕셔너리의 키로는 사용 불가능하다.  \n",
        "불변 집합형인 동결 집합형(frozenset타입)이 제공된다.  \n",
        "불변객체이므로 딕셔너리의 키나 다르집합의 요소로 사용 가능하다."
      ],
      "metadata": {
        "id": "D2iS99WmyGxI"
      }
    },
    {
      "cell_type": "markdown",
      "source": [
        "#### 요소가 없으면 거짓이다.  \n",
        "요소가 한 개도 없으면 빈 집함은 거짓으로 간주한다."
      ],
      "metadata": {
        "id": "GL-2-hDAyYIY"
      }
    },
    {
      "cell_type": "markdown",
      "source": [
        "#### 내장함수 copy len max min sum 사용 가능하다.  \n",
        "연산자나 함수는 집합을 변경하지 않기 때문임"
      ],
      "metadata": {
        "id": "-C40MkGZyc-9"
      }
    },
    {
      "cell_type": "markdown",
      "source": [
        "#### 등가성 판정"
      ],
      "metadata": {
        "id": "ioXeo6UYyimL"
      }
    },
    {
      "cell_type": "code",
      "source": [
        "# == 과 != 사용가능하다.\n",
        "# 집합에는 같은 요소가 존고하지 않고 순서가 의미가 없음으로 다음과 같은 예시는 True이다.\n",
        "\n",
        "{1,2,1} == {1,1,2} == {1,2}"
      ],
      "metadata": {
        "colab": {
          "base_uri": "https://localhost:8080/"
        },
        "id": "kmOHiEJlysds",
        "outputId": "71e93965-e017-4ac8-f918-aa17bb74525d"
      },
      "execution_count": null,
      "outputs": [
        {
          "output_type": "execute_result",
          "data": {
            "text/plain": [
              "True"
            ]
          },
          "metadata": {},
          "execution_count": 7
        }
      ]
    },
    {
      "cell_type": "markdown",
      "source": [
        "#### 귀속 판정 연산자 in / not in"
      ],
      "metadata": {
        "id": "eiQUOToHy4X5"
      }
    },
    {
      "cell_type": "markdown",
      "source": [
        "요소 x 가 집합에 포함되어있는지 확인이 가능하다.  \n",
        "내부에서 탐색이 이루어지며 리스트보다 빠릅니다."
      ],
      "metadata": {
        "id": "nDMIIv93y71H"
      }
    },
    {
      "cell_type": "markdown",
      "source": [
        "### 집합 기본 조작 방법 (연산자와 메소드)"
      ],
      "metadata": {
        "id": "SzBhpx82zF_O"
      }
    },
    {
      "cell_type": "code",
      "source": [
        "#  연산자            메소드                개요\n",
        "# x in s                                x는 집합 s에 포함되는가?\n",
        "# x not in s                            x는 집합 s에 포함되지 않는가?\n",
        "# s1 == s2                              s1과 s2가 동일한가?\n",
        "# s1 != s2                              s1과 s2는 같지 않는가?\n",
        "#              s1.isdisjoint(s2)        s1과 s2는 서로소인가?\n",
        "# s1 <= s2     s1.issubset(s2)          s1은 s2의 부분 집합인가\n",
        "# s1 <  s2                              s1은 s2의 진부분집합인가?\n",
        "# s1 >= s2     s1.issuperset(s2)        s1은 s2의 초집합인가?(s2의 모든 요소가 s1에 포함되는가)\n",
        "# s1 >  s2                              s1은 s2의 진초집합인가?\n",
        "# s1 | s2      s1.union(s2)             s1과 s2의 합집합을 구한다.\n",
        "# s1 & s2      s1.interection(s2)       s1과 s2의 교집합을 구한다.\n",
        "# s1 - s2      s1.difference(s2)        s1과 s2의 차집합을 구한다.\n",
        "# s1 ^ s2      s1.symmetric_difference(s2) s1과 s2의 대칭차를 구한다.(정확히 한 집합에만 속하는 원들)\n",
        "\n",
        "# 이 연산자와 메소드들은 연산대상의 집합을 업데이트 하지 않습니다.\n",
        "# 따라서 set과 frozenset타입 모두 적용 가능합니다."
      ],
      "metadata": {
        "id": "SJLspK8ezXdd"
      },
      "execution_count": null,
      "outputs": []
    },
    {
      "cell_type": "code",
      "source": [
        "#           s.add(e)              s에 요소 e를 추가한다.\n",
        "#           s.discard(e)          s에서 요소 e를 제거한다.\n",
        "#           s.remove(e)           s에서 요소e를 제거한다. e가 없으면 KeyError를 발생\n",
        "#           s.pop()               s에서 요소를 삭제하고 그 값을 리턴한다.(삭제요소 지정 불가능)\n",
        "#           s.claer()             s에서 모든 요소를 제거한다.\n",
        "# s1 |= s2  s1.union_update(s2)   s1에 s2를 추가한다.\n",
        "# s1 &= s2  s1.intersection_update(s2)  s2에 포함되지 않는 요소를 s1에서 제거한다.\n",
        "# s1 -= s2  s1.difference_update(s2)    s2에 포함되어 있는 요소를 s1에서 제거한다.\n",
        "# s1 ^= s2  s1.symmertric_difference_update(s2) 대칭차를 구한다 // s1을 s1과s2의 대칭차로 업데이트한다.\n",
        "\n",
        "# 이 연산자와 메소드들은 연산의 대상이 되는 집합 s나 s1을 업데이트 합니다.\n",
        "# 따라서 set 타입 집합에만 적용 가능합니다."
      ],
      "metadata": {
        "id": "krXGO-e01rAs"
      },
      "execution_count": null,
      "outputs": []
    },
    {
      "cell_type": "code",
      "source": [
        "# 연산의 피 연산자인 s2는 집합이어야 합니다. 한편 메소드의 인수 s2는 이터러블 객체도 가능합니다."
      ],
      "metadata": {
        "id": "650_y_zR9Tgt"
      },
      "execution_count": null,
      "outputs": []
    },
    {
      "cell_type": "markdown",
      "source": [
        "##### 요소 추가하기(add 메소드)"
      ],
      "metadata": {
        "id": "N8wEfqmO9aF6"
      }
    },
    {
      "cell_type": "code",
      "source": [
        "s = {1,2,3,4,5,6}\n",
        "s.add(9)\n",
        "s"
      ],
      "metadata": {
        "colab": {
          "base_uri": "https://localhost:8080/"
        },
        "id": "wSwRpGAJ-jLD",
        "outputId": "9032b22d-4c3f-4c1e-ac58-1b3d87a85734"
      },
      "execution_count": null,
      "outputs": [
        {
          "output_type": "execute_result",
          "data": {
            "text/plain": [
              "{1, 2, 3, 4, 5, 6, 9}"
            ]
          },
          "metadata": {},
          "execution_count": 19
        }
      ]
    },
    {
      "cell_type": "markdown",
      "source": [
        "##### 요소 제거하기(discard/remove 메소드)"
      ],
      "metadata": {
        "id": "bZ3CxsXt-lxR"
      }
    },
    {
      "cell_type": "code",
      "source": [
        "# discard 메소드\n",
        "\n",
        "s = {1,2,3,4,5,6}\n",
        "s.discard(3)\n",
        "print(s)\n",
        "\n",
        "# remove 메소드\n",
        "\n",
        "s = {1,2,3,4,5,6}\n",
        "s.remove(3)\n",
        "print(s)\n",
        "\n",
        "# s.remove(7)     remove는 요소가 없다면 에러를 발생시킵니다"
      ],
      "metadata": {
        "colab": {
          "base_uri": "https://localhost:8080/"
        },
        "id": "lkhbVcz3-pKB",
        "outputId": "9d733c3c-9871-4138-d041-bb967bdb46b1"
      },
      "execution_count": null,
      "outputs": [
        {
          "output_type": "stream",
          "name": "stdout",
          "text": [
            "{1, 2, 4, 5, 6}\n",
            "{1, 2, 4, 5, 6}\n"
          ]
        }
      ]
    },
    {
      "cell_type": "markdown",
      "source": [
        "##### 임의의 요소 삭제하기(pop메소드)"
      ],
      "metadata": {
        "id": "RUBq18G7-7Mv"
      }
    },
    {
      "cell_type": "code",
      "source": [
        "s = {1,2,3,4,5,6}\n",
        "for _ in range(3) :\n",
        "  e = s.pop()\n",
        "  print(e)\n",
        "  print(s)\n",
        "# pop은 삭제요소를 지정불가능. 무작위로 삭제한다."
      ],
      "metadata": {
        "colab": {
          "base_uri": "https://localhost:8080/"
        },
        "id": "rLbwBged_E43",
        "outputId": "f037e7f0-0426-4005-cd9e-b8dc43384dab"
      },
      "execution_count": null,
      "outputs": [
        {
          "output_type": "stream",
          "name": "stdout",
          "text": [
            "1\n",
            "{2, 3, 4, 5, 6}\n",
            "2\n",
            "{3, 4, 5, 6}\n",
            "3\n",
            "{4, 5, 6}\n"
          ]
        }
      ]
    },
    {
      "cell_type": "markdown",
      "source": [
        "##### 모든 요소 삭제하기(clear)"
      ],
      "metadata": {
        "id": "MCh8Gjfn_Xr6"
      }
    },
    {
      "cell_type": "code",
      "source": [
        "s = {1,2,3,4,5,6}\n",
        "s.clear()\n",
        "print(s)      # 빈 집합 set() 을 출력한다."
      ],
      "metadata": {
        "colab": {
          "base_uri": "https://localhost:8080/"
        },
        "id": "5tBkpF8y_2qL",
        "outputId": "f8b0a243-24f4-47a3-fd7f-86d6aaa2d302"
      },
      "execution_count": null,
      "outputs": [
        {
          "output_type": "stream",
          "name": "stdout",
          "text": [
            "set()\n"
          ]
        }
      ]
    },
    {
      "cell_type": "code",
      "source": [],
      "metadata": {
        "colab": {
          "base_uri": "https://localhost:8080/"
        },
        "id": "EcAFkiZqAiXl",
        "outputId": "7970d8a8-f675-4a85-8733-b9fb03bad473"
      },
      "execution_count": null,
      "outputs": [
        {
          "output_type": "stream",
          "name": "stdout",
          "text": [
            "Object `symmetric_difference_update()` not found.\n"
          ]
        }
      ]
    },
    {
      "cell_type": "markdown",
      "source": [
        "#### 집합 내포 표기\n",
        "\n",
        "리스트와 딕셔너리에서 학습한 내포 표기는 집합에서도 사용 가능합니다.  \n",
        "- {식 for 요소 in 이터러블}"
      ],
      "metadata": {
        "id": "SMBYB3GsBMLG"
      }
    },
    {
      "cell_type": "code",
      "source": [
        "x = {n for n in range(1,8)}\n",
        "print(x)"
      ],
      "metadata": {
        "colab": {
          "base_uri": "https://localhost:8080/"
        },
        "id": "j1yGAZXBCn-X",
        "outputId": "9f5d553a-0972-4c74-ce1d-817c1d8d095d"
      },
      "execution_count": null,
      "outputs": [
        {
          "output_type": "stream",
          "name": "stdout",
          "text": [
            "{1, 2, 3, 4, 5, 6, 7}\n"
          ]
        }
      ]
    },
    {
      "cell_type": "code",
      "source": [],
      "metadata": {
        "id": "-bKgyRY0CwpV"
      },
      "execution_count": null,
      "outputs": []
    }
  ],
  "metadata": {
    "colab": {
      "provenance": [],
      "toc_visible": true,
      "authorship_tag": "ABX9TyMsQl0qu+kVkqcMbD6gl30i",
      "include_colab_link": true
    },
    "gpuClass": "standard",
    "kernelspec": {
      "display_name": "Python 3",
      "name": "python3"
    },
    "language_info": {
      "name": "python"
    }
  },
  "nbformat": 4,
  "nbformat_minor": 0
}