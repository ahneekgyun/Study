{
  "nbformat": 4,
  "nbformat_minor": 0,
  "metadata": {
    "colab": {
      "provenance": [],
      "authorship_tag": "ABX9TyPPEKFYLe9ykhWKgnG99TBs",
      "include_colab_link": true
    },
    "kernelspec": {
      "name": "python3",
      "display_name": "Python 3"
    },
    "language_info": {
      "name": "python"
    }
  },
  "cells": [
    {
      "cell_type": "markdown",
      "metadata": {
        "id": "view-in-github",
        "colab_type": "text"
      },
      "source": [
        "<a href=\"https://colab.research.google.com/github/ahneekgyun/Study/blob/main/Lecture7.ipynb\" target=\"_parent\"><img src=\"https://colab.research.google.com/assets/colab-badge.svg\" alt=\"Open In Colab\"/></a>"
      ]
    },
    {
      "cell_type": "markdown",
      "source": [
        "### Graph"
      ],
      "metadata": {
        "id": "FBFJKMO-Tom-"
      }
    },
    {
      "cell_type": "markdown",
      "source": [
        "G = (V,E), where  \n",
        "> V = set of vertices(nodes)  \n",
        "  E = set of edges  \n",
        "  \n",
        "adjacent(인접한) 이란 뜻은 vertices가 edges로 이어진 경우를 말한다."
      ],
      "metadata": {
        "id": "CiKnfcV2T2hT"
      }
    },
    {
      "cell_type": "markdown",
      "source": [
        "Path : 연속된 edges의 순서  \n",
        "Cycle : path 중 시작과 끝의 vertex가 같은 path  \n",
        "Simple path : cycle이 없는 path  \n",
        "Simple cycle : cycle이 없는 cycle  \n",
        "connected graph : 모든 노드들이 연결되어있는 path  \n",
        "complete graph : 각 vertex가 서로 다 연결되어있는 path  \n",
        "weighted graph : edge에 가중치가 있어 거리가 유의미할 때  \n",
        "directed graph : edge에 방향성이 부여되는 그래프"
      ],
      "metadata": {
        "id": "3CQKq3WMWRHD"
      }
    },
    {
      "cell_type": "markdown",
      "source": [
        "### Tree VS Graph"
      ],
      "metadata": {
        "id": "QTqYOK44XeT3"
      }
    },
    {
      "cell_type": "markdown",
      "source": [
        "트리는 그래프의 특별한 경우이다.  \n",
        "모든 노드가 연결되어 있고, cycle이 없는 그래프가 사실상 트리다."
      ],
      "metadata": {
        "id": "MO4vyrdMYpU2"
      }
    },
    {
      "cell_type": "code",
      "source": [
        "class undirected_graph():\n",
        "  def __init__(self, nodes, edges):\n",
        "    self.v = nodes[:]\n",
        "    self.e = {}\n",
        "    for node in nodes:\n",
        "      self.e[node] = []\n",
        "\n",
        "    for (u,v) in edges:\n",
        "      self.e[v].append(u)\n",
        "      self.e[u].append(v)\n"
      ],
      "metadata": {
        "id": "5iEONFRRZbvC"
      },
      "execution_count": 1,
      "outputs": []
    },
    {
      "cell_type": "code",
      "source": [
        "v = ['a','b','c']\n",
        "e = [('a', 'b'), ('b','c')]\n",
        "graph = undirected_graph(v,e)\n",
        "print(graph.e)"
      ],
      "metadata": {
        "colab": {
          "base_uri": "https://localhost:8080/"
        },
        "id": "6lGZhLxObepS",
        "outputId": "b1241427-7c66-4a9f-8db8-9b9df27ffe1d"
      },
      "execution_count": 2,
      "outputs": [
        {
          "output_type": "stream",
          "name": "stdout",
          "text": [
            "{'a': ['b'], 'b': ['a', 'c'], 'c': ['b']}\n"
          ]
        }
      ]
    },
    {
      "cell_type": "markdown",
      "source": [
        "#### 변형 질문  \n",
        "1. directed graph로 바꿀려면?\n",
        "2. weighted graph로 바꿀려면?"
      ],
      "metadata": {
        "id": "ZVChKKp9b6hc"
      }
    },
    {
      "cell_type": "code",
      "source": [
        "# directed 로 구현하기\n",
        "\n",
        "class undirected_graph():\n",
        "  def __init__(self, nodes, edges):\n",
        "    self.v = nodes[:]\n",
        "    self.e = {}\n",
        "    for node in nodes:\n",
        "      self.e[node] = []\n",
        "\n",
        "    for (u,v) in edges:\n",
        "      self.e[u].append(v) # 방향에 맞는 것만 self.e에 추가한다."
      ],
      "metadata": {
        "id": "gW-4_X36dnTs"
      },
      "execution_count": 3,
      "outputs": []
    },
    {
      "cell_type": "code",
      "source": [
        "# weighted로 구현하기\n",
        "\n",
        "class undirected_graph():\n",
        "  def __init__(self, nodes, edges):\n",
        "    self.v = nodes[:]\n",
        "    self.e = {}\n",
        "    for node in nodes:\n",
        "      self.e[node] = []\n",
        "\n",
        "    for (u,v,d) in edges:\n",
        "      self.e[v].append((u,d))\n",
        "      self.e[u].append((v,d))\n",
        "\n",
        "# Sample graph\n",
        "\n",
        "v = ['a','b','c']\n",
        "e = [('a', 'b', 3), ('b','c', 5)]\n",
        "graph = undirected_graph(v,e)\n",
        "print(graph.e)"
      ],
      "metadata": {
        "colab": {
          "base_uri": "https://localhost:8080/"
        },
        "id": "D_lD7jyAdzqk",
        "outputId": "b793412a-793c-439f-9de6-b73e796a5dd7"
      },
      "execution_count": 7,
      "outputs": [
        {
          "output_type": "stream",
          "name": "stdout",
          "text": [
            "{'a': [('b', 3)], 'b': [('a', 3), ('c', 5)], 'c': [('b', 5)]}\n"
          ]
        }
      ]
    },
    {
      "cell_type": "markdown",
      "source": [
        "### Graph Travelsal"
      ],
      "metadata": {
        "id": "bYmMjOcpezEm"
      }
    },
    {
      "cell_type": "markdown",
      "source": [
        "#### 1. Depth First Search (DFS)  \n",
        "> 갈 수 있는 모든 vertex를 방문하면서 도는 경우임  \n",
        "스택을 활용하여 구현"
      ],
      "metadata": {
        "id": "yTcOPS7AgXYz"
      }
    },
    {
      "cell_type": "markdown",
      "source": [
        "Time complexity of DFS (with adj,matrix)  \n",
        "- node x방문 O(1)\n",
        "- 인접한 노드를 탐색 O(V)\n",
        "- 방문 안한 노드로 이동 O(1)\n",
        "- 만약 방문 안한 노드가 없다면 뒤로 이동 O(1)  \n",
        "  \n",
        "이 과정은 O(V)에 비례함.  \n",
        "  \n",
        "위 과정을 vertex(노드)만큼 해야됨으로 V번 반복해야함.  \n",
        "전체 시간복잡도는 O(V * V)\n"
      ],
      "metadata": {
        "id": "QhHx9SLZhnmY"
      }
    },
    {
      "cell_type": "markdown",
      "source": [
        "Time complexity of DFS (with adj,list)  \n",
        "- node x방문 O(1)\n",
        "- 인접한 노드를 탐색 O(E)\n",
        "- 방문 안한 노드로 이동 O(1)\n",
        "- 만약 방문 안한 노드가 없다면 뒤로 이동 O(1)  \n",
        "  \n",
        "이 과정은 O(E)에 비례함.  \n",
        "  \n",
        "위 과정을 vertex(노드)만큼 해야됨으로 V번 반복해야함.  \n",
        "전체 시간복잡도는 O(V + E)\n"
      ],
      "metadata": {
        "id": "dNIEfPWijwe1"
      }
    },
    {
      "cell_type": "markdown",
      "source": [
        "#### Breadth First Search (BFS)  \n",
        "1. 랜덤한 노드를 선택한다.\n",
        "2. 갈 수 있는 노드를 모두 기록해 놓는다.  \n",
        "3. (2)에서 기록한 노드에서 갈 수 있는 노드를 기록한다. (2)에서 기록한 노드 순서대로 끝날 떄 까지 진행한다.  \n",
        "4. 이렇게 한 노드로 부터 계속 진행하며 진행한다.  \n",
        "\n",
        "먼저 갔던 노드 순서대로 기억하며 탐색해야 하기 때문에 Que를 활용하면 좋다\n"
      ],
      "metadata": {
        "id": "deuerBG_j1zT"
      }
    },
    {
      "cell_type": "markdown",
      "source": [],
      "metadata": {
        "id": "BecH66xwkA91"
      }
    },
    {
      "cell_type": "markdown",
      "source": [
        "Time complexity of BFS (with adj,matrix)  \n",
        "- 우리가 방문한 노드를 dequeue 한다 O(1)\n",
        "- 인접한 노드를 탐색 O(V)\n",
        "  \n",
        "이 과정은 O(V)에 비례함.  \n",
        "  \n",
        "위 과정을 vertex(노드)만큼 해야됨으로 V번 반복해야함.  \n",
        "전체 시간복잡도는 O(V * V)\n"
      ],
      "metadata": {
        "id": "Jd8sfG-_l2_Q"
      }
    },
    {
      "cell_type": "code",
      "source": [],
      "metadata": {
        "id": "jJh1bDkzmKtx"
      },
      "execution_count": null,
      "outputs": []
    },
    {
      "cell_type": "markdown",
      "source": [
        "Time complexity of BFS (with adj,list)  \n",
        "- 우리가 방문한 노드를 dequeue 한다 O(1)\n",
        "- 인접한 노드를 탐색 O(V)\n",
        "  \n",
        "이 과정은 O(E)에 비례함.  \n",
        "  \n",
        "위 과정을 vertex(노드)만큼 해야됨으로 V번 반복해야함.  \n",
        "전체 시간복잡도는 O(V + E)\n"
      ],
      "metadata": {
        "id": "rGtRw_W5mNd5"
      }
    },
    {
      "cell_type": "markdown",
      "source": [
        "### Minimum Spanning Trees"
      ],
      "metadata": {
        "id": "tyZsv90zmRUq"
      }
    },
    {
      "cell_type": "markdown",
      "source": [
        "앞에서 배운 DFS, BFS를 실행 한 후 경로를 표시하면 Tree구조와 같은 형태이다.  \n",
        "즉 각 방식에 맞는 Tree를 하나 만든 것과 같다.  \n",
        "만약 edge에 weight가 있다면 효율적인 트리는 edge의 weight 총합이 적은 상황일 것.  \n",
        "이 효율을 최대로 높이는 방법에 대해 알아보는 것이 Minimum spanning Trees이다"
      ],
      "metadata": {
        "id": "WABl2xvgmXUD"
      }
    },
    {
      "cell_type": "markdown",
      "source": [
        "Greedy 알고리즘 방식을 사용한다.  \n",
        "이 방식은 현재 상황에서 가장 좋은 것을 일단 선택하는 방식을 통칭하는 방식이다.  \n",
        "  \n",
        "Prim's algorithm 이라고 불리는 알고리즘이 이 문제에서는 우수한 방법이다.  \n",
        "남아있는 edge중 가장 적은 값만을 골라가면서 tree를 완성해간다.  \n"
      ],
      "metadata": {
        "id": "kORSb-XbnBHe"
      }
    },
    {
      "cell_type": "code",
      "source": [
        "def prims_mst(graph, start):\n",
        "  visited = [start]\n",
        "  unvisited = graph.nodes.copy().remove(start)\n",
        "  mst = []\n",
        "\n",
        "  while not unvisited.is_empty():\n",
        "    e = least-cost\n",
        "\n",
        "\n",
        "# 시간 복잡도는\n",
        "# O(V * (V+E) )가 된다."
      ],
      "metadata": {
        "id": "v_6PnfIwn27z"
      },
      "execution_count": 9,
      "outputs": []
    },
    {
      "cell_type": "markdown",
      "source": [
        "### Topological Sorting"
      ],
      "metadata": {
        "id": "KJ7UCqgMoVmF"
      }
    },
    {
      "cell_type": "markdown",
      "source": [
        "directed 그래프를 리스트로 나열 할 때 방향이 역방향이 되는 것이 없도록 만드는 것"
      ],
      "metadata": {
        "id": "vki0ifwAoYcW"
      }
    },
    {
      "cell_type": "markdown",
      "source": [
        "Main idea : 가장 마지막 노드부터 채우기 시작한다.  \n",
        "가장 마지막이 될 수 있는 노드를 찾고, 기록하고, 제거하고, 다음 마지막 노드를 찾기를 반복"
      ],
      "metadata": {
        "id": "gvAsolffrLJ8"
      }
    },
    {
      "cell_type": "code",
      "source": [
        "def topological_sort(nodes, deges):\n",
        "  ouput = []\n",
        "  curr_last = Set of all nodes with no icmoing edge\n",
        "\n",
        "  while curr_last is not empty:\n",
        "    target = cu\n",
        "\n",
        "\n",
        "\n",
        "\n",
        "# Time complexity = O(V + E)"
      ],
      "metadata": {
        "colab": {
          "base_uri": "https://localhost:8080/",
          "height": 110
        },
        "id": "c0dYABJcrS9B",
        "outputId": "cf783f5d-0c48-4966-ed9d-20c2646f87b8"
      },
      "execution_count": 10,
      "outputs": [
        {
          "output_type": "error",
          "ename": "SyntaxError",
          "evalue": "invalid syntax (<ipython-input-10-5f9fd930b5f8>, line 3)",
          "traceback": [
            "\u001b[0;36m  File \u001b[0;32m\"<ipython-input-10-5f9fd930b5f8>\"\u001b[0;36m, line \u001b[0;32m3\u001b[0m\n\u001b[0;31m    curr_last = Set of all nodes with no icmoing edge\u001b[0m\n\u001b[0m                    ^\u001b[0m\n\u001b[0;31mSyntaxError\u001b[0m\u001b[0;31m:\u001b[0m invalid syntax\n"
          ]
        }
      ]
    },
    {
      "cell_type": "code",
      "source": [],
      "metadata": {
        "id": "Ga07rmsUsP25"
      },
      "execution_count": null,
      "outputs": []
    }
  ]
}